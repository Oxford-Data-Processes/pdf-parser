{
 "cells": [
  {
   "cell_type": "code",
   "execution_count": 1,
   "metadata": {},
   "outputs": [],
   "source": [
    "import json\n",
    "from jsonschema import validate\n",
    "\n",
    "template = json.load(open(\"src/templates/barclays_template.json\"))\n",
    "\n",
    "with open(\"template_json_schema.json\") as schema_file:\n",
    "    schema = json.load(schema_file)\n",
    "\n",
    "validate(instance=template, schema=schema)"
   ]
  },
  {
   "cell_type": "code",
   "execution_count": 2,
   "metadata": {},
   "outputs": [],
   "source": [
    "from src.extractor import TextExtractor\n",
    "\n",
    "pdf_path = \"data/bank_statements/barclays/pdf/barclays Apr 2.pdf\"   \n",
    "\n",
    "with open(pdf_path, \"rb\") as pdf_file:\n",
    "    pdf_bytes = pdf_file.read()\n",
    "\n",
    "extractor = TextExtractor(pdf_bytes)\n",
    "data = extractor.extract_text()"
   ]
  },
  {
   "cell_type": "code",
   "execution_count": 6,
   "metadata": {},
   "outputs": [],
   "source": [
    "output_json = json.dumps(data, indent=4)\n",
    "with open(\"pdf_data.json\", \"w\") as output_file:\n",
    "    output_file.write(output_json)\n",
    "\n"
   ]
  },
  {
   "cell_type": "code",
   "execution_count": 4,
   "metadata": {},
   "outputs": [],
   "source": [
    "from src.pixel_converter import calculate_percentage_coordinates, pixels\n",
    "\n",
    "pixels = calculate_percentage_coordinates(pixels)"
   ]
  },
  {
   "cell_type": "code",
   "execution_count": 5,
   "metadata": {},
   "outputs": [
    {
     "name": "stdout",
     "output_type": "stream",
     "text": [
      "{\"length\": 2480, \"width\": 3509, \"forms\": {\"sort_code\": {\"page\": 1, \"bounding_box\": {\"top_left\": {\"x\": 1596, \"y\": 1501}, \"box_size\": {\"width\": 141, \"height\": 31}, \"top_left_percentage\": {\"x\": 0.45483, \"y\": 0.605242}, \"bottom_right_percentage\": {\"x\": 0.495013, \"y\": 0.617742}}}, \"account_number\": {\"page\": 1, \"bounding_box\": {\"top_left\": {\"x\": 1931, \"y\": 1499}, \"box_size\": {\"width\": 183, \"height\": 39}, \"top_left_percentage\": {\"x\": 0.550299, \"y\": 0.604435}, \"bottom_right_percentage\": {\"x\": 0.602451, \"y\": 0.620161}}}, \"customer_name\": {\"page\": 1, \"bounding_box\": {\"top_left\": {\"x\": 1448, \"y\": 1686}, \"box_size\": {\"width\": 483, \"height\": 45}, \"top_left_percentage\": {\"x\": 0.412653, \"y\": 0.679839}, \"bottom_right_percentage\": {\"x\": 0.550299, \"y\": 0.697984}}}, \"start_balance\": {\"page\": 2, \"bounding_box\": {\"top_left\": {\"x\": 2150, \"y\": 664}, \"box_size\": {\"width\": 170, \"height\": 40}, \"top_left_percentage\": {\"x\": 0.61271, \"y\": 0.267742}, \"bottom_right_percentage\": {\"x\": 0.661157, \"y\": 0.283871}}}, \"money_in\": {\"page\": 2, \"bounding_box\": {\"top_left\": {\"x\": 2150, \"y\": 732}, \"box_size\": {\"width\": 198, \"height\": 44}, \"top_left_percentage\": {\"x\": 0.61271, \"y\": 0.295161}, \"bottom_right_percentage\": {\"x\": 0.669137, \"y\": 0.312903}}}, \"money_out\": {\"page\": 2, \"bounding_box\": {\"top_left\": {\"x\": 2150, \"y\": 795}, \"box_size\": {\"width\": 198, \"height\": 44}, \"top_left_percentage\": {\"x\": 0.61271, \"y\": 0.320565}, \"bottom_right_percentage\": {\"x\": 0.669137, \"y\": 0.338306}}}, \"end_balance\": {\"page\": 2, \"bounding_box\": {\"top_left\": {\"x\": 2150, \"y\": 859}, \"box_size\": {\"width\": 170, \"height\": 40}, \"top_left_percentage\": {\"x\": 0.61271, \"y\": 0.346371}, \"bottom_right_percentage\": {\"x\": 0.661157, \"y\": 0.3625}}}, \"overdraft_limit\": {\"page\": 2, \"bounding_box\": {\"top_left\": {\"x\": 2200, \"y\": 1045}, \"box_size\": {\"width\": 145, \"height\": 42}, \"top_left_percentage\": {\"x\": 0.626959, \"y\": 0.421371}, \"bottom_right_percentage\": {\"x\": 0.668282, \"y\": 0.438306}}}}, \"tables\": [{\"date\": {\"page\": 2, \"bounding_box\": {\"top_left\": {\"x\": 232, \"y\": 1712}, \"box_size\": {\"width\": 132, \"height\": 1679}, \"top_left_percentage\": {\"x\": 0.066116, \"y\": 0.690323}, \"bottom_right_percentage\": {\"x\": 0.103733, \"y\": 1.367339}}}, \"description\": {\"page\": 2, \"bounding_box\": {\"top_left\": {\"x\": 451, \"y\": 1712}, \"box_size\": {\"width\": 602, \"height\": 1679}, \"top_left_percentage\": {\"x\": 0.128527, \"y\": 0.690323}, \"bottom_right_percentage\": {\"x\": 0.300085, \"y\": 1.367339}}}, \"money_in\": {\"page\": 2, \"bounding_box\": {\"top_left\": {\"x\": 1080, \"y\": 1712}, \"box_size\": {\"width\": 132, \"height\": 1679}, \"top_left_percentage\": {\"x\": 0.30778, \"y\": 0.690323}, \"bottom_right_percentage\": {\"x\": 0.345398, \"y\": 1.367339}}}, \"money_out\": {\"page\": 2, \"bounding_box\": {\"top_left\": {\"x\": 1280, \"y\": 1712}, \"box_size\": {\"width\": 132, \"height\": 1679}, \"top_left_percentage\": {\"x\": 0.364776, \"y\": 0.690323}, \"bottom_right_percentage\": {\"x\": 0.402394, \"y\": 1.367339}}}, \"balance\": {\"page\": 2, \"bounding_box\": {\"top_left\": {\"x\": 1500, \"y\": 1712}, \"box_size\": {\"width\": 132, \"height\": 1679}, \"top_left_percentage\": {\"x\": 0.427472, \"y\": 0.690323}, \"bottom_right_percentage\": {\"x\": 0.46509, \"y\": 1.367339}}}}, {\"date\": {\"page\": 3, \"bounding_box\": {\"top_left\": {\"x\": 232, \"y\": 330}, \"box_size\": {\"width\": 131, \"height\": 2130}, \"top_left_percentage\": {\"x\": 0.066116, \"y\": 0.133065}, \"bottom_right_percentage\": {\"x\": 0.103448, \"y\": 0.991935}}}, \"description\": {\"page\": 3, \"bounding_box\": {\"top_left\": {\"x\": 451, \"y\": 330}, \"box_size\": {\"width\": 602, \"height\": 2215}, \"top_left_percentage\": {\"x\": 0.128527, \"y\": 0.133065}, \"bottom_right_percentage\": {\"x\": 0.300085, \"y\": 1.02621}}}, \"money_in\": {\"page\": 3, \"bounding_box\": {\"top_left\": {\"x\": 1080, \"y\": 330}, \"box_size\": {\"width\": 132, \"height\": 2215}, \"top_left_percentage\": {\"x\": 0.30778, \"y\": 0.133065}, \"bottom_right_percentage\": {\"x\": 0.345398, \"y\": 1.02621}}}, \"money_out\": {\"page\": 3, \"bounding_box\": {\"top_left\": {\"x\": 1280, \"y\": 330}, \"box_size\": {\"width\": 132, \"height\": 2215}, \"top_left_percentage\": {\"x\": 0.364776, \"y\": 0.133065}, \"bottom_right_percentage\": {\"x\": 0.402394, \"y\": 1.02621}}}, \"balance\": {\"page\": 3, \"bounding_box\": {\"top_left\": {\"x\": 1500, \"y\": 330}, \"box_size\": {\"width\": 132, \"height\": 2215}, \"top_left_percentage\": {\"x\": 0.427472, \"y\": 0.133065}, \"bottom_right_percentage\": {\"x\": 0.46509, \"y\": 1.02621}}}}]}\n"
     ]
    }
   ],
   "source": [
    "print(json.dumps(pixels))"
   ]
  },
  {
   "cell_type": "code",
   "execution_count": null,
   "metadata": {},
   "outputs": [],
   "source": []
  },
  {
   "cell_type": "code",
   "execution_count": null,
   "metadata": {},
   "outputs": [],
   "source": []
  }
 ],
 "metadata": {
  "kernelspec": {
   "display_name": "venv",
   "language": "python",
   "name": "python3"
  },
  "language_info": {
   "codemirror_mode": {
    "name": "ipython",
    "version": 3
   },
   "file_extension": ".py",
   "mimetype": "text/x-python",
   "name": "python",
   "nbconvert_exporter": "python",
   "pygments_lexer": "ipython3",
   "version": "3.11.0"
  }
 },
 "nbformat": 4,
 "nbformat_minor": 2
}
