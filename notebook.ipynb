{
 "cells": [
  {
   "cell_type": "code",
   "execution_count": 30,
   "metadata": {},
   "outputs": [],
   "source": [
    "import json\n",
    "from jsonschema import validate\n",
    "\n",
    "template = json.load(open(\"src/templates/barclays_template.json\"))\n",
    "\n",
    "with open(\"template_json_schema.json\") as schema_file:\n",
    "    schema = json.load(schema_file)\n",
    "\n",
    "validate(instance=template, schema=schema)"
   ]
  },
  {
   "cell_type": "code",
   "execution_count": 32,
   "metadata": {},
   "outputs": [
    {
     "data": {
      "text/plain": [
       "Document(metadata=Metadata(document_id='72ac7b47-09c3-444d-a262-d4ebaff7b5ea', parsed_at='2024-11-26T20:28:29', number_of_pages=5), pages=[Page(forms=[RootModel(root={'sort_code': '20-44-51'}), RootModel(root={'account_number': '13415759'}), RootModel(root={'customer_name': 'Miss Meghan Victoria Thorneloe'}), RootModel(root={'start_balance': '-£195.38'}), RootModel(root={'money_in': '£836.00'}), RootModel(root={'money_out': '£566.90'}), RootModel(root={'end_balance': '£73.72'}), RootModel(root={'overdraft_limit': '£500'})], tables=[])])"
      ]
     },
     "execution_count": 32,
     "metadata": {},
     "output_type": "execute_result"
    }
   ],
   "source": [
    "generated_output = json.load(open(\"output_generated.json\"))\n",
    "\n",
    "from src.pydantic_models import Document\n",
    "\n",
    "Document(**generated_output)"
   ]
  },
  {
   "cell_type": "code",
   "execution_count": null,
   "metadata": {},
   "outputs": [],
   "source": [
    "\n"
   ]
  }
 ],
 "metadata": {
  "kernelspec": {
   "display_name": "venv",
   "language": "python",
   "name": "python3"
  },
  "language_info": {
   "codemirror_mode": {
    "name": "ipython",
    "version": 3
   },
   "file_extension": ".py",
   "mimetype": "text/x-python",
   "name": "python",
   "nbconvert_exporter": "python",
   "pygments_lexer": "ipython3",
   "version": "3.11.0"
  }
 },
 "nbformat": 4,
 "nbformat_minor": 2
}
