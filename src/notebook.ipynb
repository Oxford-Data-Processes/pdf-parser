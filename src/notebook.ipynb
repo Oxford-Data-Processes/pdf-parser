{
 "cells": [
  {
   "cell_type": "code",
   "execution_count": null,
   "metadata": {},
   "outputs": [],
   "source": [
    "\n"
   ]
  },
  {
   "cell_type": "code",
   "execution_count": 5,
   "metadata": {},
   "outputs": [
    {
     "name": "stderr",
     "output_type": "stream",
     "text": [
      "[nltk_data] Downloading package words to\n",
      "[nltk_data]     /Users/chrislittle/nltk_data...\n",
      "[nltk_data]   Package words is already up-to-date!\n"
     ]
    },
    {
     "data": {
      "application/vnd.plotly.v1+json": {
       "config": {
        "plotlyServerURL": "https://plot.ly"
       },
       "data": [
        {
         "alignmentgroup": "True",
         "hovertemplate": "Extraction Method=PDF Plumber<br>Document Info=%{x}<br>Ratio=%{y}<extra></extra>",
         "legendgroup": "PDF Plumber",
         "marker": {
          "color": "#636efa",
          "pattern": {
           "shape": ""
          }
         },
         "name": "PDF Plumber",
         "offsetgroup": "PDF Plumber",
         "orientation": "v",
         "showlegend": true,
         "textposition": "auto",
         "type": "bar",
         "x": [
          "bank_statements barclays_student march",
          "bank_statements barclays_student april",
          "bank_statements barclays_student may",
          "bank_statements barclays march",
          "bank_statements barclays april",
          "bank_statements barclays may",
          "bank_statements first_direct march",
          "bank_statements first_direct april",
          "bank_statements first_direct may",
          "bank_statements halifax march",
          "bank_statements halifax april",
          "bank_statements halifax may",
          "bank_statements lloyds september",
          "bank_statements monzo november",
          "bank_statements monzo 3_months",
          "payslips payslip jake"
         ],
         "xaxis": "x",
         "y": [
          0.7533875338753387,
          0.7513368983957219,
          0.746031746031746,
          0.7274881516587678,
          0.7301980198019802,
          0.7506426735218509,
          0.7357954545454546,
          0.7428571428571429,
          0.7363896848137536,
          0.5517241379310345,
          0.5448275862068965,
          0.5808823529411765,
          0.4911242603550296,
          0.5233644859813084,
          0.5114503816793893,
          0.5806451612903226
         ],
         "yaxis": "y"
        },
        {
         "alignmentgroup": "True",
         "hovertemplate": "Extraction Method=Pytesseract<br>Document Info=%{x}<br>Ratio=%{y}<extra></extra>",
         "legendgroup": "Pytesseract",
         "marker": {
          "color": "#EF553B",
          "pattern": {
           "shape": ""
          }
         },
         "name": "Pytesseract",
         "offsetgroup": "Pytesseract",
         "orientation": "v",
         "showlegend": true,
         "textposition": "auto",
         "type": "bar",
         "x": [
          "bank_statements barclays_student march",
          "bank_statements barclays_student april",
          "bank_statements barclays_student may",
          "bank_statements barclays march",
          "bank_statements barclays april",
          "bank_statements barclays may",
          "bank_statements first_direct march",
          "bank_statements first_direct april",
          "bank_statements first_direct may",
          "bank_statements halifax march",
          "bank_statements halifax april",
          "bank_statements halifax may",
          "bank_statements lloyds september",
          "bank_statements monzo november",
          "bank_statements monzo 3_months",
          "payslips payslip jake"
         ],
         "xaxis": "x",
         "y": [
          0.4038876889848812,
          0.40809628008752735,
          0.4067245119305857,
          0.40968718466195764,
          0.4027196652719665,
          0.4167561761546724,
          0.48663101604278075,
          0.47229551451187335,
          0.4837905236907731,
          0.5555555555555556,
          0.5178571428571429,
          0.5423728813559322,
          0.5463414634146342,
          0.4306569343065693,
          0.3879781420765027,
          0.41916167664670656
         ],
         "yaxis": "y"
        },
        {
         "alignmentgroup": "True",
         "hovertemplate": "Extraction Method=PDF Plumber Brand Ratio<br>Document Info=%{x}<br>Ratio=%{y}<extra></extra>",
         "legendgroup": "PDF Plumber Brand Ratio",
         "marker": {
          "color": "#00cc96",
          "pattern": {
           "shape": ""
          }
         },
         "name": "PDF Plumber Brand Ratio",
         "offsetgroup": "PDF Plumber Brand Ratio",
         "orientation": "v",
         "showlegend": true,
         "textposition": "auto",
         "type": "bar",
         "x": [
          "bank_statements barclays_student march",
          "bank_statements barclays_student april",
          "bank_statements barclays_student may",
          "bank_statements barclays march",
          "bank_statements barclays april",
          "bank_statements barclays may",
          "bank_statements first_direct march",
          "bank_statements first_direct april",
          "bank_statements first_direct may",
          "bank_statements halifax march",
          "bank_statements halifax april",
          "bank_statements halifax may",
          "bank_statements lloyds september",
          "bank_statements monzo november",
          "bank_statements monzo 3_months",
          "payslips payslip jake"
         ],
         "xaxis": "x",
         "y": [
          0,
          0,
          0,
          0.004739336492890996,
          0.0024752475247524753,
          0.002570694087403599,
          0.002840909090909091,
          0.002857142857142857,
          0.0028653295128939827,
          0,
          0,
          0,
          0.005917159763313609,
          0.028037383177570093,
          0.04580152671755725,
          0
         ],
         "yaxis": "y"
        },
        {
         "alignmentgroup": "True",
         "hovertemplate": "Extraction Method=Pytesseract Brand Ratio<br>Document Info=%{x}<br>Ratio=%{y}<extra></extra>",
         "legendgroup": "Pytesseract Brand Ratio",
         "marker": {
          "color": "#ab63fa",
          "pattern": {
           "shape": ""
          }
         },
         "name": "Pytesseract Brand Ratio",
         "offsetgroup": "Pytesseract Brand Ratio",
         "orientation": "v",
         "showlegend": true,
         "textposition": "auto",
         "type": "bar",
         "x": [
          "bank_statements barclays_student march",
          "bank_statements barclays_student april",
          "bank_statements barclays_student may",
          "bank_statements barclays march",
          "bank_statements barclays april",
          "bank_statements barclays may",
          "bank_statements first_direct march",
          "bank_statements first_direct april",
          "bank_statements first_direct may",
          "bank_statements halifax march",
          "bank_statements halifax april",
          "bank_statements halifax may",
          "bank_statements lloyds september",
          "bank_statements monzo november",
          "bank_statements monzo 3_months",
          "payslips payslip jake"
         ],
         "xaxis": "x",
         "y": [
          0,
          0,
          0,
          0.0010090817356205853,
          0.0010460251046025104,
          0.0010741138560687433,
          0.00267379679144385,
          0,
          0.0024937655860349127,
          0.011111111111111112,
          0.005952380952380952,
          0.011299435028248588,
          0.004878048780487805,
          0.021897810218978103,
          0.03278688524590164,
          0
         ],
         "yaxis": "y"
        },
        {
         "alignmentgroup": "True",
         "hovertemplate": "Extraction Method=PDF Plumber City Ratio<br>Document Info=%{x}<br>Ratio=%{y}<extra></extra>",
         "legendgroup": "PDF Plumber City Ratio",
         "marker": {
          "color": "#FFA15A",
          "pattern": {
           "shape": ""
          }
         },
         "name": "PDF Plumber City Ratio",
         "offsetgroup": "PDF Plumber City Ratio",
         "orientation": "v",
         "showlegend": true,
         "textposition": "auto",
         "type": "bar",
         "x": [
          "bank_statements barclays_student march",
          "bank_statements barclays_student april",
          "bank_statements barclays_student may",
          "bank_statements barclays march",
          "bank_statements barclays april",
          "bank_statements barclays may",
          "bank_statements first_direct march",
          "bank_statements first_direct april",
          "bank_statements first_direct may",
          "bank_statements halifax march",
          "bank_statements halifax april",
          "bank_statements halifax may",
          "bank_statements lloyds september",
          "bank_statements monzo november",
          "bank_statements monzo 3_months",
          "payslips payslip jake"
         ],
         "xaxis": "x",
         "y": [
          0.0027100271002710027,
          0.00267379679144385,
          0.0026455026455026454,
          0.004739336492890996,
          0.0049504950495049506,
          0.005141388174807198,
          0.005681818181818182,
          0.002857142857142857,
          0.0028653295128939827,
          0.006896551724137931,
          0.006896551724137931,
          0.007352941176470588,
          0.011834319526627219,
          0.018691588785046728,
          0.015267175572519083,
          0
         ],
         "yaxis": "y"
        },
        {
         "alignmentgroup": "True",
         "hovertemplate": "Extraction Method=Pytesseract City Ratio<br>Document Info=%{x}<br>Ratio=%{y}<extra></extra>",
         "legendgroup": "Pytesseract City Ratio",
         "marker": {
          "color": "#19d3f3",
          "pattern": {
           "shape": ""
          }
         },
         "name": "Pytesseract City Ratio",
         "offsetgroup": "Pytesseract City Ratio",
         "orientation": "v",
         "showlegend": true,
         "textposition": "auto",
         "type": "bar",
         "x": [
          "bank_statements barclays_student march",
          "bank_statements barclays_student april",
          "bank_statements barclays_student may",
          "bank_statements barclays march",
          "bank_statements barclays april",
          "bank_statements barclays may",
          "bank_statements first_direct march",
          "bank_statements first_direct april",
          "bank_statements first_direct may",
          "bank_statements halifax march",
          "bank_statements halifax april",
          "bank_statements halifax may",
          "bank_statements lloyds september",
          "bank_statements monzo november",
          "bank_statements monzo 3_months",
          "payslips payslip jake"
         ],
         "xaxis": "x",
         "y": [
          0,
          0,
          0,
          0.0010090817356205853,
          0,
          0,
          0.00267379679144385,
          0.002638522427440633,
          0.0024937655860349127,
          0,
          0,
          0,
          0.004878048780487805,
          0.014598540145985401,
          0.01092896174863388,
          0
         ],
         "yaxis": "y"
        }
       ],
       "layout": {
        "barmode": "group",
        "legend": {
         "title": {
          "text": "Extraction Method"
         },
         "tracegroupgap": 0
        },
        "template": {
         "data": {
          "bar": [
           {
            "error_x": {
             "color": "#2a3f5f"
            },
            "error_y": {
             "color": "#2a3f5f"
            },
            "marker": {
             "line": {
              "color": "#E5ECF6",
              "width": 0.5
             },
             "pattern": {
              "fillmode": "overlay",
              "size": 10,
              "solidity": 0.2
             }
            },
            "type": "bar"
           }
          ],
          "barpolar": [
           {
            "marker": {
             "line": {
              "color": "#E5ECF6",
              "width": 0.5
             },
             "pattern": {
              "fillmode": "overlay",
              "size": 10,
              "solidity": 0.2
             }
            },
            "type": "barpolar"
           }
          ],
          "carpet": [
           {
            "aaxis": {
             "endlinecolor": "#2a3f5f",
             "gridcolor": "white",
             "linecolor": "white",
             "minorgridcolor": "white",
             "startlinecolor": "#2a3f5f"
            },
            "baxis": {
             "endlinecolor": "#2a3f5f",
             "gridcolor": "white",
             "linecolor": "white",
             "minorgridcolor": "white",
             "startlinecolor": "#2a3f5f"
            },
            "type": "carpet"
           }
          ],
          "choropleth": [
           {
            "colorbar": {
             "outlinewidth": 0,
             "ticks": ""
            },
            "type": "choropleth"
           }
          ],
          "contour": [
           {
            "colorbar": {
             "outlinewidth": 0,
             "ticks": ""
            },
            "colorscale": [
             [
              0,
              "#0d0887"
             ],
             [
              0.1111111111111111,
              "#46039f"
             ],
             [
              0.2222222222222222,
              "#7201a8"
             ],
             [
              0.3333333333333333,
              "#9c179e"
             ],
             [
              0.4444444444444444,
              "#bd3786"
             ],
             [
              0.5555555555555556,
              "#d8576b"
             ],
             [
              0.6666666666666666,
              "#ed7953"
             ],
             [
              0.7777777777777778,
              "#fb9f3a"
             ],
             [
              0.8888888888888888,
              "#fdca26"
             ],
             [
              1,
              "#f0f921"
             ]
            ],
            "type": "contour"
           }
          ],
          "contourcarpet": [
           {
            "colorbar": {
             "outlinewidth": 0,
             "ticks": ""
            },
            "type": "contourcarpet"
           }
          ],
          "heatmap": [
           {
            "colorbar": {
             "outlinewidth": 0,
             "ticks": ""
            },
            "colorscale": [
             [
              0,
              "#0d0887"
             ],
             [
              0.1111111111111111,
              "#46039f"
             ],
             [
              0.2222222222222222,
              "#7201a8"
             ],
             [
              0.3333333333333333,
              "#9c179e"
             ],
             [
              0.4444444444444444,
              "#bd3786"
             ],
             [
              0.5555555555555556,
              "#d8576b"
             ],
             [
              0.6666666666666666,
              "#ed7953"
             ],
             [
              0.7777777777777778,
              "#fb9f3a"
             ],
             [
              0.8888888888888888,
              "#fdca26"
             ],
             [
              1,
              "#f0f921"
             ]
            ],
            "type": "heatmap"
           }
          ],
          "heatmapgl": [
           {
            "colorbar": {
             "outlinewidth": 0,
             "ticks": ""
            },
            "colorscale": [
             [
              0,
              "#0d0887"
             ],
             [
              0.1111111111111111,
              "#46039f"
             ],
             [
              0.2222222222222222,
              "#7201a8"
             ],
             [
              0.3333333333333333,
              "#9c179e"
             ],
             [
              0.4444444444444444,
              "#bd3786"
             ],
             [
              0.5555555555555556,
              "#d8576b"
             ],
             [
              0.6666666666666666,
              "#ed7953"
             ],
             [
              0.7777777777777778,
              "#fb9f3a"
             ],
             [
              0.8888888888888888,
              "#fdca26"
             ],
             [
              1,
              "#f0f921"
             ]
            ],
            "type": "heatmapgl"
           }
          ],
          "histogram": [
           {
            "marker": {
             "pattern": {
              "fillmode": "overlay",
              "size": 10,
              "solidity": 0.2
             }
            },
            "type": "histogram"
           }
          ],
          "histogram2d": [
           {
            "colorbar": {
             "outlinewidth": 0,
             "ticks": ""
            },
            "colorscale": [
             [
              0,
              "#0d0887"
             ],
             [
              0.1111111111111111,
              "#46039f"
             ],
             [
              0.2222222222222222,
              "#7201a8"
             ],
             [
              0.3333333333333333,
              "#9c179e"
             ],
             [
              0.4444444444444444,
              "#bd3786"
             ],
             [
              0.5555555555555556,
              "#d8576b"
             ],
             [
              0.6666666666666666,
              "#ed7953"
             ],
             [
              0.7777777777777778,
              "#fb9f3a"
             ],
             [
              0.8888888888888888,
              "#fdca26"
             ],
             [
              1,
              "#f0f921"
             ]
            ],
            "type": "histogram2d"
           }
          ],
          "histogram2dcontour": [
           {
            "colorbar": {
             "outlinewidth": 0,
             "ticks": ""
            },
            "colorscale": [
             [
              0,
              "#0d0887"
             ],
             [
              0.1111111111111111,
              "#46039f"
             ],
             [
              0.2222222222222222,
              "#7201a8"
             ],
             [
              0.3333333333333333,
              "#9c179e"
             ],
             [
              0.4444444444444444,
              "#bd3786"
             ],
             [
              0.5555555555555556,
              "#d8576b"
             ],
             [
              0.6666666666666666,
              "#ed7953"
             ],
             [
              0.7777777777777778,
              "#fb9f3a"
             ],
             [
              0.8888888888888888,
              "#fdca26"
             ],
             [
              1,
              "#f0f921"
             ]
            ],
            "type": "histogram2dcontour"
           }
          ],
          "mesh3d": [
           {
            "colorbar": {
             "outlinewidth": 0,
             "ticks": ""
            },
            "type": "mesh3d"
           }
          ],
          "parcoords": [
           {
            "line": {
             "colorbar": {
              "outlinewidth": 0,
              "ticks": ""
             }
            },
            "type": "parcoords"
           }
          ],
          "pie": [
           {
            "automargin": true,
            "type": "pie"
           }
          ],
          "scatter": [
           {
            "fillpattern": {
             "fillmode": "overlay",
             "size": 10,
             "solidity": 0.2
            },
            "type": "scatter"
           }
          ],
          "scatter3d": [
           {
            "line": {
             "colorbar": {
              "outlinewidth": 0,
              "ticks": ""
             }
            },
            "marker": {
             "colorbar": {
              "outlinewidth": 0,
              "ticks": ""
             }
            },
            "type": "scatter3d"
           }
          ],
          "scattercarpet": [
           {
            "marker": {
             "colorbar": {
              "outlinewidth": 0,
              "ticks": ""
             }
            },
            "type": "scattercarpet"
           }
          ],
          "scattergeo": [
           {
            "marker": {
             "colorbar": {
              "outlinewidth": 0,
              "ticks": ""
             }
            },
            "type": "scattergeo"
           }
          ],
          "scattergl": [
           {
            "marker": {
             "colorbar": {
              "outlinewidth": 0,
              "ticks": ""
             }
            },
            "type": "scattergl"
           }
          ],
          "scattermapbox": [
           {
            "marker": {
             "colorbar": {
              "outlinewidth": 0,
              "ticks": ""
             }
            },
            "type": "scattermapbox"
           }
          ],
          "scatterpolar": [
           {
            "marker": {
             "colorbar": {
              "outlinewidth": 0,
              "ticks": ""
             }
            },
            "type": "scatterpolar"
           }
          ],
          "scatterpolargl": [
           {
            "marker": {
             "colorbar": {
              "outlinewidth": 0,
              "ticks": ""
             }
            },
            "type": "scatterpolargl"
           }
          ],
          "scatterternary": [
           {
            "marker": {
             "colorbar": {
              "outlinewidth": 0,
              "ticks": ""
             }
            },
            "type": "scatterternary"
           }
          ],
          "surface": [
           {
            "colorbar": {
             "outlinewidth": 0,
             "ticks": ""
            },
            "colorscale": [
             [
              0,
              "#0d0887"
             ],
             [
              0.1111111111111111,
              "#46039f"
             ],
             [
              0.2222222222222222,
              "#7201a8"
             ],
             [
              0.3333333333333333,
              "#9c179e"
             ],
             [
              0.4444444444444444,
              "#bd3786"
             ],
             [
              0.5555555555555556,
              "#d8576b"
             ],
             [
              0.6666666666666666,
              "#ed7953"
             ],
             [
              0.7777777777777778,
              "#fb9f3a"
             ],
             [
              0.8888888888888888,
              "#fdca26"
             ],
             [
              1,
              "#f0f921"
             ]
            ],
            "type": "surface"
           }
          ],
          "table": [
           {
            "cells": {
             "fill": {
              "color": "#EBF0F8"
             },
             "line": {
              "color": "white"
             }
            },
            "header": {
             "fill": {
              "color": "#C8D4E3"
             },
             "line": {
              "color": "white"
             }
            },
            "type": "table"
           }
          ]
         },
         "layout": {
          "annotationdefaults": {
           "arrowcolor": "#2a3f5f",
           "arrowhead": 0,
           "arrowwidth": 1
          },
          "autotypenumbers": "strict",
          "coloraxis": {
           "colorbar": {
            "outlinewidth": 0,
            "ticks": ""
           }
          },
          "colorscale": {
           "diverging": [
            [
             0,
             "#8e0152"
            ],
            [
             0.1,
             "#c51b7d"
            ],
            [
             0.2,
             "#de77ae"
            ],
            [
             0.3,
             "#f1b6da"
            ],
            [
             0.4,
             "#fde0ef"
            ],
            [
             0.5,
             "#f7f7f7"
            ],
            [
             0.6,
             "#e6f5d0"
            ],
            [
             0.7,
             "#b8e186"
            ],
            [
             0.8,
             "#7fbc41"
            ],
            [
             0.9,
             "#4d9221"
            ],
            [
             1,
             "#276419"
            ]
           ],
           "sequential": [
            [
             0,
             "#0d0887"
            ],
            [
             0.1111111111111111,
             "#46039f"
            ],
            [
             0.2222222222222222,
             "#7201a8"
            ],
            [
             0.3333333333333333,
             "#9c179e"
            ],
            [
             0.4444444444444444,
             "#bd3786"
            ],
            [
             0.5555555555555556,
             "#d8576b"
            ],
            [
             0.6666666666666666,
             "#ed7953"
            ],
            [
             0.7777777777777778,
             "#fb9f3a"
            ],
            [
             0.8888888888888888,
             "#fdca26"
            ],
            [
             1,
             "#f0f921"
            ]
           ],
           "sequentialminus": [
            [
             0,
             "#0d0887"
            ],
            [
             0.1111111111111111,
             "#46039f"
            ],
            [
             0.2222222222222222,
             "#7201a8"
            ],
            [
             0.3333333333333333,
             "#9c179e"
            ],
            [
             0.4444444444444444,
             "#bd3786"
            ],
            [
             0.5555555555555556,
             "#d8576b"
            ],
            [
             0.6666666666666666,
             "#ed7953"
            ],
            [
             0.7777777777777778,
             "#fb9f3a"
            ],
            [
             0.8888888888888888,
             "#fdca26"
            ],
            [
             1,
             "#f0f921"
            ]
           ]
          },
          "colorway": [
           "#636efa",
           "#EF553B",
           "#00cc96",
           "#ab63fa",
           "#FFA15A",
           "#19d3f3",
           "#FF6692",
           "#B6E880",
           "#FF97FF",
           "#FECB52"
          ],
          "font": {
           "color": "#2a3f5f"
          },
          "geo": {
           "bgcolor": "white",
           "lakecolor": "white",
           "landcolor": "#E5ECF6",
           "showlakes": true,
           "showland": true,
           "subunitcolor": "white"
          },
          "hoverlabel": {
           "align": "left"
          },
          "hovermode": "closest",
          "mapbox": {
           "style": "light"
          },
          "paper_bgcolor": "white",
          "plot_bgcolor": "#E5ECF6",
          "polar": {
           "angularaxis": {
            "gridcolor": "white",
            "linecolor": "white",
            "ticks": ""
           },
           "bgcolor": "#E5ECF6",
           "radialaxis": {
            "gridcolor": "white",
            "linecolor": "white",
            "ticks": ""
           }
          },
          "scene": {
           "xaxis": {
            "backgroundcolor": "#E5ECF6",
            "gridcolor": "white",
            "gridwidth": 2,
            "linecolor": "white",
            "showbackground": true,
            "ticks": "",
            "zerolinecolor": "white"
           },
           "yaxis": {
            "backgroundcolor": "#E5ECF6",
            "gridcolor": "white",
            "gridwidth": 2,
            "linecolor": "white",
            "showbackground": true,
            "ticks": "",
            "zerolinecolor": "white"
           },
           "zaxis": {
            "backgroundcolor": "#E5ECF6",
            "gridcolor": "white",
            "gridwidth": 2,
            "linecolor": "white",
            "showbackground": true,
            "ticks": "",
            "zerolinecolor": "white"
           }
          },
          "shapedefaults": {
           "line": {
            "color": "#2a3f5f"
           }
          },
          "ternary": {
           "aaxis": {
            "gridcolor": "white",
            "linecolor": "white",
            "ticks": ""
           },
           "baxis": {
            "gridcolor": "white",
            "linecolor": "white",
            "ticks": ""
           },
           "bgcolor": "#E5ECF6",
           "caxis": {
            "gridcolor": "white",
            "linecolor": "white",
            "ticks": ""
           }
          },
          "title": {
           "x": 0.05
          },
          "xaxis": {
           "automargin": true,
           "gridcolor": "white",
           "linecolor": "white",
           "ticks": "",
           "title": {
            "standoff": 15
           },
           "zerolinecolor": "white",
           "zerolinewidth": 2
          },
          "yaxis": {
           "automargin": true,
           "gridcolor": "white",
           "linecolor": "white",
           "ticks": "",
           "title": {
            "standoff": 15
           },
           "zerolinecolor": "white",
           "zerolinewidth": 2
          }
         }
        },
        "title": {
         "text": "Ratio of Recognized English Words, Brand Names, and UK City Names in PDF Plumber and Pytesseract"
        },
        "xaxis": {
         "anchor": "y",
         "domain": [
          0,
          1
         ],
         "title": {
          "text": "Document Info"
         }
        },
        "yaxis": {
         "anchor": "x",
         "domain": [
          0,
          1
         ],
         "title": {
          "text": "Ratio"
         }
        }
       }
      }
     },
     "metadata": {},
     "output_type": "display_data"
    }
   ],
   "source": [
    "import json\n",
    "\n",
    "import numpy as np\n",
    "import plotly.express as px\n",
    "import pandas as pd\n",
    "from nltk.corpus import words\n",
    "import re\n",
    "\n",
    "# Ensure the words corpus is downloaded\n",
    "import nltk\n",
    "nltk.download('words')\n",
    "\n",
    "# Create a set of English words for recognition\n",
    "english_words = set(words.words())\n",
    "\n",
    "# Define a set of known brand names\n",
    "brand_names = {\n",
    "    \"tesco\", \"costa\", \"paddy\", \"sainsburys\", \"nike\", \"starbucks\", \"mcdonalds\", \"apple\", \"amazon\", \"google\", \"adidas\"\n",
    "}\n",
    "\n",
    "# Define a set of known UK city names\n",
    "uk_city_names = {\n",
    "    \"london\", \"manchester\", \"birmingham\", \"leeds\", \"glasgow\", \"sheffield\", \"bristol\", \"coventry\", \"nottingham\", \"cardiff\",\n",
    "    \"edinburgh\", \"liverpool\", \"newcastle\", \"southampton\", \"brighton\", \"derby\", \"oxford\", \"cambridge\", \"plymouth\", \"stoke\"\n",
    "}\n",
    "\n",
    "config = {\n",
    "    \"bank_statements\": {\n",
    "        \"barclays_student\": {\n",
    "            \"identifiers\": [\"march\", \"april\", \"may\"],\n",
    "            \"extraction_method\": \"pdf_plumber\"\n",
    "        },\n",
    "        \"barclays\": {\n",
    "            \"identifiers\": [\"march\", \"april\", \"may\"],\n",
    "            \"extraction_method\": \"pdf_plumber\"\n",
    "        },\n",
    "        \"first_direct\": {\n",
    "            \"identifiers\": [\"march\", \"april\", \"may\"],\n",
    "            \"extraction_method\": \"pdf_plumber\"\n",
    "        },\n",
    "        \"halifax\": {\n",
    "            \"identifiers\": [\"march\", \"april\", \"may\"],\n",
    "            \"extraction_method\": \"pytesseract\"\n",
    "        },\n",
    "        \"lloyds\": {\n",
    "            \"identifiers\": [\"september\"],\n",
    "            \"extraction_method\": \"pytesseract\"\n",
    "        },\n",
    "        \"monzo\": {\n",
    "            \"identifiers\": [\"november\", \"3_months\"],\n",
    "            \"extraction_method\": \"pdf_plumber\"\n",
    "        },\n",
    "    },\n",
    "    \"payslips\": {\n",
    "        \"payslip\": {\n",
    "            \"identifiers\": [\"jake\"],\n",
    "            \"extraction_method\": \"pdf_plumber\"\n",
    "        },\n",
    "    },\n",
    "}\n",
    "\n",
    "results = []\n",
    "\n",
    "# Loop through each document type and its templates and identifiers\n",
    "for document_type, templates_and_identifiers in config.items():\n",
    "    for template_name, identifiers in templates_and_identifiers.items():\n",
    "        for identifier in identifiers[\"identifiers\"]:\n",
    "            # Load the response.json file\n",
    "            file_path = f\"text_extraction/{document_type}/{template_name}/{template_name}_{identifier}/response.json\"\n",
    "            with open(file_path, \"r\") as file:\n",
    "                data = json.load(file)\n",
    "\n",
    "            # Split the text data into words and remove non-word characters, ensuring all characters are alphabetic\n",
    "            pytesseract_words = set(re.sub(r'\\W+', '', word).lower() for text in data[\"pytesseract\"] for word in text.split() if word.isalpha())\n",
    "            pdf_plumber_words = set(re.sub(r'\\W+', '', word).lower() for text in data[\"pdf_plumber\"] for word in text.split() if word.isalpha())\n",
    "\n",
    "            # Calculate the number of recognized English words in pdf_plumber\n",
    "            recognized_pdf_plumber_words = pdf_plumber_words.intersection(english_words)\n",
    "            pdf_plumber_recognized_count = len(recognized_pdf_plumber_words)\n",
    "\n",
    "            # Calculate the number of recognized English words in pytesseract\n",
    "            recognized_pytesseract_words = pytesseract_words.intersection(english_words)\n",
    "            pytesseract_recognized_count = len(recognized_pytesseract_words)\n",
    "\n",
    "            # Calculate the number of recognized brand names in pdf_plumber\n",
    "            recognized_pdf_plumber_brands = pdf_plumber_words.intersection(brand_names)\n",
    "            pdf_plumber_brand_count = len(recognized_pdf_plumber_brands)\n",
    "\n",
    "            # Calculate the number of recognized brand names in pytesseract\n",
    "            recognized_pytesseract_brands = pytesseract_words.intersection(brand_names)\n",
    "            pytesseract_brand_count = len(recognized_pytesseract_brands)\n",
    "\n",
    "            # Calculate the number of recognized UK city names in pdf_plumber\n",
    "            recognized_pdf_plumber_cities = pdf_plumber_words.intersection(uk_city_names)\n",
    "            pdf_plumber_city_count = len(recognized_pdf_plumber_cities)\n",
    "\n",
    "            # Calculate the number of recognized UK city names in pytesseract\n",
    "            recognized_pytesseract_cities = pytesseract_words.intersection(uk_city_names)\n",
    "            pytesseract_city_count = len(recognized_pytesseract_cities)\n",
    "\n",
    "            words_data = {\n",
    "                \"pdf_plumber_words\": list(pdf_plumber_words),\n",
    "                \"pytesseract_words\": list(pytesseract_words),\n",
    "                \"pdf_plumber_recognized_count\": pdf_plumber_recognized_count,\n",
    "                \"pytesseract_recognized_count\": pytesseract_recognized_count,\n",
    "                \"pdf_plumber_brand_count\": pdf_plumber_brand_count,\n",
    "                \"pytesseract_brand_count\": pytesseract_brand_count,\n",
    "                \"pdf_plumber_city_count\": pdf_plumber_city_count,\n",
    "                \"pytesseract_city_count\": pytesseract_city_count,\n",
    "            }\n",
    "\n",
    "            words_file_path = f\"text_extraction/{document_type}/{template_name}/{template_name}_{identifier}/words.json\"\n",
    "            with open(words_file_path, \"w\") as words_file:\n",
    "                json.dump(words_data, words_file, indent=4)\n",
    "\n",
    "            # Calculate the ratio of recognized words to total words for comparison\n",
    "            pdf_plumber_ratio = pdf_plumber_recognized_count / len(pdf_plumber_words) if pdf_plumber_words else 0\n",
    "            pytesseract_ratio = pytesseract_recognized_count / len(pytesseract_words) if pytesseract_words else 0\n",
    "\n",
    "            # Calculate the ratio of recognized brand names to total words for comparison\n",
    "            pdf_plumber_brand_ratio = pdf_plumber_brand_count / len(pdf_plumber_words) if pdf_plumber_words else 0\n",
    "            pytesseract_brand_ratio = pytesseract_brand_count / len(pytesseract_words) if pytesseract_words else 0\n",
    "\n",
    "            # Calculate the ratio of recognized city names to total words for comparison\n",
    "            pdf_plumber_city_ratio = pdf_plumber_city_count / len(pdf_plumber_words) if pdf_plumber_words else 0\n",
    "            pytesseract_city_ratio = pytesseract_city_count / len(pytesseract_words) if pytesseract_words else 0\n",
    "\n",
    "            results.append([pdf_plumber_ratio, pytesseract_ratio, pdf_plumber_brand_ratio, pytesseract_brand_ratio, pdf_plumber_city_ratio, pytesseract_city_ratio, f\"{document_type} {template_name} {identifier}\"])\n",
    "\n",
    "# Create a DataFrame for Plotly\n",
    "results_df = pd.DataFrame(results, columns=['PDF Plumber', 'Pytesseract', 'PDF Plumber Brand Ratio', 'Pytesseract Brand Ratio', 'PDF Plumber City Ratio', 'Pytesseract City Ratio', 'Document Info'])\n",
    "\n",
    "# Create a Plotly bar chart\n",
    "fig = px.bar(results_df, \n",
    "             x='Document Info', \n",
    "             y=['PDF Plumber', 'Pytesseract', 'PDF Plumber Brand Ratio', 'Pytesseract Brand Ratio', 'PDF Plumber City Ratio', 'Pytesseract City Ratio'], \n",
    "             title='Ratio of Recognized English Words, Brand Names, and UK City Names in PDF Plumber and Pytesseract',\n",
    "             labels={'value': 'Ratio', 'variable': 'Extraction Method'},\n",
    "             barmode='group')\n",
    "\n",
    "fig.show()\n"
   ]
  },
  {
   "cell_type": "code",
   "execution_count": null,
   "metadata": {},
   "outputs": [],
   "source": []
  }
 ],
 "metadata": {
  "kernelspec": {
   "display_name": "venv",
   "language": "python",
   "name": "python3"
  },
  "language_info": {
   "codemirror_mode": {
    "name": "ipython",
    "version": 3
   },
   "file_extension": ".py",
   "mimetype": "text/x-python",
   "name": "python",
   "nbconvert_exporter": "python",
   "pygments_lexer": "ipython3",
   "version": "3.11.0"
  }
 },
 "nbformat": 4,
 "nbformat_minor": 2
}
