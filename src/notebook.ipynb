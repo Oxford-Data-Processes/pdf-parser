{
 "cells": [
  {
   "cell_type": "code",
   "execution_count": 1,
   "metadata": {},
   "outputs": [],
   "source": [
    "import os\n",
    "import json\n",
    "ROOT_DIR = os.getcwd()\n",
    "document_type = \"bank_statements\"\n",
    "template_name = \"halifax\"\n",
    "identifier = \"april\"\n",
    "\n",
    "pdf_path: str = os.path.join(\n",
    "    ROOT_DIR,\n",
    "    \"data\",\n",
    "    document_type,\n",
    "    template_name,\n",
    "    \"pdf\",\n",
    "    f\"{template_name}_{identifier}.pdf\",\n",
    ")"
   ]
  },
  {
   "cell_type": "code",
   "execution_count": 2,
   "metadata": {},
   "outputs": [],
   "source": [
    "output_path: str = os.path.join(\n",
    "    ROOT_DIR,\n",
    "    \"outputs\",\n",
    "    f\"{template_name}_{identifier}_output.json\",\n",
    ")\n",
    "\n",
    "\n",
    "# output = json.load(open(output_path))"
   ]
  },
  {
   "cell_type": "code",
   "execution_count": 3,
   "metadata": {},
   "outputs": [],
   "source": [
    "output = {\n",
    "    \"metadata\": {\n",
    "        \"document_id\": \"7895ae19-ac9a-424d-81be-6c68c06ebc83\",\n",
    "        \"parsed_at\": \"2024-12-12T15:46:37\",\n",
    "        \"number_of_pages\": 2\n",
    "    },\n",
    "    \"pages\": [\n",
    "        {\n",
    "            \"forms\": [\n",
    "                {\n",
    "                    \"money_in\": \"\\u00a3761.80\"\n",
    "                },\n",
    "                {\n",
    "                    \"start_balance\": \"\\u00a3521.23\"\n",
    "                },\n",
    "                {\n",
    "                    \"money_out\": \"\\u00a3777.93\"\n",
    "                },\n",
    "                {\n",
    "                    \"end_balance\": \"\\u00a3505.10\"\n",
    "                }\n",
    "            ],\n",
    "            \"tables\": [\n",
    "                {\n",
    "                    \"data\": [\n",
    "                        {\n",
    "                            \"date\": \"03 Apr 23\",\n",
    "                            \"type\": \"DD\",\n",
    "                            \"description\": \"UNIVERSITY OF NOTT\",\n",
    "                            \"money_out\": \"22.90\",\n",
    "                        },\n",
    "                        {\n",
    "                            \"date\": \"06 Apr 23\",\n",
    "                            \"type\": \"FPI\",\n",
    "                            \"description\": \"HIYACAR LTD\",\n",
    "                            \"money_out\": \"\",\n",
    "                        },\n",
    "                    ]\n",
    "                }\n",
    "            ]\n",
    "        }\n",
    "    ]\n",
    "}"
   ]
  },
  {
   "cell_type": "code",
   "execution_count": 4,
   "metadata": {},
   "outputs": [
    {
     "name": "stdout",
     "output_type": "stream",
     "text": [
      "{'forms': [{'money_in': '761.80'}, {'start_balance': '521.23'}, {'money_out': '777.93'}, {'end_balance': '505.10'}], 'tables': [{'data': [{'date': '2023-04-03', 'type': 'DD', 'description': 'UNIVERSITY OF NOTT', 'money_out': '22.90'}, {'date': '2023-04-06', 'type': 'FPI', 'description': 'HIYACAR LTD', 'money_out': ''}]}]}\n"
     ]
    }
   ],
   "source": [
    "from cleaner import DocumentCleaner\n",
    "\n",
    "if __name__ == \"__main__\":\n",
    "    path = os.path.join(ROOT_DIR, \"cleaner_config\", \"halifax_cleaner_config.json\")\n",
    "    cleaner = DocumentCleaner(path)\n",
    "\n",
    "    for page in output[\"pages\"]:\n",
    "        cleaned_document = cleaner.clean_page(page)\n",
    "        print(cleaned_document)\n",
    "\n"
   ]
  },
  {
   "cell_type": "code",
   "execution_count": 5,
   "metadata": {},
   "outputs": [
    {
     "data": {
      "text/plain": [
       "{'forms': [{'money_in': '£761.80'},\n",
       "  {'start_balance': '£521.23'},\n",
       "  {'money_out': '£777.93'},\n",
       "  {'end_balance': '£505.10'}],\n",
       " 'tables': [{'data': [{'date': '03 Apr 23',\n",
       "     'type': 'DD',\n",
       "     'description': 'UNIVERSITY OF NOTT',\n",
       "     'money_out': '22.90'},\n",
       "    {'date': '06 Apr 23',\n",
       "     'type': 'FPI',\n",
       "     'description': 'HIYACAR LTD',\n",
       "     'money_out': ''}]}]}"
      ]
     },
     "execution_count": 5,
     "metadata": {},
     "output_type": "execute_result"
    }
   ],
   "source": [
    "page"
   ]
  },
  {
   "cell_type": "code",
   "execution_count": 6,
   "metadata": {},
   "outputs": [
    {
     "data": {
      "text/plain": [
       "{'forms': [{'money_in': '761.80'},\n",
       "  {'start_balance': '521.23'},\n",
       "  {'money_out': '777.93'},\n",
       "  {'end_balance': '505.10'}],\n",
       " 'tables': [{'data': [{'date': '2023-04-03',\n",
       "     'type': 'DD',\n",
       "     'description': 'UNIVERSITY OF NOTT',\n",
       "     'money_out': '22.90'},\n",
       "    {'date': '2023-04-06',\n",
       "     'type': 'FPI',\n",
       "     'description': 'HIYACAR LTD',\n",
       "     'money_out': ''}]}]}"
      ]
     },
     "execution_count": 6,
     "metadata": {},
     "output_type": "execute_result"
    }
   ],
   "source": [
    "cleaned_document"
   ]
  },
  {
   "cell_type": "code",
   "execution_count": 12,
   "metadata": {},
   "outputs": [],
   "source": [
    "import os\n",
    "import json\n",
    "\n",
    "outputs = []\n",
    "for f in os.listdir('outputs'):\n",
    "    file_path = os.path.join('outputs', f)\n",
    "    if os.path.isfile(file_path) and f.endswith('.json'):\n",
    "        with open(file_path, 'r') as json_file:\n",
    "            outputs.append(json.load(json_file))"
   ]
  },
  {
   "cell_type": "code",
   "execution_count": 18,
   "metadata": {},
   "outputs": [],
   "source": [
    "import pandas as pd\n",
    "\n",
    "descriptions = []\n",
    "\n",
    "for output in outputs:\n",
    "    pages = output[\"pages\"]\n",
    "    for page in pages:\n",
    "        tables = page[\"tables\"]\n",
    "        for table in tables:\n",
    "            data = table[\"data\"]\n",
    "            for row in data:\n",
    "                description = row[\"description\"]\n",
    "                descriptions.append(description.lower())\n",
    "\n",
    "df = pd.DataFrame(descriptions, columns=[\"description\"])\n"
   ]
  },
  {
   "cell_type": "code",
   "execution_count": 19,
   "metadata": {},
   "outputs": [
    {
     "data": {
      "text/html": [
       "<div>\n",
       "<style scoped>\n",
       "    .dataframe tbody tr th:only-of-type {\n",
       "        vertical-align: middle;\n",
       "    }\n",
       "\n",
       "    .dataframe tbody tr th {\n",
       "        vertical-align: top;\n",
       "    }\n",
       "\n",
       "    .dataframe thead th {\n",
       "        text-align: right;\n",
       "    }\n",
       "</style>\n",
       "<table border=\"1\" class=\"dataframe\">\n",
       "  <thead>\n",
       "    <tr style=\"text-align: right;\">\n",
       "      <th></th>\n",
       "      <th>description</th>\n",
       "    </tr>\n",
       "  </thead>\n",
       "  <tbody>\n",
       "    <tr>\n",
       "      <th>0</th>\n",
       "      <td>trainline +443332022222 gbr</td>\n",
       "    </tr>\n",
       "    <tr>\n",
       "      <th>1</th>\n",
       "      <td>c little (faster payments) reference: monzo cash</td>\n",
       "    </tr>\n",
       "    <tr>\n",
       "      <th>2</th>\n",
       "      <td>zettle_*oxpro limited oxford gbr</td>\n",
       "    </tr>\n",
       "    <tr>\n",
       "      <th>3</th>\n",
       "      <td>trainline +443332022222 gbr</td>\n",
       "    </tr>\n",
       "    <tr>\n",
       "      <th>4</th>\n",
       "      <td>dice.fm +442080687457 gbr</td>\n",
       "    </tr>\n",
       "    <tr>\n",
       "      <th>...</th>\n",
       "      <td>...</td>\n",
       "    </tr>\n",
       "    <tr>\n",
       "      <th>852</th>\n",
       "      <td>transfer from sort code 20-44-51 account 13415...</td>\n",
       "    </tr>\n",
       "    <tr>\n",
       "      <th>853</th>\n",
       "      <td>transfer from sort code 20-44-51 account 13415...</td>\n",
       "    </tr>\n",
       "    <tr>\n",
       "      <th>854</th>\n",
       "      <td>barclays bank uk plc. authorised by 2 regulati...</td>\n",
       "    </tr>\n",
       "    <tr>\n",
       "      <th>855</th>\n",
       "      <td>transfer from sort code 20-44-51 account 13415...</td>\n",
       "    </tr>\n",
       "    <tr>\n",
       "      <th>856</th>\n",
       "      <td>end balance wrong? if you’ve spotted any next ...</td>\n",
       "    </tr>\n",
       "  </tbody>\n",
       "</table>\n",
       "<p>857 rows × 1 columns</p>\n",
       "</div>"
      ],
      "text/plain": [
       "                                           description\n",
       "0                          trainline +443332022222 gbr\n",
       "1     c little (faster payments) reference: monzo cash\n",
       "2                     zettle_*oxpro limited oxford gbr\n",
       "3                          trainline +443332022222 gbr\n",
       "4                            dice.fm +442080687457 gbr\n",
       "..                                                 ...\n",
       "852  transfer from sort code 20-44-51 account 13415...\n",
       "853  transfer from sort code 20-44-51 account 13415...\n",
       "854  barclays bank uk plc. authorised by 2 regulati...\n",
       "855  transfer from sort code 20-44-51 account 13415...\n",
       "856  end balance wrong? if you’ve spotted any next ...\n",
       "\n",
       "[857 rows x 1 columns]"
      ]
     },
     "execution_count": 19,
     "metadata": {},
     "output_type": "execute_result"
    }
   ],
   "source": [
    "df"
   ]
  },
  {
   "cell_type": "code",
   "execution_count": 20,
   "metadata": {},
   "outputs": [],
   "source": [
    "category_mapping = pd.read_csv(\"category_mapping.csv\")"
   ]
  },
  {
   "cell_type": "code",
   "execution_count": 21,
   "metadata": {},
   "outputs": [],
   "source": [
    "df['category'] = None\n",
    "df['subcategory'] = None\n",
    "\n",
    "for index, row in df.iterrows():\n",
    "    description = row['description']\n",
    "    for _, category_row in category_mapping.iterrows():\n",
    "        if category_row['keyword'] in description:\n",
    "            df.at[index, 'category'] = category_row['category']\n",
    "            df.at[index, 'subcategory'] = category_row['subcategory']\n",
    "            break\n"
   ]
  },
  {
   "cell_type": "code",
   "execution_count": 26,
   "metadata": {},
   "outputs": [
    {
     "data": {
      "text/html": [
       "<div>\n",
       "<style scoped>\n",
       "    .dataframe tbody tr th:only-of-type {\n",
       "        vertical-align: middle;\n",
       "    }\n",
       "\n",
       "    .dataframe tbody tr th {\n",
       "        vertical-align: top;\n",
       "    }\n",
       "\n",
       "    .dataframe thead th {\n",
       "        text-align: right;\n",
       "    }\n",
       "</style>\n",
       "<table border=\"1\" class=\"dataframe\">\n",
       "  <thead>\n",
       "    <tr style=\"text-align: right;\">\n",
       "      <th></th>\n",
       "      <th>description</th>\n",
       "      <th>category</th>\n",
       "      <th>subcategory</th>\n",
       "    </tr>\n",
       "  </thead>\n",
       "  <tbody>\n",
       "    <tr>\n",
       "      <th>82</th>\n",
       "      <td>hiyacar limited f salary</td>\n",
       "      <td>INCOME</td>\n",
       "      <td>salary</td>\n",
       "    </tr>\n",
       "    <tr>\n",
       "      <th>282</th>\n",
       "      <td>hiyacar limited f salary</td>\n",
       "      <td>INCOME</td>\n",
       "      <td>salary</td>\n",
       "    </tr>\n",
       "    <tr>\n",
       "      <th>815</th>\n",
       "      <td>hiyacar limited f salary</td>\n",
       "      <td>INCOME</td>\n",
       "      <td>salary</td>\n",
       "    </tr>\n",
       "  </tbody>\n",
       "</table>\n",
       "</div>"
      ],
      "text/plain": [
       "                  description category subcategory\n",
       "82   hiyacar limited f salary   INCOME      salary\n",
       "282  hiyacar limited f salary   INCOME      salary\n",
       "815  hiyacar limited f salary   INCOME      salary"
      ]
     },
     "execution_count": 26,
     "metadata": {},
     "output_type": "execute_result"
    }
   ],
   "source": [
    "df.dropna()"
   ]
  },
  {
   "cell_type": "code",
   "execution_count": null,
   "metadata": {},
   "outputs": [],
   "source": []
  }
 ],
 "metadata": {
  "language_info": {
   "name": "python"
  }
 },
 "nbformat": 4,
 "nbformat_minor": 2
}
