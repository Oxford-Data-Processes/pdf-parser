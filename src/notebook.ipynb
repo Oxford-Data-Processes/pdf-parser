{
 "cells": [
  {
   "cell_type": "code",
   "execution_count": 1,
   "metadata": {},
   "outputs": [],
   "source": [
    "import os\n",
    "import json\n",
    "ROOT_DIR = os.getcwd()\n",
    "document_type = \"bank_statements\"\n",
    "template_name = \"halifax\"\n",
    "identifier = \"april\"\n",
    "\n",
    "pdf_path: str = os.path.join(\n",
    "    ROOT_DIR,\n",
    "    \"data\",\n",
    "    document_type,\n",
    "    template_name,\n",
    "    \"pdf\",\n",
    "    f\"{template_name}_{identifier}.pdf\",\n",
    ")"
   ]
  },
  {
   "cell_type": "code",
   "execution_count": 2,
   "metadata": {},
   "outputs": [],
   "source": [
    "output_path: str = os.path.join(\n",
    "    ROOT_DIR,\n",
    "    \"outputs\",\n",
    "    f\"{template_name}_{identifier}_output.json\",\n",
    ")\n",
    "\n",
    "\n",
    "# output = json.load(open(output_path))"
   ]
  },
  {
   "cell_type": "code",
   "execution_count": 3,
   "metadata": {},
   "outputs": [],
   "source": [
    "output = {\n",
    "    \"metadata\": {\n",
    "        \"document_id\": \"7895ae19-ac9a-424d-81be-6c68c06ebc83\",\n",
    "        \"parsed_at\": \"2024-12-12T15:46:37\",\n",
    "        \"number_of_pages\": 2\n",
    "    },\n",
    "    \"pages\": [\n",
    "        {\n",
    "            \"forms\": [\n",
    "                {\n",
    "                    \"money_in\": \"\\u00a3761.80\"\n",
    "                },\n",
    "                {\n",
    "                    \"start_balance\": \"\\u00a3521.23\"\n",
    "                },\n",
    "                {\n",
    "                    \"money_out\": \"\\u00a3777.93\"\n",
    "                },\n",
    "                {\n",
    "                    \"end_balance\": \"\\u00a3505.10\"\n",
    "                }\n",
    "            ],\n",
    "            \"tables\": [\n",
    "                {\n",
    "                    \"data\": [\n",
    "                        {\n",
    "                            \"date\": \"03 Apr 23\",\n",
    "                            \"type\": \"DD\",\n",
    "                            \"description\": \"UNIVERSITY OF NOTT\",\n",
    "                            \"money_out\": \"22.90\",\n",
    "                        },\n",
    "                        {\n",
    "                            \"date\": \"06 Apr 23\",\n",
    "                            \"type\": \"FPI\",\n",
    "                            \"description\": \"HIYACAR LTD\",\n",
    "                            \"money_out\": \"\",\n",
    "                        },\n",
    "                    ]\n",
    "                }\n",
    "            ]\n",
    "        }\n",
    "    ]\n",
    "}"
   ]
  },
  {
   "cell_type": "code",
   "execution_count": 4,
   "metadata": {},
   "outputs": [
    {
     "name": "stdout",
     "output_type": "stream",
     "text": [
      "{'forms': [{'money_in': '761.80'}, {'start_balance': '521.23'}, {'money_out': '777.93'}, {'end_balance': '505.10'}], 'tables': [{'data': [{'date': '2023-04-03', 'type': 'DD', 'description': 'UNIVERSITY OF NOTT', 'money_out': '22.90'}, {'date': '2023-04-06', 'type': 'FPI', 'description': 'HIYACAR LTD', 'money_out': ''}]}]}\n"
     ]
    }
   ],
   "source": [
    "from cleaner import DocumentCleaner\n",
    "\n",
    "if __name__ == \"__main__\":\n",
    "    path = os.path.join(ROOT_DIR, \"cleaner_config\", \"halifax_cleaner_config.json\")\n",
    "    cleaner = DocumentCleaner(path)\n",
    "\n",
    "    for page in output[\"pages\"]:\n",
    "        cleaned_document = cleaner.clean_page(page)\n",
    "        print(cleaned_document)\n",
    "\n"
   ]
  },
  {
   "cell_type": "code",
   "execution_count": 5,
   "metadata": {},
   "outputs": [
    {
     "data": {
      "text/plain": [
       "{'forms': [{'money_in': '£761.80'},\n",
       "  {'start_balance': '£521.23'},\n",
       "  {'money_out': '£777.93'},\n",
       "  {'end_balance': '£505.10'}],\n",
       " 'tables': [{'data': [{'date': '03 Apr 23',\n",
       "     'type': 'DD',\n",
       "     'description': 'UNIVERSITY OF NOTT',\n",
       "     'money_out': '22.90'},\n",
       "    {'date': '06 Apr 23',\n",
       "     'type': 'FPI',\n",
       "     'description': 'HIYACAR LTD',\n",
       "     'money_out': ''}]}]}"
      ]
     },
     "execution_count": 5,
     "metadata": {},
     "output_type": "execute_result"
    }
   ],
   "source": [
    "page"
   ]
  },
  {
   "cell_type": "code",
   "execution_count": 6,
   "metadata": {},
   "outputs": [
    {
     "data": {
      "text/plain": [
       "{'forms': [{'money_in': '761.80'},\n",
       "  {'start_balance': '521.23'},\n",
       "  {'money_out': '777.93'},\n",
       "  {'end_balance': '505.10'}],\n",
       " 'tables': [{'data': [{'date': '2023-04-03',\n",
       "     'type': 'DD',\n",
       "     'description': 'UNIVERSITY OF NOTT',\n",
       "     'money_out': '22.90'},\n",
       "    {'date': '2023-04-06',\n",
       "     'type': 'FPI',\n",
       "     'description': 'HIYACAR LTD',\n",
       "     'money_out': ''}]}]}"
      ]
     },
     "execution_count": 6,
     "metadata": {},
     "output_type": "execute_result"
    }
   ],
   "source": [
    "cleaned_document"
   ]
  },
  {
   "cell_type": "code",
   "execution_count": null,
   "metadata": {},
   "outputs": [],
   "source": []
  }
 ],
 "metadata": {
  "language_info": {
   "name": "python"
  }
 },
 "nbformat": 4,
 "nbformat_minor": 2
}
