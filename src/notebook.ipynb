{
 "cells": [
  {
   "cell_type": "code",
   "execution_count": 2,
   "metadata": {},
   "outputs": [],
   "source": [
    "import pdfplumber"
   ]
  },
  {
   "cell_type": "markdown",
   "metadata": {},
   "source": [
    "I am a software engineer. I am building a Python package to parse data from PDF statements.\n",
    "\n",
    "\n",
    "I am using pdfplumber to extract the data, location boxes of data and all lines inside each pdf.\n",
    "\n",
    "The user of the package will provide rules, inside a template, to extract data from a multi-page PDF statement.\n",
    "\n",
    "- Templates will need coordinates as numbers : vertical lines, horizontal lines, header line. These are the boxes that define a column of data for each page.\n",
    "- We provide rules to extract transaction data, based on pages eg. page 1 has certain rules, page 2 until penultimate page has different rules, last page has different rules. Ignore certain pages.\n",
    "- Assume table has multi-line rows, user provides line delimiter in template (start of line, end of line). Delimiter can also be graphical horizontal line, use pdfplumber to find the coordinates of the line.\n",
    "- Result is a JSON which follows a certain schema.\n",
    "The end result from an extracted pdf will look like this JSON:\n",
    "\n",
    "\n",
    "sort_code\n",
    "\n",
    "Sort Code\n",
    "\n",
    "Two types of extractions:\n",
    "\n",
    "FORMS\n",
    "TABLES\n",
    "\n",
    "\n",
    "Get all forms first, then get all tables.\n",
    "\n",
    "\n",
    "\n",
    "\n",
    "\n",
    "TEMPLATE (Bank specific and also context specific, anybody can create)\n",
    "PDF (eg. bank statement)\n",
    "\n",
    "\n",
    "TEMPLATE + PDF + PDF-PARSER = JSON\n",
    "\n",
    "TESTING (Jake is doing, collecting PDFs building JSONS)\n",
    "\n",
    "\n",
    "IMPLEMENTING IN REAL WORLD (Other repository, other projects, used acorss the business)"
   ]
  },
  {
   "cell_type": "code",
   "execution_count": 3,
   "metadata": {},
   "outputs": [
    {
     "data": {
      "text/plain": [
       "{'document_id': '12345abcd',\n",
       " 'parsed_at': '2024-11-26T10:15:30Z',\n",
       " 'document_title': 'Invoice_001.pdf',\n",
       " 'data': [{'field_name': 'Invoice Number',\n",
       "   'value': 'INV-001',\n",
       "   'coordinates': {'x': 50, 'y': 100}},\n",
       "  {'field_name': 'Invoice Date',\n",
       "   'value': '2024-11-20',\n",
       "   'coordinates': {'x': 70, 'y': 150}},\n",
       "  {'field_name': 'Total Amount',\n",
       "   'value': '$1,500.00',\n",
       "   'coordinates': {'x': 300, 'y': 400}},\n",
       "  {'field_name': 'Customer Name',\n",
       "   'value': 'John Doe',\n",
       "   'coordinates': {'x': 120, 'y': 200}}],\n",
       " 'meta': {'pages': 2, 'processing_time': '1.2s'}}"
      ]
     },
     "execution_count": 3,
     "metadata": {},
     "output_type": "execute_result"
    }
   ],
   "source": [
    "{\n",
    "  \"metadata\": {\n",
    "    \"document_id\": \"1234567890\",\n",
    "    \"parsed_at\": \"2024-01-01 12:00:00\",\n",
    "    \"number_of_pages\": 10\n",
    "  },\n",
    "  \"pages\": [\n",
    "    {\n",
    "      \"forms\": [\n",
    "        {\n",
    "          \"sort_code\": \"20-00-00\"\n",
    "        },\n",
    "        {\n",
    "          \"account_number\": \"1234567890\"\n",
    "        },\n",
    "        {\n",
    "          \"customer_name\": \"John Doe\"\n",
    "        }\n",
    "      ],\n",
    "      \"tables\": [\n",
    "        {\n",
    "          \"table_header\": \"Your Transactions\",\n",
    "          \"data\": [\n",
    "            {\n",
    "              \"date\": \"2023-01-01\",\n",
    "              \"description\": \"Payment Received\",\n",
    "              \"amount\": \"150.00\",\n",
    "              \"balance\": \"1200.00\"\n",
    "            },\n",
    "            {\n",
    "              \"date\": \"2023-01-02\",\n",
    "              \"description\": \"Monthly Subscription\",\n",
    "              \"amount\": \"15.00\",\n",
    "              \"balance\": \"1185.00\"\n",
    "            }\n",
    "          ]\n",
    "        }\n",
    "      ]\n",
    "    }\n",
    "  ]\n",
    "}"
   ]
  },
  {
   "cell_type": "code",
   "execution_count": null,
   "metadata": {},
   "outputs": [],
   "source": []
  }
 ],
 "metadata": {
  "kernelspec": {
   "display_name": "venv",
   "language": "python",
   "name": "python3"
  },
  "language_info": {
   "codemirror_mode": {
    "name": "ipython",
    "version": 3
   },
   "file_extension": ".py",
   "mimetype": "text/x-python",
   "name": "python",
   "nbconvert_exporter": "python",
   "pygments_lexer": "ipython3",
   "version": "3.11.0"
  }
 },
 "nbformat": 4,
 "nbformat_minor": 2
}
