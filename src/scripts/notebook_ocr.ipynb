{
 "cells": [
  {
   "cell_type": "code",
   "execution_count": 13,
   "metadata": {},
   "outputs": [],
   "source": [
    "from PIL import Image\n",
    "import io\n",
    "import pytesseract\n",
    "\n",
    "\n",
    "class ImageExtractor:\n",
    "    def __init__(self, jpg_bytes, decimal_coordinates):\n",
    "        self.image = Image.open(io.BytesIO(jpg_bytes))\n",
    "        self.coordinates = decimal_coordinates\n",
    "\n",
    "    def extract_section(self):\n",
    "        # Convert decimal coordinates to pixel values\n",
    "        width, height = self.image.size\n",
    "        top_left_x = int(self.coordinates[\"top_left\"][\"x\"] * width)\n",
    "        top_left_y = int(self.coordinates[\"top_left\"][\"y\"] * height)\n",
    "        bottom_right_x = int(self.coordinates[\"bottom_right\"][\"x\"] * width)\n",
    "        bottom_right_y = int(self.coordinates[\"bottom_right\"][\"y\"] * height)\n",
    "\n",
    "        # Crop the image to the specified coordinates\n",
    "        return self.image.crop((top_left_x, top_left_y, bottom_right_x, bottom_right_y))\n",
    "\n",
    "    def extract_text(self):\n",
    "        section_image = self.extract_section()\n",
    "        return pytesseract.image_to_string(section_image)\n"
   ]
  },
  {
   "cell_type": "code",
   "execution_count": 14,
   "metadata": {},
   "outputs": [
    {
     "name": "stdout",
     "output_type": "stream",
     "text": [
      "Mr Jake Holmes\n",
      "\n"
     ]
    }
   ],
   "source": [
    "import json\n",
    "from typing import Dict, Any\n",
    "from pathlib import Path\n",
    "\n",
    "template_name: str = \"halifax\"\n",
    "identifier: str = \"april\"\n",
    "\n",
    "# Use Path to handle file paths more elegantly\n",
    "root_directory = Path().resolve()\n",
    "\n",
    "parent_directory = root_directory.parent\n",
    "grandparent_directory = parent_directory.parent\n",
    "\n",
    "pdf_path = grandparent_directory / \"data\" / \"bank_statements\" / \"halifax\" / \"pdf\" / f\"{template_name}_{identifier}.pdf\"\n",
    "template_path: Path = parent_directory / \"templates\" / f\"{template_name}_template.json\"\n",
    "pdf_data_path: Path = parent_directory / \"pdf_data\" / f\"{template_name}_{identifier}_pdf_data.json\"\n",
    "\n",
    "# Load JSON data using context manager for better file handling\n",
    "with open(template_path) as template_file:\n",
    "    template: Dict[str, Any] = json.load(template_file)\n",
    "\n",
    "with open(pdf_data_path) as pdf_data_file:\n",
    "    pdf_data: Dict[str, Any] = json.load(pdf_data_file)\n",
    "\n",
    "output_data_path: Path = root_directory / \"src\" / \"outputs\" / f\"{template_name}_{identifier}_output.json\"\n",
    "from pdf_utils import ImageDrawer\n",
    "\n",
    "jpg_image = ImageDrawer.create_jpg_image(pdf_path, 1)\n",
    "\n",
    "from io import BytesIO\n",
    "\n",
    "# Convert the JPG image to bytes\n",
    "jpg_image_bytes = BytesIO()\n",
    "jpg_image.save(jpg_image_bytes, format='JPEG')\n",
    "jpg_image_bytes.seek(0)\n",
    "\n",
    "# Create an instance of ImageExtractor with the image bytes and coordinates\n",
    "coordinates = {\n",
    "    \"top_left\": {\n",
    "        \"x\": 0.086,\n",
    "        \"y\": 0.122\n",
    "    },\n",
    "    \"bottom_right\": {\n",
    "        \"x\": 0.313,\n",
    "        \"y\": 0.135\n",
    "    }\n",
    "}\n",
    "\n",
    "image_extractor = ImageExtractor(jpg_image_bytes.getvalue(), coordinates)\n",
    "extracted_text = image_extractor.extract_text()\n",
    "\n",
    "# Optionally, print the extracted text\n",
    "print(extracted_text)\n",
    "\n"
   ]
  },
  {
   "cell_type": "code",
   "execution_count": null,
   "metadata": {},
   "outputs": [],
   "source": []
  }
 ],
 "metadata": {
  "kernelspec": {
   "display_name": "venv",
   "language": "python",
   "name": "python3"
  },
  "language_info": {
   "codemirror_mode": {
    "name": "ipython",
    "version": 3
   },
   "file_extension": ".py",
   "mimetype": "text/x-python",
   "name": "python",
   "nbconvert_exporter": "python",
   "pygments_lexer": "ipython3",
   "version": "3.11.0"
  }
 },
 "nbformat": 4,
 "nbformat_minor": 2
}
