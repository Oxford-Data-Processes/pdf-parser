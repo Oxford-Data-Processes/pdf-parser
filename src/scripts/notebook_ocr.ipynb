{
 "cells": [
  {
   "cell_type": "code",
   "execution_count": 1,
   "metadata": {},
   "outputs": [
    {
     "name": "stdout",
     "output_type": "stream",
     "text": [
      "Je)\n",
      "\n"
     ]
    }
   ],
   "source": [
    "import json\n",
    "from typing import Dict, Any\n",
    "from pathlib import Path\n",
    "from ocr import ImageExtractor\n",
    "\n",
    "template_name: str = \"lloyds\"\n",
    "identifier: str = \"september\"\n",
    "\n",
    "# Use Path to handle file paths more elegantly\n",
    "root_directory = Path().resolve()\n",
    "\n",
    "parent_directory = root_directory.parent\n",
    "grandparent_directory = parent_directory.parent\n",
    "\n",
    "pdf_path = grandparent_directory / \"data\" / \"bank_statements\" / f\"{template_name}\" / \"pdf\" / f\"{template_name}_{identifier}.pdf\"\n",
    "template_path: Path = parent_directory / \"templates\" / f\"{template_name}_template.json\"\n",
    "pdf_data_path: Path = parent_directory / \"pdf_data\" / f\"{template_name}_{identifier}_pdf_data.json\"\n",
    "\n",
    "# Load JSON data using context manager for better file handling\n",
    "with open(template_path) as template_file:\n",
    "    template: Dict[str, Any] = json.load(template_file)\n",
    "\n",
    "with open(pdf_data_path) as pdf_data_file:\n",
    "    pdf_data: Dict[str, Any] = json.load(pdf_data_file)\n",
    "\n",
    "output_data_path: Path = root_directory / \"src\" / \"outputs\" / f\"{template_name}_{identifier}_output.json\"\n",
    "from pdf_utils import ImageDrawer\n",
    "\n",
    "jpg_image = ImageDrawer.create_jpg_image(pdf_path, 1)\n",
    "\n",
    "from io import BytesIO\n",
    "\n",
    "# Convert the JPG image to bytes\n",
    "jpg_image_bytes = BytesIO()\n",
    "jpg_image.save(jpg_image_bytes, format='JPEG')\n",
    "jpg_image_bytes.seek(0)\n",
    "\n",
    "# Create an instance of ImageExtractor with the image bytes and coordinates\n",
    "coordinates = {'top_left': {'x': 0.446, 'y': 0.754454}, 'bottom_right': {'x': 0.508, 'y': 0.784145}}\n",
    "\n",
    "image_extractor = ImageExtractor(jpg_image_bytes.getvalue(), coordinates)\n",
    "extracted_text = image_extractor.extract_text()\n",
    "\n",
    "# Optionally, print the extracted text\n",
    "print(extracted_text)\n",
    "\n",
    "def extract_section(jpg_bytes, coordinates):\n",
    "    from PIL import Image\n",
    "    import io\n",
    "\n",
    "    # Load the image from the byte data\n",
    "    image = Image.open(io.BytesIO(jpg_bytes))\n",
    "\n",
    "    # Convert decimal coordinates to pixel values\n",
    "    width, height = image.size\n",
    "    top_left_x = int(coordinates[\"top_left\"][\"x\"] * width)\n",
    "    top_left_y = int(coordinates[\"top_left\"][\"y\"] * height)\n",
    "    bottom_right_x = int(coordinates[\"bottom_right\"][\"x\"] * width)\n",
    "    bottom_right_y = int(coordinates[\"bottom_right\"][\"y\"] * height)\n",
    "\n",
    "    # Crop the image to the specified coordinates\n",
    "    section_image = image.crop((top_left_x, top_left_y, bottom_right_x, bottom_right_y))\n",
    "    \n",
    "    return section_image\n",
    "\n",
    "\n",
    "section_image = extract_section(jpg_image_bytes.getvalue(), coordinates)\n",
    "section_image.show()\n"
   ]
  },
  {
   "cell_type": "code",
   "execution_count": 2,
   "metadata": {},
   "outputs": [
    {
     "ename": "NameError",
     "evalue": "name 'AnotherImageExtractor' is not defined",
     "output_type": "error",
     "traceback": [
      "\u001b[0;31m---------------------------------------------------------------------------\u001b[0m",
      "\u001b[0;31mNameError\u001b[0m                                 Traceback (most recent call last)",
      "Cell \u001b[0;32mIn[2], line 31\u001b[0m\n\u001b[1;32m     28\u001b[0m coordinates \u001b[38;5;241m=\u001b[39m {\u001b[38;5;124m'\u001b[39m\u001b[38;5;124mtop_left\u001b[39m\u001b[38;5;124m'\u001b[39m: {\u001b[38;5;124m'\u001b[39m\u001b[38;5;124mx\u001b[39m\u001b[38;5;124m'\u001b[39m: \u001b[38;5;241m0.446\u001b[39m, \u001b[38;5;124m'\u001b[39m\u001b[38;5;124my\u001b[39m\u001b[38;5;124m'\u001b[39m: \u001b[38;5;241m0.754454\u001b[39m}, \u001b[38;5;124m'\u001b[39m\u001b[38;5;124mbottom_right\u001b[39m\u001b[38;5;124m'\u001b[39m: {\u001b[38;5;124m'\u001b[39m\u001b[38;5;124mx\u001b[39m\u001b[38;5;124m'\u001b[39m: \u001b[38;5;241m0.508\u001b[39m, \u001b[38;5;124m'\u001b[39m\u001b[38;5;124my\u001b[39m\u001b[38;5;124m'\u001b[39m: \u001b[38;5;241m0.784145\u001b[39m}}\n\u001b[1;32m     30\u001b[0m \u001b[38;5;66;03m# Use the raw bytes directly instead of calling getvalue()\u001b[39;00m\n\u001b[0;32m---> 31\u001b[0m image_extractor \u001b[38;5;241m=\u001b[39m \u001b[43mAnotherImageExtractor\u001b[49m(jpg_image_bytes\u001b[38;5;241m.\u001b[39mgetvalue(), coordinates)\n\u001b[1;32m     33\u001b[0m extracted_text \u001b[38;5;241m=\u001b[39m image_extractor\u001b[38;5;241m.\u001b[39mextract_text()  \u001b[38;5;66;03m# Store the extracted text\u001b[39;00m\n",
      "\u001b[0;31mNameError\u001b[0m: name 'AnotherImageExtractor' is not defined"
     ]
    }
   ],
   "source": [
    "from PIL import Image\n",
    "import io\n",
    "import easyocr\n",
    "from ocr import SecondaryImageExtractor\n",
    "\n",
    "\n",
    "template_name: str = \"lloyds\"\n",
    "identifier: str = \"september\"\n",
    "\n",
    "# Use Path to handle file paths more elegantly\n",
    "root_directory = Path().resolve()\n",
    "\n",
    "parent_directory = root_directory.parent\n",
    "grandparent_directory = parent_directory.parent\n",
    "\n",
    "pdf_path = grandparent_directory / \"data\" / \"bank_statements\" / f\"{template_name}\" / \"pdf\" / f\"{template_name}_{identifier}.pdf\"\n",
    "\n",
    "jpg_image = ImageDrawer.create_jpg_image(pdf_path, 1)\n",
    "\n",
    "from io import BytesIO\n",
    "import numpy as np  # Import numpy for array conversion\n",
    "\n",
    "# Convert the JPG image to bytes\n",
    "jpg_image_bytes = BytesIO()\n",
    "jpg_image.save(jpg_image_bytes, format='JPEG')\n",
    "jpg_image_bytes.seek(0)\n",
    "\n",
    "coordinates = {'top_left': {'x': 0.446, 'y': 0.754454}, 'bottom_right': {'x': 0.508, 'y': 0.784145}}\n",
    "\n",
    "# Use the raw bytes directly instead of calling getvalue()\n",
    "image_extractor = SecondaryImageExtractor(jpg_image_bytes.getvalue(), coordinates)\n",
    "\n",
    "extracted_text = image_extractor.extract_text()  # Store the extracted text"
   ]
  },
  {
   "cell_type": "code",
   "execution_count": 13,
   "metadata": {},
   "outputs": [
    {
     "data": {
      "text/plain": [
       "'SO'"
      ]
     },
     "execution_count": 13,
     "metadata": {},
     "output_type": "execute_result"
    }
   ],
   "source": [
    "extracted_text"
   ]
  },
  {
   "cell_type": "code",
   "execution_count": 5,
   "metadata": {},
   "outputs": [
    {
     "ename": "ValueError",
     "evalue": "Invalid input type. Supporting format = string(file path or url), bytes, numpy array",
     "output_type": "error",
     "traceback": [
      "\u001b[0;31m---------------------------------------------------------------------------\u001b[0m",
      "\u001b[0;31mValueError\u001b[0m                                Traceback (most recent call last)",
      "Cell \u001b[0;32mIn[5], line 42\u001b[0m\n\u001b[1;32m     40\u001b[0m \u001b[38;5;66;03m# Use the raw bytes directly instead of calling getvalue()\u001b[39;00m\n\u001b[1;32m     41\u001b[0m image_extractor \u001b[38;5;241m=\u001b[39m AnotherImageExtractor(jpg_image_bytes\u001b[38;5;241m.\u001b[39mgetvalue(), coordinates)  \u001b[38;5;66;03m# Updated to use getvalue() for bytes\u001b[39;00m\n\u001b[0;32m---> 42\u001b[0m extracted_text \u001b[38;5;241m=\u001b[39m \u001b[43mimage_extractor\u001b[49m\u001b[38;5;241;43m.\u001b[39;49m\u001b[43mextract_text\u001b[49m\u001b[43m(\u001b[49m\u001b[43m)\u001b[49m\n\u001b[1;32m     44\u001b[0m \u001b[38;5;66;03m# Optionally, print the extracted text\u001b[39;00m\n\u001b[1;32m     45\u001b[0m \u001b[38;5;28mprint\u001b[39m(extracted_text)\n",
      "Cell \u001b[0;32mIn[2], line 25\u001b[0m, in \u001b[0;36mAnotherImageExtractor.extract_text\u001b[0;34m(self)\u001b[0m\n\u001b[1;32m     23\u001b[0m section_image \u001b[38;5;241m=\u001b[39m \u001b[38;5;28mself\u001b[39m\u001b[38;5;241m.\u001b[39mextract_section()\n\u001b[1;32m     24\u001b[0m \u001b[38;5;66;03m# Use EasyOCR to extract text from the cropped image\u001b[39;00m\n\u001b[0;32m---> 25\u001b[0m result \u001b[38;5;241m=\u001b[39m \u001b[38;5;28;43mself\u001b[39;49m\u001b[38;5;241;43m.\u001b[39;49m\u001b[43mreader\u001b[49m\u001b[38;5;241;43m.\u001b[39;49m\u001b[43mreadtext\u001b[49m\u001b[43m(\u001b[49m\u001b[43msection_image\u001b[49m\u001b[43m)\u001b[49m\n\u001b[1;32m     26\u001b[0m \u001b[38;5;66;03m# Combine the text results into a single string\u001b[39;00m\n\u001b[1;32m     27\u001b[0m extracted_text \u001b[38;5;241m=\u001b[39m \u001b[38;5;124m'\u001b[39m\u001b[38;5;124m \u001b[39m\u001b[38;5;124m'\u001b[39m\u001b[38;5;241m.\u001b[39mjoin([line[\u001b[38;5;241m1\u001b[39m] \u001b[38;5;28;01mfor\u001b[39;00m line \u001b[38;5;129;01min\u001b[39;00m result])  \u001b[38;5;66;03m# Adjusted for EasyOCR output format\u001b[39;00m\n",
      "File \u001b[0;32m~/GitHub/pdf-parser/venv/lib/python3.11/site-packages/easyocr/easyocr.py:454\u001b[0m, in \u001b[0;36mReader.readtext\u001b[0;34m(self, image, decoder, beamWidth, batch_size, workers, allowlist, blocklist, detail, rotation_info, paragraph, min_size, contrast_ths, adjust_contrast, filter_ths, text_threshold, low_text, link_threshold, canvas_size, mag_ratio, slope_ths, ycenter_ths, height_ths, width_ths, y_ths, x_ths, add_margin, threshold, bbox_min_score, bbox_min_size, max_candidates, output_format)\u001b[0m\n\u001b[1;32m    440\u001b[0m \u001b[38;5;28;01mdef\u001b[39;00m \u001b[38;5;21mreadtext\u001b[39m(\u001b[38;5;28mself\u001b[39m, image, decoder \u001b[38;5;241m=\u001b[39m \u001b[38;5;124m'\u001b[39m\u001b[38;5;124mgreedy\u001b[39m\u001b[38;5;124m'\u001b[39m, beamWidth\u001b[38;5;241m=\u001b[39m \u001b[38;5;241m5\u001b[39m, batch_size \u001b[38;5;241m=\u001b[39m \u001b[38;5;241m1\u001b[39m,\\\n\u001b[1;32m    441\u001b[0m              workers \u001b[38;5;241m=\u001b[39m \u001b[38;5;241m0\u001b[39m, allowlist \u001b[38;5;241m=\u001b[39m \u001b[38;5;28;01mNone\u001b[39;00m, blocklist \u001b[38;5;241m=\u001b[39m \u001b[38;5;28;01mNone\u001b[39;00m, detail \u001b[38;5;241m=\u001b[39m \u001b[38;5;241m1\u001b[39m,\\\n\u001b[1;32m    442\u001b[0m              rotation_info \u001b[38;5;241m=\u001b[39m \u001b[38;5;28;01mNone\u001b[39;00m, paragraph \u001b[38;5;241m=\u001b[39m \u001b[38;5;28;01mFalse\u001b[39;00m, min_size \u001b[38;5;241m=\u001b[39m \u001b[38;5;241m20\u001b[39m,\\\n\u001b[0;32m   (...)\u001b[0m\n\u001b[1;32m    448\u001b[0m              threshold \u001b[38;5;241m=\u001b[39m \u001b[38;5;241m0.2\u001b[39m, bbox_min_score \u001b[38;5;241m=\u001b[39m \u001b[38;5;241m0.2\u001b[39m, bbox_min_size \u001b[38;5;241m=\u001b[39m \u001b[38;5;241m3\u001b[39m, max_candidates \u001b[38;5;241m=\u001b[39m \u001b[38;5;241m0\u001b[39m,\n\u001b[1;32m    449\u001b[0m              output_format\u001b[38;5;241m=\u001b[39m\u001b[38;5;124m'\u001b[39m\u001b[38;5;124mstandard\u001b[39m\u001b[38;5;124m'\u001b[39m):\n\u001b[1;32m    450\u001b[0m \u001b[38;5;250m    \u001b[39m\u001b[38;5;124;03m'''\u001b[39;00m\n\u001b[1;32m    451\u001b[0m \u001b[38;5;124;03m    Parameters:\u001b[39;00m\n\u001b[1;32m    452\u001b[0m \u001b[38;5;124;03m    image: file path or numpy-array or a byte stream object\u001b[39;00m\n\u001b[1;32m    453\u001b[0m \u001b[38;5;124;03m    '''\u001b[39;00m\n\u001b[0;32m--> 454\u001b[0m     img, img_cv_grey \u001b[38;5;241m=\u001b[39m \u001b[43mreformat_input\u001b[49m\u001b[43m(\u001b[49m\u001b[43mimage\u001b[49m\u001b[43m)\u001b[49m\n\u001b[1;32m    456\u001b[0m     horizontal_list, free_list \u001b[38;5;241m=\u001b[39m \u001b[38;5;28mself\u001b[39m\u001b[38;5;241m.\u001b[39mdetect(img, \n\u001b[1;32m    457\u001b[0m                                              min_size \u001b[38;5;241m=\u001b[39m min_size, text_threshold \u001b[38;5;241m=\u001b[39m text_threshold,\\\n\u001b[1;32m    458\u001b[0m                                              low_text \u001b[38;5;241m=\u001b[39m low_text, link_threshold \u001b[38;5;241m=\u001b[39m link_threshold,\\\n\u001b[0;32m   (...)\u001b[0m\n\u001b[1;32m    464\u001b[0m                                              bbox_min_size \u001b[38;5;241m=\u001b[39m bbox_min_size, max_candidates \u001b[38;5;241m=\u001b[39m max_candidates\n\u001b[1;32m    465\u001b[0m                                              )\n\u001b[1;32m    466\u001b[0m     \u001b[38;5;66;03m# get the 1st result from hor & free list as self.detect returns a list of depth 3\u001b[39;00m\n",
      "File \u001b[0;32m~/GitHub/pdf-parser/venv/lib/python3.11/site-packages/easyocr/utils.py:767\u001b[0m, in \u001b[0;36mreformat_input\u001b[0;34m(image)\u001b[0m\n\u001b[1;32m    765\u001b[0m     img_cv_grey \u001b[38;5;241m=\u001b[39m cv2\u001b[38;5;241m.\u001b[39mcvtColor(img, cv2\u001b[38;5;241m.\u001b[39mCOLOR_BGR2GRAY)\n\u001b[1;32m    766\u001b[0m \u001b[38;5;28;01melse\u001b[39;00m:\n\u001b[0;32m--> 767\u001b[0m     \u001b[38;5;28;01mraise\u001b[39;00m \u001b[38;5;167;01mValueError\u001b[39;00m(\u001b[38;5;124m'\u001b[39m\u001b[38;5;124mInvalid input type. Supporting format = string(file path or url), bytes, numpy array\u001b[39m\u001b[38;5;124m'\u001b[39m)\n\u001b[1;32m    769\u001b[0m \u001b[38;5;28;01mreturn\u001b[39;00m img, img_cv_grey\n",
      "\u001b[0;31mValueError\u001b[0m: Invalid input type. Supporting format = string(file path or url), bytes, numpy array"
     ]
    }
   ],
   "source": [
    "import json\n",
    "from typing import Dict, Any\n",
    "from pathlib import Path\n",
    "\n",
    "template_name: str = \"lloyds\"\n",
    "identifier: str = \"september\"\n",
    "\n",
    "# Use Path to handle file paths more elegantly\n",
    "root_directory = Path().resolve()\n",
    "\n",
    "parent_directory = root_directory.parent\n",
    "grandparent_directory = parent_directory.parent\n",
    "\n",
    "pdf_path = grandparent_directory / \"data\" / \"bank_statements\" / f\"{template_name}\" / \"pdf\" / f\"{template_name}_{identifier}.pdf\"\n",
    "template_path: Path = parent_directory / \"templates\" / f\"{template_name}_template.json\"\n",
    "pdf_data_path: Path = parent_directory / \"pdf_data\" / f\"{template_name}_{identifier}_pdf_data.json\"\n",
    "\n",
    "# Load JSON data using context manager for better file handling\n",
    "with open(template_path) as template_file:\n",
    "    template: Dict[str, Any] = json.load(template_file)\n",
    "\n",
    "with open(pdf_data_path) as pdf_data_file:\n",
    "    pdf_data: Dict[str, Any] = json.load(pdf_data_file)\n",
    "\n",
    "output_data_path: Path = root_directory / \"src\" / \"outputs\" / f\"{template_name}_{identifier}_output.json\"\n",
    "from pdf_utils import ImageDrawer\n",
    "\n",
    "jpg_image = ImageDrawer.create_jpg_image(pdf_path, 1)\n",
    "\n",
    "from io import BytesIO\n",
    "\n",
    "# Convert the JPG image to bytes\n",
    "jpg_image_bytes = BytesIO()\n",
    "jpg_image.save(jpg_image_bytes, format='JPEG')\n",
    "jpg_image_bytes.seek(0)\n",
    "\n",
    "# Create an instance of AnotherImageExtractor with the image bytes and coordinates\n",
    "coordinates = {'top_left': {'x': 0.446, 'y': 0.754454}, 'bottom_right': {'x': 0.508, 'y': 0.784145}}\n",
    "\n",
    "# Use the raw bytes directly instead of calling getvalue()\n",
    "image_extractor = SecondaryImageExtractor(jpg_image_bytes.getvalue(), coordinates)  # Updated to use getvalue() for bytes\n",
    "extracted_text = image_extractor.extract_text()\n",
    "\n",
    "# Optionally, print the extracted text\n",
    "print(extracted_text)\n",
    "\n",
    "def extract_section(jpg_bytes, coordinates):\n",
    "    from PIL import Image\n",
    "    import io\n",
    "\n",
    "    # Load the image from the byte data\n",
    "    image = Image.open(io.BytesIO(jpg_bytes))\n",
    "\n",
    "    # Convert decimal coordinates to pixel values\n",
    "    width, height = image.size\n",
    "    top_left_x = int(coordinates[\"top_left\"][\"x\"] * width)\n",
    "    top_left_y = int(coordinates[\"top_left\"][\"y\"] * height)\n",
    "    bottom_right_x = int(coordinates[\"bottom_right\"][\"x\"] * width)\n",
    "    bottom_right_y = int(coordinates[\"bottom_right\"][\"y\"] * height)\n",
    "\n",
    "    # Crop the image to the specified coordinates\n",
    "    section_image = image.crop((top_left_x, top_left_y, bottom_right_x, bottom_right_y))\n",
    "    \n",
    "    return section_image\n",
    "\n",
    "# Use getvalue() to get the bytes for the section extraction\n",
    "section_image = extract_section(jpg_image_bytes.getvalue(), coordinates)\n",
    "section_image.show()\n"
   ]
  },
  {
   "cell_type": "code",
   "execution_count": null,
   "metadata": {},
   "outputs": [],
   "source": []
  }
 ],
 "metadata": {
  "kernelspec": {
   "display_name": "venv",
   "language": "python",
   "name": "python3"
  },
  "language_info": {
   "codemirror_mode": {
    "name": "ipython",
    "version": 3
   },
   "file_extension": ".py",
   "mimetype": "text/x-python",
   "name": "python",
   "nbconvert_exporter": "python",
   "pygments_lexer": "ipython3",
   "version": "3.11.0"
  }
 },
 "nbformat": 4,
 "nbformat_minor": 2
}
