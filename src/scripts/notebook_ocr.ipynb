{
 "cells": [
  {
   "cell_type": "code",
   "execution_count": 6,
   "metadata": {},
   "outputs": [
    {
     "name": "stdout",
     "output_type": "stream",
     "text": [
      "AIRBNB * HM8Y5A4RR\n",
      "\n"
     ]
    }
   ],
   "source": [
    "import json\n",
    "from typing import Dict, Any\n",
    "from pathlib import Path\n",
    "from ocr import ImageExtractor\n",
    "\n",
    "template_name: str = \"lloyds\"\n",
    "identifier: str = \"september\"\n",
    "\n",
    "# Use Path to handle file paths more elegantly\n",
    "root_directory = Path().resolve()\n",
    "\n",
    "parent_directory = root_directory.parent\n",
    "grandparent_directory = parent_directory.parent\n",
    "\n",
    "pdf_path = grandparent_directory / \"data\" / \"bank_statements\" / f\"{template_name}\" / \"pdf\" / f\"{template_name}_{identifier}.pdf\"\n",
    "template_path: Path = parent_directory / \"templates\" / f\"{template_name}_template.json\"\n",
    "pdf_data_path: Path = parent_directory / \"pdf_data\" / f\"{template_name}_{identifier}_pdf_data.json\"\n",
    "\n",
    "# Load JSON data using context manager for better file handling\n",
    "with open(template_path) as template_file:\n",
    "    template: Dict[str, Any] = json.load(template_file)\n",
    "\n",
    "with open(pdf_data_path) as pdf_data_file:\n",
    "    pdf_data: Dict[str, Any] = json.load(pdf_data_file)\n",
    "\n",
    "output_data_path: Path = root_directory / \"src\" / \"outputs\" / f\"{template_name}_{identifier}_output.json\"\n",
    "from pdf_utils import ImageDrawer\n",
    "\n",
    "jpg_image = ImageDrawer.create_jpg_image(pdf_path, 1)\n",
    "\n",
    "from io import BytesIO\n",
    "\n",
    "# Convert the JPG image to bytes\n",
    "jpg_image_bytes = BytesIO()\n",
    "jpg_image.save(jpg_image_bytes, format='JPEG')\n",
    "jpg_image_bytes.seek(0)\n",
    "\n",
    "# Create an instance of ImageExtractor with the image bytes and coordinates\n",
    "coordinates = {'top_left': {'x': 0.197, 'y': 0.605998}, 'bottom_right': {'x': 0.441, 'y': 0.635689}}\n",
    "\n",
    "image_extractor = ImageExtractor(jpg_image_bytes.getvalue(), coordinates)\n",
    "extracted_text = image_extractor.extract_text()\n",
    "\n",
    "# Optionally, print the extracted text\n",
    "print(extracted_text)\n",
    "\n",
    "def extract_section(jpg_bytes, coordinates):\n",
    "    from PIL import Image\n",
    "    import io\n",
    "\n",
    "    # Load the image from the byte data\n",
    "    image = Image.open(io.BytesIO(jpg_bytes))\n",
    "\n",
    "    # Convert decimal coordinates to pixel values\n",
    "    width, height = image.size\n",
    "    top_left_x = int(coordinates[\"top_left\"][\"x\"] * width)\n",
    "    top_left_y = int(coordinates[\"top_left\"][\"y\"] * height)\n",
    "    bottom_right_x = int(coordinates[\"bottom_right\"][\"x\"] * width)\n",
    "    bottom_right_y = int(coordinates[\"bottom_right\"][\"y\"] * height)\n",
    "\n",
    "    # Crop the image to the specified coordinates\n",
    "    section_image = image.crop((top_left_x, top_left_y, bottom_right_x, bottom_right_y))\n",
    "    \n",
    "    return section_image\n",
    "\n",
    "\n",
    "section_image = extract_section(jpg_image_bytes.getvalue(), coordinates)\n",
    "section_image.show()\n"
   ]
  },
  {
   "cell_type": "code",
   "execution_count": null,
   "metadata": {},
   "outputs": [],
   "source": []
  }
 ],
 "metadata": {
  "kernelspec": {
   "display_name": "venv",
   "language": "python",
   "name": "python3"
  },
  "language_info": {
   "codemirror_mode": {
    "name": "ipython",
    "version": 3
   },
   "file_extension": ".py",
   "mimetype": "text/x-python",
   "name": "python",
   "nbconvert_exporter": "python",
   "pygments_lexer": "ipython3",
   "version": "3.11.0"
  }
 },
 "nbformat": 4,
 "nbformat_minor": 2
}
