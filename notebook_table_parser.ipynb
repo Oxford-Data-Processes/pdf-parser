{
 "cells": [
  {
   "cell_type": "code",
   "execution_count": 2,
   "metadata": {},
   "outputs": [
    {
     "name": "stdout",
     "output_type": "stream",
     "text": [
      "{'rule_id': 'transactions_page_2_onwards', 'type': 'table', 'config': {'columns': [{'field_name': 'date', 'coordinates': {'top_left': {'x': 0.097, 'y': 0.488}, 'bottom_right': {'x': 0.149, 'y': 0.898}}, 'type': 'text'}, {'field_name': 'description', 'coordinates': {'top_left': {'x': 0.148, 'y': 0.462}, 'bottom_right': {'x': 0.429, 'y': 0.887}}, 'type': 'text'}, {'field_name': 'money_in', 'coordinates': {'top_left': {'x': 0.30778, 'y': 0.690323}, 'bottom_right': {'x': 0.345398, 'y': 1.02621}}, 'type': 'text'}, {'field_name': 'money_out', 'coordinates': {'top_left': {'x': 0.364776, 'y': 0.690323}, 'bottom_right': {'x': 0.402394, 'y': 1.02621}}, 'type': 'text'}, {'field_name': 'balance', 'coordinates': {'top_left': {'x': 0.427472, 'y': 0.690323}, 'bottom_right': {'x': 0.46509, 'y': 1.02621}}, 'type': 'text'}], 'row_delimiter': {'type': 'line'}}}\n",
      "{'field_name': 'description', 'coordinates': {'top_left': {'x': 0.148, 'y': 0.462}, 'bottom_right': {'x': 0.429, 'y': 0.887}}, 'type': 'text'}\n",
      "[0.487292, 0.487292, 0.520309, 0.56639, 0.609382, 0.609382, 0.652375, 0.652375, 0.685392, 0.728385, 0.771378, 0.804394, 0.847387, 0.847387, 0.880404]\n"
     ]
    }
   ],
   "source": [
    "import json\n",
    "import os\n",
    "from src.extractor import Extractor\n",
    "\n",
    "template_name: str = \"barclays_student\"\n",
    "identifier: str = \"march\"\n",
    "template_path: str = os.path.join(\"src\", \"templates\", f\"{template_name}_template.json\")\n",
    "pdf_path: str = os.path.join(\"data\", \"bank_statements\", template_name, \"pdf\", f\"{template_name}_{identifier}.pdf\")\n",
    "pdf_data_path: str = os.path.join(\"src\", \"pdf_data\", f\"{template_name}_{identifier}_pdf_data.json\")\n",
    "output_path: str = os.path.join(\"src\", \"outputs\", f\"{template_name}_{identifier}_output.json\")\n",
    "\n",
    "with open(pdf_path, \"rb\") as pdf_file:\n",
    "    text_extractor = Extractor(pdf_file.read(), template_name, identifier)\n",
    "    extracted_data = text_extractor.extract_data()\n",
    "\n",
    "    with open(pdf_data_path, \"w\") as f:\n",
    "        json.dump(extracted_data, f)\n",
    "\n",
    "template = json.load(open(template_path))\n",
    "pdf_data = json.load(open(pdf_data_path))\n",
    "\n",
    "output_data = json.load(open(output_path))\n",
    "\n",
    "from src.parser import Parser, TableSplitter\n",
    "from src.pdf_utils import ImageDrawer\n",
    "\n",
    "parser = Parser()\n",
    "\n",
    "page_number = 2\n",
    "\n",
    "table_splitter = TableSplitter(template, parser)\n",
    "\n",
    "page_content = pdf_data[\"pages\"][page_number - 1]\n",
    "\n",
    "lines = page_content[\"lines\"]\n",
    "\n",
    "for rule in template[\"rules\"][-1:]:\n",
    "    if rule[\"type\"] == \"table\":\n",
    "        table_rule = rule\n",
    "        print(table_rule)\n",
    "        for column in table_rule[\"config\"][\"columns\"][1:2]:\n",
    "            print(column)\n",
    "            coordinates = column[\"coordinates\"]\n",
    "            delimiter_field_name = \"description\"\n",
    "\n",
    "            delimiter_type = \"line\"\n",
    "\n",
    "            if delimiter_type == \"delimiter\":\n",
    "                delimiter_coordinates = parser.get_delimiter_column_coordinates(\n",
    "                    template, delimiter_field_name\n",
    "                )\n",
    "                lines_y_coordinates = table_splitter.split_table(\n",
    "                    delimiter_type, page_content, delimiter_coordinates\n",
    "                )\n",
    "\n",
    "            if delimiter_type == \"line\":\n",
    "                max_pixel_value = (100, 100, 100)\n",
    "                delimiter_coordinates = parser.get_delimiter_column_coordinates(\n",
    "                    template, delimiter_field_name\n",
    "                )\n",
    "                filtered_lines = parser.filter_lines_by_pixel_value(lines, max_pixel_value)\n",
    "\n",
    "                # Extract only the y coordinates from the filtered lines\n",
    "                lines_y_coordinates = [line[\"decimal_coordinates\"][\"top_left\"][\"y\"] for line in filtered_lines]\n",
    "\n",
    "                print(lines_y_coordinates)\n",
    "\n",
    "            image_with_lines = ImageDrawer.draw_column_box_and_lines(pdf_path, lines_y_coordinates, coordinates, page_number)\n",
    "            image_with_lines.show()\n"
   ]
  },
  {
   "cell_type": "code",
   "execution_count": null,
   "metadata": {},
   "outputs": [],
   "source": []
  }
 ],
 "metadata": {
  "kernelspec": {
   "display_name": "venv",
   "language": "python",
   "name": "python3"
  },
  "language_info": {
   "codemirror_mode": {
    "name": "ipython",
    "version": 3
   },
   "file_extension": ".py",
   "mimetype": "text/x-python",
   "name": "python",
   "nbconvert_exporter": "python",
   "pygments_lexer": "ipython3",
   "version": "3.11.0"
  }
 },
 "nbformat": 4,
 "nbformat_minor": 2
}
