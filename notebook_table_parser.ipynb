{
 "cells": [
  {
   "cell_type": "code",
   "execution_count": 1,
   "metadata": {},
   "outputs": [],
   "source": [
    "import json\n",
    "from src.extractor import TextExtractor\n",
    "\n",
    "pdf_path = \"data/bank_statements/barclays_student/pdf/barclays_student_march.pdf\"\n",
    "\n",
    "with open(pdf_path, \"rb\") as pdf_file:\n",
    "    text_extractor = TextExtractor(pdf_file.read())\n",
    "\n",
    "    # Extract data from the PDF file\n",
    "    extracted_data = text_extractor.extract_text()\n",
    "\n",
    "    with open(\"src/pdf_data/barclays_student_marchpdf_data.json\", \"w\") as f:\n",
    "        json.dump(extracted_data, f)\n",
    "\n"
   ]
  },
  {
   "cell_type": "code",
   "execution_count": 2,
   "metadata": {},
   "outputs": [],
   "source": [
    "import os\n",
    "from typing import Dict, Any\n",
    "\n",
    "template_path: str = os.path.join(\"src\", \"templates\", \"barclays_template.json\")\n",
    "pdf_data_path: str = os.path.join(\"src\", \"pdf_data\", \"barclays_march_2_pdf_data.json\")\n",
    "\n",
    "template: Dict[str, Any] = json.load(open(template_path))\n",
    "pdf_data: Dict[str, Any] = json.load(open(pdf_data_path))\n",
    "\n",
    "output_data = json.load(open(\"src/outputs/barclays_march_2_output.json\"))"
   ]
  },
  {
   "cell_type": "code",
   "execution_count": 3,
   "metadata": {},
   "outputs": [],
   "source": [
    "table_config = template[\"rules\"][-1][\"config\"]"
   ]
  },
  {
   "cell_type": "code",
   "execution_count": 4,
   "metadata": {},
   "outputs": [
    {
     "data": {
      "text/plain": [
       "{'field_name': 'date',\n",
       " 'coordinates': {'top_left': {'x': 0.095, 'y': 0.488},\n",
       "  'bottom_right': {'x': 0.149, 'y': 0.898}},\n",
       " 'type': 'text'}"
      ]
     },
     "execution_count": 4,
     "metadata": {},
     "output_type": "execute_result"
    }
   ],
   "source": [
    "table_config[\"columns\"][0]"
   ]
  },
  {
   "cell_type": "code",
   "execution_count": 5,
   "metadata": {},
   "outputs": [],
   "source": [
    "coordinates = table_config[\"columns\"][0][\"coordinates\"]"
   ]
  },
  {
   "cell_type": "code",
   "execution_count": 6,
   "metadata": {},
   "outputs": [
    {
     "data": {
      "text/plain": [
       "{'top_left': {'x': 0.095, 'y': 0.488},\n",
       " 'bottom_right': {'x': 0.149, 'y': 0.898}}"
      ]
     },
     "execution_count": 6,
     "metadata": {},
     "output_type": "execute_result"
    }
   ],
   "source": [
    "coordinates"
   ]
  },
  {
   "cell_type": "markdown",
   "metadata": {},
   "source": [
    "TABLE PARSER IS THE SAME AS FORM PARSER BUT WE USE LINE SEPARATION TO GET THE BOUNDING BOXES"
   ]
  },
  {
   "cell_type": "markdown",
   "metadata": {},
   "source": [
    "# TABLE SPLITTER"
   ]
  },
  {
   "cell_type": "code",
   "execution_count": 7,
   "metadata": {},
   "outputs": [],
   "source": [
    "from pdfplumber import open as pdf_open\n",
    "from pdf2image import convert_from_path\n",
    "from PIL import Image, ImageDraw\n",
    "import json\n",
    "\n",
    "from src.parser import TableSplitter\n",
    "from src.pdf_utils import ImageDrawer\n",
    "\n",
    "def extract_lines_from_pdf(pdf_data, page_number):\n",
    "    \"\"\"Extract lines from the specified page of the PDF data.\"\"\"\n",
    "    return pdf_data[\"pages\"][page_number][\"lines\"]\n",
    "\n",
    "\n",
    "def draw_lines_and_coordinates(image, coordinates, lines_y_coordinates):\n",
    "    \"\"\"Draw coordinates and horizontal lines on the image.\"\"\"\n",
    "    image_drawer = ImageDrawer(image, image.size[0], image.size[1])\n",
    "    x0 = coordinates[\"top_left\"][\"x\"]\n",
    "    x1 = coordinates[\"bottom_right\"][\"x\"]\n",
    "    y0 = coordinates[\"top_left\"][\"y\"]\n",
    "    y1 = coordinates[\"bottom_right\"][\"y\"]\n",
    "\n",
    "    # Create a list of y coordinates within the range\n",
    "    y_coordinates = [y for y in lines_y_coordinates if y0 <= y <= y1]\n",
    "    \n",
    "    # Generate new coordinate boxes\n",
    "    new_coordinates = []\n",
    "    for i in range(len(y_coordinates) + 1):\n",
    "        top_left = {\"x\": x0, \"y\": y0 if i == 0 else y_coordinates[i - 1]}\n",
    "        bottom_right = {\"x\": x1, \"y\": y1 if i == len(y_coordinates) else y_coordinates[i]}\n",
    "        new_coordinates.append({\"top_left\": top_left, \"bottom_right\": bottom_right})\n",
    "\n",
    "    modified_image = image_drawer.draw_coordinates(new_coordinates)\n",
    "    return modified_image\n",
    "\n",
    "def process_pdf_page_split(pdf_path, table_splitter, page_content, coordinates, delimiter_type, page_number):\n",
    "    lines_y_coordinates = table_splitter.split_table(delimiter_type, page_content, coordinates)\n",
    "    jpg_image = ImageDrawer.create_jpg_image(pdf_path, page_number)\n",
    "    modified_image = draw_lines_and_coordinates(jpg_image, coordinates, lines_y_coordinates)\n",
    "\n",
    "    # Save and show the modified image\n",
    "    modified_image.save(\"output_with_lines_and_rectangles.jpeg\", \"JPEG\")\n",
    "    modified_image.show()\n",
    "\n",
    "from src.parser import Parser\n",
    "\n",
    "parser = Parser()\n",
    "\n",
    "page_number = 2\n",
    "\n",
    "table_splitter = TableSplitter(template, parser)\n",
    "\n",
    "page_content = pdf_data[\"pages\"][page_number - 1]\n",
    "\n",
    "process_pdf_page_split(pdf_path, table_splitter, page_content, coordinates, \"line\", page_number)\n",
    "process_pdf_page_split(pdf_path, table_splitter, page_content, coordinates, \"delimiter\", page_number)\n"
   ]
  },
  {
   "cell_type": "code",
   "execution_count": null,
   "metadata": {},
   "outputs": [],
   "source": []
  }
 ],
 "metadata": {
  "kernelspec": {
   "display_name": "venv",
   "language": "python",
   "name": "python3"
  },
  "language_info": {
   "codemirror_mode": {
    "name": "ipython",
    "version": 3
   },
   "file_extension": ".py",
   "mimetype": "text/x-python",
   "name": "python",
   "nbconvert_exporter": "python",
   "pygments_lexer": "ipython3",
   "version": "3.11.0"
  }
 },
 "nbformat": 4,
 "nbformat_minor": 2
}
