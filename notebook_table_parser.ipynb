{
 "cells": [
  {
   "cell_type": "code",
   "execution_count": 25,
   "metadata": {},
   "outputs": [],
   "source": [
    "class TableParser:\n",
    "    def __init__(self, pdf_data, template):\n",
    "        self.pdf_data = pdf_data\n",
    "        self.template = template\n",
    "\n",
    "    def extract_table_data(self, table_config, page_data):\n",
    "        return None"
   ]
  },
  {
   "cell_type": "code",
   "execution_count": 26,
   "metadata": {},
   "outputs": [],
   "source": [
    "import json\n",
    "import os\n",
    "from typing import Dict, Any\n",
    "\n",
    "template_path: str = os.path.join(\"src\", \"templates\", \"barclays_template.json\")\n",
    "pdf_data_path: str = os.path.join(\"src\", \"pdf_data\", \"barclays_march_2_pdf_data.json\")\n",
    "\n",
    "template: Dict[str, Any] = json.load(open(template_path))\n",
    "pdf_data: Dict[str, Any] = json.load(open(pdf_data_path))\n",
    "\n",
    "output_data = json.load(open(\"src/outputs/barclays_march_2_output.json\"))\n",
    "\n",
    "table_parser = TableParser(pdf_data, template)\n"
   ]
  },
  {
   "cell_type": "code",
   "execution_count": 27,
   "metadata": {},
   "outputs": [],
   "source": [
    "table_config = template[\"rules\"][-1][\"config\"]"
   ]
  },
  {
   "cell_type": "code",
   "execution_count": 28,
   "metadata": {},
   "outputs": [],
   "source": [
    "coordinates = table_config[\"columns\"][0][\"coordinates\"]"
   ]
  },
  {
   "cell_type": "code",
   "execution_count": 34,
   "metadata": {},
   "outputs": [
    {
     "data": {
      "text/plain": [
       "{'top_left': {'x': 0.097, 'y': 0.488},\n",
       " 'bottom_right': {'x': 0.149, 'y': 0.898}}"
      ]
     },
     "execution_count": 34,
     "metadata": {},
     "output_type": "execute_result"
    }
   ],
   "source": [
    "coordinates"
   ]
  },
  {
   "cell_type": "code",
   "execution_count": 29,
   "metadata": {},
   "outputs": [],
   "source": [
    "page_data = pdf_data[\"pages\"][1]"
   ]
  },
  {
   "cell_type": "code",
   "execution_count": 30,
   "metadata": {},
   "outputs": [],
   "source": [
    "page_content = page_data[\"content\"]"
   ]
  },
  {
   "cell_type": "code",
   "execution_count": 31,
   "metadata": {},
   "outputs": [],
   "source": [
    "def get_items_in_bounding_box(page_data, coordinates):\n",
    "    items_in_box = []\n",
    "    for item in page_data:\n",
    "        bounding_box = item[\"bounding_box\"][\"decimal_coordinates\"]\n",
    "        if (\n",
    "            bounding_box[\"top_left\"][\"x\"] >= coordinates[\"top_left\"][\"x\"]\n",
    "            and bounding_box[\"top_left\"][\"y\"] >= coordinates[\"top_left\"][\"y\"]\n",
    "            and bounding_box[\"bottom_right\"][\"x\"]\n",
    "            <= coordinates[\"bottom_right\"][\"x\"]\n",
    "            and bounding_box[\"bottom_right\"][\"y\"]\n",
    "            <= coordinates[\"bottom_right\"][\"y\"]\n",
    "        ):\n",
    "            items_in_box.append(item)\n",
    "    return items_in_box\n",
    "\n",
    "def get_text_from_items(items):\n",
    "    return \" \".join([item[\"text\"] for item in items])\n",
    "\n",
    "def get_text_from_page(page_content, coordinates):\n",
    "    items_within_coordinates = get_items_in_bounding_box(\n",
    "        page_content, coordinates\n",
    "    )\n",
    "    return get_text_from_items(items_within_coordinates)"
   ]
  },
  {
   "cell_type": "code",
   "execution_count": 32,
   "metadata": {},
   "outputs": [
    {
     "data": {
      "text/plain": [
       "'01 Mar 02 Mar 06 Mar 08 Mar'"
      ]
     },
     "execution_count": 32,
     "metadata": {},
     "output_type": "execute_result"
    }
   ],
   "source": [
    "get_text_from_page(page_content, coordinates)"
   ]
  },
  {
   "cell_type": "code",
   "execution_count": 37,
   "metadata": {},
   "outputs": [],
   "source": [
    "line_separation_y_coordinates = [0.488, 0.519, 0.671, 0.834, 0.898]\n",
    "coordinates = {'top_left': {'x': 0.097, 'y': 0.488},\n",
    "               'bottom_right': {'x': 0.149, 'y': 0.898}}\n",
    "\n",
    "partitioned_box = []\n",
    "for i in range(len(line_separation_y_coordinates) - 1):\n",
    "    partitioned_box.append({\n",
    "        'top_left': {'x': coordinates['top_left']['x'], 'y': line_separation_y_coordinates[i]},\n",
    "        'bottom_right': {'x': coordinates['bottom_right']['x'], 'y': line_separation_y_coordinates[i + 1]}\n",
    "    })"
   ]
  },
  {
   "cell_type": "code",
   "execution_count": 40,
   "metadata": {},
   "outputs": [
    {
     "data": {
      "text/plain": [
       "'01 Mar'"
      ]
     },
     "execution_count": 40,
     "metadata": {},
     "output_type": "execute_result"
    }
   ],
   "source": [
    "coordinates = partitioned_box[0]\n",
    "get_text_from_page(page_content, coordinates)\n"
   ]
  },
  {
   "cell_type": "markdown",
   "metadata": {},
   "source": [
    "TABLE PARSER IS THE SAME AS FORM PARSER BUT WE USE LINE SEPARATION TO GET THE BOUNDING BOXES"
   ]
  }
 ],
 "metadata": {
  "kernelspec": {
   "display_name": "venv",
   "language": "python",
   "name": "python3"
  },
  "language_info": {
   "codemirror_mode": {
    "name": "ipython",
    "version": 3
   },
   "file_extension": ".py",
   "mimetype": "text/x-python",
   "name": "python",
   "nbconvert_exporter": "python",
   "pygments_lexer": "ipython3",
   "version": "3.11.0"
  }
 },
 "nbformat": 4,
 "nbformat_minor": 2
}
