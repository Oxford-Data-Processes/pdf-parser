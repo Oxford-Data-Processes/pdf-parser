{
 "cells": [
  {
   "cell_type": "code",
   "execution_count": 20,
   "metadata": {},
   "outputs": [],
   "source": [
    "import json\n",
    "from src.extractor import TextExtractor\n",
    "\n",
    "pdf_path = \"data/bank_statements/barclays/pdf/barclays March 2.pdf\"\n",
    "\n",
    "with open(pdf_path, \"rb\") as pdf_file:\n",
    "    text_extractor = TextExtractor(pdf_file.read())\n",
    "\n",
    "    # Extract data from the PDF file\n",
    "    extracted_data = text_extractor.extract_text()\n",
    "\n",
    "    with open(\"src/pdf_data/barclays_march_2_pdf_data.json\", \"w\") as f:\n",
    "        json.dump(extracted_data, f)\n",
    "\n"
   ]
  },
  {
   "cell_type": "code",
   "execution_count": 21,
   "metadata": {},
   "outputs": [],
   "source": [
    "import os\n",
    "from typing import Dict, Any\n",
    "\n",
    "template_path: str = os.path.join(\"src\", \"templates\", \"barclays_template.json\")\n",
    "pdf_data_path: str = os.path.join(\"src\", \"pdf_data\", \"barclays_march_2_pdf_data.json\")\n",
    "\n",
    "template: Dict[str, Any] = json.load(open(template_path))\n",
    "pdf_data: Dict[str, Any] = json.load(open(pdf_data_path))\n",
    "\n",
    "output_data = json.load(open(\"src/outputs/barclays_march_2_output.json\"))"
   ]
  },
  {
   "cell_type": "code",
   "execution_count": 22,
   "metadata": {},
   "outputs": [],
   "source": [
    "table_config = template[\"rules\"][-1][\"config\"]"
   ]
  },
  {
   "cell_type": "code",
   "execution_count": 23,
   "metadata": {},
   "outputs": [
    {
     "data": {
      "text/plain": [
       "{'field_name': 'date',\n",
       " 'coordinates': {'top_left': {'x': 0.095, 'y': 0.488},\n",
       "  'bottom_right': {'x': 0.149, 'y': 0.898}},\n",
       " 'type': 'text'}"
      ]
     },
     "execution_count": 23,
     "metadata": {},
     "output_type": "execute_result"
    }
   ],
   "source": [
    "table_config[\"columns\"][0]"
   ]
  },
  {
   "cell_type": "code",
   "execution_count": 24,
   "metadata": {},
   "outputs": [],
   "source": [
    "coordinates = table_config[\"columns\"][0][\"coordinates\"]"
   ]
  },
  {
   "cell_type": "code",
   "execution_count": 25,
   "metadata": {},
   "outputs": [
    {
     "data": {
      "text/plain": [
       "{'top_left': {'x': 0.095, 'y': 0.488},\n",
       " 'bottom_right': {'x': 0.149, 'y': 0.898}}"
      ]
     },
     "execution_count": 25,
     "metadata": {},
     "output_type": "execute_result"
    }
   ],
   "source": [
    "coordinates"
   ]
  },
  {
   "cell_type": "code",
   "execution_count": 26,
   "metadata": {},
   "outputs": [],
   "source": [
    "page_content = pdf_data[\"pages\"][1][\"content\"]"
   ]
  },
  {
   "cell_type": "code",
   "execution_count": 27,
   "metadata": {},
   "outputs": [],
   "source": [
    "from src.parser import Parser\n",
    "\n",
    "parser = Parser()\n",
    "\n",
    "items_within_coordinates = parser.get_items_in_bounding_box(\n",
    "    page_content, coordinates\n",
    ")"
   ]
  },
  {
   "cell_type": "markdown",
   "metadata": {},
   "source": [
    "TABLE PARSER IS THE SAME AS FORM PARSER BUT WE USE LINE SEPARATION TO GET THE BOUNDING BOXES"
   ]
  },
  {
   "cell_type": "markdown",
   "metadata": {},
   "source": [
    "# TABLE SPLITTER"
   ]
  },
  {
   "cell_type": "code",
   "execution_count": 28,
   "metadata": {},
   "outputs": [
    {
     "name": "stdout",
     "output_type": "stream",
     "text": [
      "[0.48729199999999995, 0.609382, 0.6523749999999999, 0.6720900000000001, 0.847387]\n",
      "Image dimensions: 1653x2339\n",
      "\n",
      "Drawing lines and rectangles...\n",
      "Successfully drew 5 lines\n",
      "\n",
      "Process completed successfully!\n",
      "Check 'output_with_lines_and_rectangles.jpeg' for the result\n"
     ]
    }
   ],
   "source": [
    "from pdfplumber import open as pdf_open\n",
    "from pdf2image import convert_from_path\n",
    "from PIL import Image, ImageDraw\n",
    "import json\n",
    "\n",
    "from src.parser import TableSplitter\n",
    "from src.pdf_utils import ImageDrawer\n",
    "\n",
    "def extract_lines_from_pdf(pdf_data, page_number):\n",
    "    \"\"\"Extract lines from the specified page of the PDF data.\"\"\"\n",
    "    return pdf_data[\"pages\"][page_number][\"lines\"]\n",
    "\n",
    "\n",
    "def draw_lines_and_coordinates(image, coordinates, lines_y_coordinates):\n",
    "    \"\"\"Draw coordinates and horizontal lines on the image.\"\"\"\n",
    "    image_drawer = ImageDrawer(image, image.size[0], image.size[1])\n",
    "    # modified_image = image_drawer.draw_coordinates([coordinates])\n",
    "    modified_image = image_drawer.draw_horizontal_lines(lines_y_coordinates)\n",
    "    return modified_image\n",
    "\n",
    "def process_pdf_page(pdf_data, pdf_path, template, parser, coordinates):\n",
    "    \"\"\"Process a specific page of the PDF to extract lines and draw them.\"\"\"\n",
    "    table_splitter = TableSplitter(template, parser)\n",
    "    page_content = pdf_data[\"pages\"][1]\n",
    "    \n",
    "    lines_y_coordinates = table_splitter.split_table(\"line\", page_content, coordinates)\n",
    "\n",
    "    print(lines_y_coordinates)\n",
    "\n",
    "    jpg_image = ImageDrawer.create_jpg_image(pdf_path)\n",
    "\n",
    "    print(\"\\nDrawing lines and rectangles...\")\n",
    "    modified_image = draw_lines_and_coordinates(jpg_image, coordinates, lines_y_coordinates)\n",
    "\n",
    "    # Save and show the modified image\n",
    "    modified_image.save(\"output_with_lines_and_rectangles.jpeg\", \"JPEG\")\n",
    "    modified_image.show()\n",
    "\n",
    "    print(\"\\nProcess completed successfully!\")\n",
    "    print(\"Check 'output_with_lines_and_rectangles.jpeg' for the result\")\n",
    "\n",
    "# Call the process function\n",
    "process_pdf_page(pdf_data, pdf_path, template, parser, coordinates)"
   ]
  }
 ],
 "metadata": {
  "kernelspec": {
   "display_name": "venv",
   "language": "python",
   "name": "python3"
  },
  "language_info": {
   "codemirror_mode": {
    "name": "ipython",
    "version": 3
   },
   "file_extension": ".py",
   "mimetype": "text/x-python",
   "name": "python",
   "nbconvert_exporter": "python",
   "pygments_lexer": "ipython3",
   "version": "3.11.0"
  }
 },
 "nbformat": 4,
 "nbformat_minor": 2
}
