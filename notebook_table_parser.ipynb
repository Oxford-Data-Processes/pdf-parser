{
 "cells": [
  {
   "cell_type": "code",
   "execution_count": 1,
   "metadata": {},
   "outputs": [],
   "source": [
    "class TableParser:\n",
    "    def __init__(self, pdf_data, template):\n",
    "        self.pdf_data = pdf_data\n",
    "        self.template = template\n",
    "\n",
    "    def extract_table_data(self, table_config, page_data):\n",
    "        return None"
   ]
  },
  {
   "cell_type": "code",
   "execution_count": 2,
   "metadata": {},
   "outputs": [],
   "source": [
    "import json\n",
    "import os\n",
    "from typing import Dict, Any\n",
    "\n",
    "template_path: str = os.path.join(\"src\", \"templates\", \"barclays_template.json\")\n",
    "pdf_data_path: str = os.path.join(\"src\", \"pdf_data\", \"barclays_march_2_pdf_data.json\")\n",
    "\n",
    "template: Dict[str, Any] = json.load(open(template_path))\n",
    "pdf_data: Dict[str, Any] = json.load(open(pdf_data_path))\n",
    "\n",
    "output_data = json.load(open(\"src/outputs/barclays_march_2_output.json\"))\n",
    "\n",
    "table_parser = TableParser(pdf_data, template)\n"
   ]
  },
  {
   "cell_type": "code",
   "execution_count": 3,
   "metadata": {},
   "outputs": [],
   "source": [
    "table_config = template[\"rules\"][-1][\"config\"]"
   ]
  },
  {
   "cell_type": "code",
   "execution_count": 4,
   "metadata": {},
   "outputs": [
    {
     "data": {
      "text/plain": [
       "{'field_name': 'date',\n",
       " 'coordinates': {'top_left': {'x': 0.097, 'y': 0.488},\n",
       "  'bottom_right': {'x': 0.149, 'y': 0.898}},\n",
       " 'type': 'text'}"
      ]
     },
     "execution_count": 4,
     "metadata": {},
     "output_type": "execute_result"
    }
   ],
   "source": [
    "table_config[\"columns\"][0]"
   ]
  },
  {
   "cell_type": "code",
   "execution_count": 5,
   "metadata": {},
   "outputs": [],
   "source": [
    "coordinates = table_config[\"columns\"][0][\"coordinates\"]"
   ]
  },
  {
   "cell_type": "code",
   "execution_count": 6,
   "metadata": {},
   "outputs": [
    {
     "data": {
      "text/plain": [
       "{'top_left': {'x': 0.097, 'y': 0.488},\n",
       " 'bottom_right': {'x': 0.149, 'y': 0.898}}"
      ]
     },
     "execution_count": 6,
     "metadata": {},
     "output_type": "execute_result"
    }
   ],
   "source": [
    "coordinates"
   ]
  },
  {
   "cell_type": "code",
   "execution_count": 7,
   "metadata": {},
   "outputs": [],
   "source": [
    "page_data = pdf_data[\"pages\"][1]"
   ]
  },
  {
   "cell_type": "code",
   "execution_count": 8,
   "metadata": {},
   "outputs": [],
   "source": [
    "page_content = page_data[\"content\"]"
   ]
  },
  {
   "cell_type": "code",
   "execution_count": 9,
   "metadata": {},
   "outputs": [],
   "source": [
    "def get_items_in_bounding_box(page_data, coordinates):\n",
    "    items_in_box = []\n",
    "    for item in page_data:\n",
    "        bounding_box = item[\"bounding_box\"][\"decimal_coordinates\"]\n",
    "        if (\n",
    "            bounding_box[\"top_left\"][\"x\"] >= coordinates[\"top_left\"][\"x\"]\n",
    "            and bounding_box[\"top_left\"][\"y\"] >= coordinates[\"top_left\"][\"y\"]\n",
    "            and bounding_box[\"bottom_right\"][\"x\"]\n",
    "            <= coordinates[\"bottom_right\"][\"x\"]\n",
    "            and bounding_box[\"bottom_right\"][\"y\"]\n",
    "            <= coordinates[\"bottom_right\"][\"y\"]\n",
    "        ):\n",
    "            items_in_box.append(item)\n",
    "    return items_in_box\n",
    "\n",
    "def get_text_from_items(items):\n",
    "    return \" \".join([item[\"text\"] for item in items])\n",
    "\n",
    "\n"
   ]
  },
  {
   "cell_type": "code",
   "execution_count": 10,
   "metadata": {},
   "outputs": [],
   "source": [
    "items_within_coordinates = get_items_in_bounding_box(\n",
    "    page_content, coordinates\n",
    ")"
   ]
  },
  {
   "cell_type": "code",
   "execution_count": 11,
   "metadata": {},
   "outputs": [
    {
     "data": {
      "text/plain": [
       "[{'text': '01',\n",
       "  'bounding_box': {'coordinates': {'top_left': {'x': 58.0, 'y': 415.55},\n",
       "    'bottom_right': {'x': 68.03, 'y': 424.55}},\n",
       "   'decimal_coordinates': {'top_left': {'x': 0.097479, 'y': 0.493527},\n",
       "    'bottom_right': {'x': 0.114336, 'y': 0.504216}}}},\n",
       " {'text': 'Mar',\n",
       "  'bounding_box': {'coordinates': {'top_left': {'x': 70.23, 'y': 415.55},\n",
       "    'bottom_right': {'x': 85.96, 'y': 424.55}},\n",
       "   'decimal_coordinates': {'top_left': {'x': 0.118034, 'y': 0.493527},\n",
       "    'bottom_right': {'x': 0.144471, 'y': 0.504216}}}},\n",
       " {'text': '02',\n",
       "  'bounding_box': {'coordinates': {'top_left': {'x': 58.0, 'y': 518.35},\n",
       "    'bottom_right': {'x': 68.03, 'y': 527.35}},\n",
       "   'decimal_coordinates': {'top_left': {'x': 0.097479, 'y': 0.615618},\n",
       "    'bottom_right': {'x': 0.114336, 'y': 0.626306}}}},\n",
       " {'text': 'Mar',\n",
       "  'bounding_box': {'coordinates': {'top_left': {'x': 70.23, 'y': 518.35},\n",
       "    'bottom_right': {'x': 85.96, 'y': 527.35}},\n",
       "   'decimal_coordinates': {'top_left': {'x': 0.118034, 'y': 0.615618},\n",
       "    'bottom_right': {'x': 0.144471, 'y': 0.626306}}}},\n",
       " {'text': '06',\n",
       "  'bounding_box': {'coordinates': {'top_left': {'x': 58.0, 'y': 554.55},\n",
       "    'bottom_right': {'x': 68.03, 'y': 563.55}},\n",
       "   'decimal_coordinates': {'top_left': {'x': 0.097479, 'y': 0.65861},\n",
       "    'bottom_right': {'x': 0.114336, 'y': 0.669299}}}},\n",
       " {'text': 'Mar',\n",
       "  'bounding_box': {'coordinates': {'top_left': {'x': 70.23, 'y': 554.55},\n",
       "    'bottom_right': {'x': 85.96, 'y': 563.55}},\n",
       "   'decimal_coordinates': {'top_left': {'x': 0.118034, 'y': 0.65861},\n",
       "    'bottom_right': {'x': 0.144471, 'y': 0.669299}}}},\n",
       " {'text': '08',\n",
       "  'bounding_box': {'coordinates': {'top_left': {'x': 58.0, 'y': 718.75},\n",
       "    'bottom_right': {'x': 68.03, 'y': 727.75}},\n",
       "   'decimal_coordinates': {'top_left': {'x': 0.097479, 'y': 0.853622},\n",
       "    'bottom_right': {'x': 0.114336, 'y': 0.864311}}}},\n",
       " {'text': 'Mar',\n",
       "  'bounding_box': {'coordinates': {'top_left': {'x': 70.23, 'y': 718.75},\n",
       "    'bottom_right': {'x': 85.96, 'y': 727.75}},\n",
       "   'decimal_coordinates': {'top_left': {'x': 0.118034, 'y': 0.853622},\n",
       "    'bottom_right': {'x': 0.144471, 'y': 0.864311}}}}]"
      ]
     },
     "execution_count": 11,
     "metadata": {},
     "output_type": "execute_result"
    }
   ],
   "source": [
    "items_within_coordinates"
   ]
  },
  {
   "cell_type": "code",
   "execution_count": 12,
   "metadata": {},
   "outputs": [
    {
     "data": {
      "text/plain": [
       "'01 Mar 02 Mar 06 Mar 08 Mar'"
      ]
     },
     "execution_count": 12,
     "metadata": {},
     "output_type": "execute_result"
    }
   ],
   "source": [
    "get_text_from_items(items_within_coordinates)"
   ]
  },
  {
   "cell_type": "code",
   "execution_count": 13,
   "metadata": {},
   "outputs": [],
   "source": [
    "line_separation_y_coordinates = [0.488, 0.519, 0.671, 0.834, 0.898]\n",
    "coordinates = {'top_left': {'x': 0.097, 'y': 0.488},\n",
    "               'bottom_right': {'x': 0.149, 'y': 0.898}}\n",
    "\n",
    "partitioned_box = []\n",
    "for i in range(len(line_separation_y_coordinates) - 1):\n",
    "    partitioned_box.append({\n",
    "        'top_left': {'x': coordinates['top_left']['x'], 'y': line_separation_y_coordinates[i]},\n",
    "        'bottom_right': {'x': coordinates['bottom_right']['x'], 'y': line_separation_y_coordinates[i + 1]}\n",
    "    })"
   ]
  },
  {
   "cell_type": "code",
   "execution_count": 14,
   "metadata": {},
   "outputs": [],
   "source": [
    "coordinates = partitioned_box[0]\n",
    "# get_text_from_page(page_content, coordinates)\n"
   ]
  },
  {
   "cell_type": "markdown",
   "metadata": {},
   "source": [
    "TABLE PARSER IS THE SAME AS FORM PARSER BUT WE USE LINE SEPARATION TO GET THE BOUNDING BOXES"
   ]
  },
  {
   "cell_type": "code",
   "execution_count": null,
   "metadata": {},
   "outputs": [],
   "source": []
  },
  {
   "cell_type": "markdown",
   "metadata": {},
   "source": [
    "# TABLE SPLITTER"
   ]
  },
  {
   "cell_type": "code",
   "execution_count": 15,
   "metadata": {},
   "outputs": [],
   "source": [
    "from pdfplumber import open as pdf_open\n",
    "from pdf2image import convert_from_path\n",
    "from PIL import Image, ImageDraw\n",
    "\n",
    "\n",
    "pdf_path = \"data/bank_statements/barclays/pdf/barclays March 2.pdf\"\n",
    "\n",
    "# Open the PDF and get the second page\n",
    "with pdf_open(pdf_path) as pdf:\n",
    "    page = pdf.pages[1]\n",
    "    lines = page.lines  # Get lines from the second page\n",
    "\n",
    "# Convert the PDF page to a JPG image\n",
    "images = convert_from_path(pdf_path)\n",
    "jpg_image_original = images[1]  # Get the second page as a JPG\n",
    "\n",
    "jpg_image_original.save(\"barclays_apr_2.jpeg\", \"JPEG\")\n",
    "\n",
    "# Get the dimensions of the PDF page\n",
    "pdf_width = page.width\n",
    "pdf_height = page.height\n",
    "\n",
    "jpg_image_original_copy = jpg_image_original.copy()\n",
    "# Create a draw object\n",
    "draw = ImageDraw.Draw(jpg_image_original_copy)\n",
    "\n",
    "# Draw red boxes around the lines using scaled dimensions\n",
    "for line in lines:\n",
    "    x0 = line['x0'] * (jpg_image_original.width / pdf_width) - 2\n",
    "    y0 = line['top'] * (jpg_image_original.height / pdf_height) - 2\n",
    "    x1 = line['x1'] * (jpg_image_original.width / pdf_width) + 2\n",
    "    y1 = line['bottom'] * (jpg_image_original.height / pdf_height) + 2\n",
    "    \n",
    "    # Get the pixel color in the middle of the bounding box\n",
    "    mid_x = int((x0 + x1) / 2)\n",
    "    mid_y = int((y0 + y1) / 2)\n",
    "    pixel_color = jpg_image_original_copy.getpixel((mid_x, mid_y))    \n",
    "    # if pixel_color[0] > 150 and pixel_color[1] > 150 and pixel_color[2] > 150:\n",
    "    draw.rectangle([x0, y0, x1, y1], outline=\"red\", width=2)  # Draw the red box around each line\n",
    "\n",
    "# # Save the image with the drawn boxes locally as 'barclays_apr_2.jpeg'\n",
    "jpg_image_original_copy.show()"
   ]
  },
  {
   "cell_type": "code",
   "execution_count": 16,
   "metadata": {},
   "outputs": [],
   "source": [
    "# Splitter based on delimiter\n"
   ]
  },
  {
   "cell_type": "code",
   "execution_count": 17,
   "metadata": {},
   "outputs": [
    {
     "data": {
      "text/plain": [
       "[{'text': '01',\n",
       "  'bounding_box': {'coordinates': {'top_left': {'x': 58.0, 'y': 415.55},\n",
       "    'bottom_right': {'x': 68.03, 'y': 424.55}},\n",
       "   'decimal_coordinates': {'top_left': {'x': 0.097479, 'y': 0.493527},\n",
       "    'bottom_right': {'x': 0.114336, 'y': 0.504216}}}},\n",
       " {'text': 'Mar',\n",
       "  'bounding_box': {'coordinates': {'top_left': {'x': 70.23, 'y': 415.55},\n",
       "    'bottom_right': {'x': 85.96, 'y': 424.55}},\n",
       "   'decimal_coordinates': {'top_left': {'x': 0.118034, 'y': 0.493527},\n",
       "    'bottom_right': {'x': 0.144471, 'y': 0.504216}}}},\n",
       " {'text': '02',\n",
       "  'bounding_box': {'coordinates': {'top_left': {'x': 58.0, 'y': 518.35},\n",
       "    'bottom_right': {'x': 68.03, 'y': 527.35}},\n",
       "   'decimal_coordinates': {'top_left': {'x': 0.097479, 'y': 0.615618},\n",
       "    'bottom_right': {'x': 0.114336, 'y': 0.626306}}}},\n",
       " {'text': 'Mar',\n",
       "  'bounding_box': {'coordinates': {'top_left': {'x': 70.23, 'y': 518.35},\n",
       "    'bottom_right': {'x': 85.96, 'y': 527.35}},\n",
       "   'decimal_coordinates': {'top_left': {'x': 0.118034, 'y': 0.615618},\n",
       "    'bottom_right': {'x': 0.144471, 'y': 0.626306}}}},\n",
       " {'text': '06',\n",
       "  'bounding_box': {'coordinates': {'top_left': {'x': 58.0, 'y': 554.55},\n",
       "    'bottom_right': {'x': 68.03, 'y': 563.55}},\n",
       "   'decimal_coordinates': {'top_left': {'x': 0.097479, 'y': 0.65861},\n",
       "    'bottom_right': {'x': 0.114336, 'y': 0.669299}}}},\n",
       " {'text': 'Mar',\n",
       "  'bounding_box': {'coordinates': {'top_left': {'x': 70.23, 'y': 554.55},\n",
       "    'bottom_right': {'x': 85.96, 'y': 563.55}},\n",
       "   'decimal_coordinates': {'top_left': {'x': 0.118034, 'y': 0.65861},\n",
       "    'bottom_right': {'x': 0.144471, 'y': 0.669299}}}},\n",
       " {'text': '08',\n",
       "  'bounding_box': {'coordinates': {'top_left': {'x': 58.0, 'y': 718.75},\n",
       "    'bottom_right': {'x': 68.03, 'y': 727.75}},\n",
       "   'decimal_coordinates': {'top_left': {'x': 0.097479, 'y': 0.853622},\n",
       "    'bottom_right': {'x': 0.114336, 'y': 0.864311}}}},\n",
       " {'text': 'Mar',\n",
       "  'bounding_box': {'coordinates': {'top_left': {'x': 70.23, 'y': 718.75},\n",
       "    'bottom_right': {'x': 85.96, 'y': 727.75}},\n",
       "   'decimal_coordinates': {'top_left': {'x': 0.118034, 'y': 0.853622},\n",
       "    'bottom_right': {'x': 0.144471, 'y': 0.864311}}}}]"
      ]
     },
     "execution_count": 17,
     "metadata": {},
     "output_type": "execute_result"
    }
   ],
   "source": [
    "items_within_coordinates"
   ]
  },
  {
   "cell_type": "code",
   "execution_count": 20,
   "metadata": {},
   "outputs": [
    {
     "name": "stdout",
     "output_type": "stream",
     "text": [
      "[0.493527, 0.615618, 0.65861, 0.853622]\n"
     ]
    }
   ],
   "source": [
    "def extract_unique_y_values(items_within_coordinates):\n",
    "    y_values = {item['bounding_box']['decimal_coordinates']['top_left']['y'] for item in items_within_coordinates}\n",
    "    return sorted(y_values)\n",
    "\n",
    "unique_y_values = extract_unique_y_values(items_within_coordinates)\n",
    "\n",
    "print(unique_y_values)\n",
    "\n",
    "jpg_image_original_copy = jpg_image_original.copy()\n",
    "\n",
    "draw = ImageDraw.Draw(jpg_image_original_copy)\n",
    "\n",
    "# Ensure the lines are drawn at the correct height\n",
    "for y in unique_y_values:\n",
    "    # Calculate the y position in pixels\n",
    "    pixel_y = y * (jpg_image_original.height )\n",
    "    draw.line([(0, pixel_y), (jpg_image_original.width, pixel_y)], fill=\"red\", width=5)\n",
    "\n",
    "jpg_image_original_copy.show()"
   ]
  },
  {
   "cell_type": "code",
   "execution_count": null,
   "metadata": {},
   "outputs": [],
   "source": []
  }
 ],
 "metadata": {
  "kernelspec": {
   "display_name": "venv",
   "language": "python",
   "name": "python3"
  },
  "language_info": {
   "codemirror_mode": {
    "name": "ipython",
    "version": 3
   },
   "file_extension": ".py",
   "mimetype": "text/x-python",
   "name": "python",
   "nbconvert_exporter": "python",
   "pygments_lexer": "ipython3",
   "version": "3.11.0"
  }
 },
 "nbformat": 4,
 "nbformat_minor": 2
}
