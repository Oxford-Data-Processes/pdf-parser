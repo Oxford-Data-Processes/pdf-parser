{
 "cells": [
  {
   "cell_type": "code",
   "execution_count": 23,
   "metadata": {},
   "outputs": [],
   "source": [
    "import json\n",
    "import os\n",
    "from src.extractor import TextExtractor\n",
    "\n",
    "template_path: str = os.path.join(\"src\", \"templates\", \"barclays_student_template.json\")\n",
    "pdf_path: str = os.path.join(\"data\", \"bank_statements\", \"barclays_student\", \"pdf\", \"barclays_student_march.pdf\")\n",
    "pdf_data_path: str = os.path.join(\"src\", \"pdf_data\", \"barclays_student_march_pdf_data.json\")\n",
    "output_path: str = os.path.join(\"src\", \"outputs\", \"barclays_student_march_output.json\")\n",
    "\n",
    "with open(pdf_path, \"rb\") as pdf_file:\n",
    "    text_extractor = TextExtractor(pdf_file.read())\n",
    "    extracted_data = text_extractor.extract_text()\n",
    "\n",
    "    with open(pdf_data_path, \"w\") as f:\n",
    "        json.dump(extracted_data, f)\n",
    "\n",
    "template = json.load(open(template_path))\n",
    "pdf_data = json.load(open(pdf_data_path))\n",
    "\n",
    "output_data = json.load(open(output_path))\n",
    "\n",
    "\n",
    "from src.parser import Parser, TableSplitter\n",
    "from src.pdf_utils import ImageDrawer\n",
    "\n",
    "parser = Parser()\n",
    "\n",
    "page_number = 2\n",
    "\n",
    "table_splitter = TableSplitter(template, parser)\n",
    "\n",
    "page_content = pdf_data[\"pages\"][page_number - 1]\n",
    "\n",
    "template = json.load(open(template_path))\n",
    "\n",
    "for rule in template[\"rules\"][-1:]:\n",
    "    if rule[\"type\"] == \"table\":\n",
    "        table_config = rule[\"config\"]\n",
    "        for column in table_config[\"columns\"][:1]:\n",
    "            coordinates = column[\"coordinates\"]\n",
    "            image_with_lines = ImageDrawer.draw_column_box_and_lines(pdf_path, table_splitter, page_content, coordinates, \"line\", page_number)\n",
    "            image_with_lines.show()\n",
    "            image_with_delimiters = ImageDrawer.draw_column_box_and_lines(pdf_path, table_splitter, page_content, coordinates, \"delimiter\", page_number)\n",
    "            image_with_delimiters.show()\n",
    "\n"
   ]
  },
  {
   "cell_type": "code",
   "execution_count": null,
   "metadata": {},
   "outputs": [],
   "source": []
  }
 ],
 "metadata": {
  "kernelspec": {
   "display_name": "venv",
   "language": "python",
   "name": "python3"
  },
  "language_info": {
   "codemirror_mode": {
    "name": "ipython",
    "version": 3
   },
   "file_extension": ".py",
   "mimetype": "text/x-python",
   "name": "python",
   "nbconvert_exporter": "python",
   "pygments_lexer": "ipython3",
   "version": "3.11.0"
  }
 },
 "nbformat": 4,
 "nbformat_minor": 2
}
