{
 "cells": [
  {
   "cell_type": "code",
   "execution_count": 1,
   "metadata": {},
   "outputs": [],
   "source": [
    "import json\n",
    "from src.extractor import TextExtractor\n",
    "\n",
    "pdf_path = \"data/bank_statements/barclays_student/pdf/barclays_student_march.pdf\"\n",
    "\n",
    "with open(pdf_path, \"rb\") as pdf_file:\n",
    "    text_extractor = TextExtractor(pdf_file.read())\n",
    "\n",
    "    # Extract data from the PDF file\n",
    "    extracted_data = text_extractor.extract_text()\n",
    "\n",
    "    with open(\"src/pdf_data/barclays_student_marchpdf_data.json\", \"w\") as f:\n",
    "        json.dump(extracted_data, f)\n",
    "\n"
   ]
  },
  {
   "cell_type": "code",
   "execution_count": 2,
   "metadata": {},
   "outputs": [],
   "source": [
    "import os\n",
    "from typing import Dict, Any\n",
    "\n",
    "template_path: str = os.path.join(\"src\", \"templates\", \"barclays_template.json\")\n",
    "pdf_data_path: str = os.path.join(\"src\", \"pdf_data\", \"barclays_march_2_pdf_data.json\")\n",
    "\n",
    "template: Dict[str, Any] = json.load(open(template_path))\n",
    "pdf_data: Dict[str, Any] = json.load(open(pdf_data_path))\n",
    "\n",
    "output_data = json.load(open(\"src/outputs/barclays_march_2_output.json\"))"
   ]
  },
  {
   "cell_type": "code",
   "execution_count": 3,
   "metadata": {},
   "outputs": [],
   "source": [
    "table_config = template[\"rules\"][-1][\"config\"]"
   ]
  },
  {
   "cell_type": "code",
   "execution_count": 4,
   "metadata": {},
   "outputs": [
    {
     "data": {
      "text/plain": [
       "{'field_name': 'date',\n",
       " 'coordinates': {'top_left': {'x': 0.095, 'y': 0.488},\n",
       "  'bottom_right': {'x': 0.149, 'y': 0.898}},\n",
       " 'type': 'text'}"
      ]
     },
     "execution_count": 4,
     "metadata": {},
     "output_type": "execute_result"
    }
   ],
   "source": [
    "table_config[\"columns\"][0]"
   ]
  },
  {
   "cell_type": "code",
   "execution_count": 5,
   "metadata": {},
   "outputs": [],
   "source": [
    "coordinates = table_config[\"columns\"][0][\"coordinates\"]"
   ]
  },
  {
   "cell_type": "code",
   "execution_count": 6,
   "metadata": {},
   "outputs": [
    {
     "data": {
      "text/plain": [
       "{'top_left': {'x': 0.095, 'y': 0.488},\n",
       " 'bottom_right': {'x': 0.149, 'y': 0.898}}"
      ]
     },
     "execution_count": 6,
     "metadata": {},
     "output_type": "execute_result"
    }
   ],
   "source": [
    "coordinates"
   ]
  },
  {
   "cell_type": "markdown",
   "metadata": {},
   "source": [
    "TABLE PARSER IS THE SAME AS FORM PARSER BUT WE USE LINE SEPARATION TO GET THE BOUNDING BOXES"
   ]
  },
  {
   "cell_type": "markdown",
   "metadata": {},
   "source": [
    "# TABLE SPLITTER"
   ]
  },
  {
   "cell_type": "code",
   "execution_count": 7,
   "metadata": {},
   "outputs": [
    {
     "ename": "TypeError",
     "evalue": "string indices must be integers, not 'str'",
     "output_type": "error",
     "traceback": [
      "\u001b[0;31m---------------------------------------------------------------------------\u001b[0m",
      "\u001b[0;31mTypeError\u001b[0m                                 Traceback (most recent call last)",
      "Cell \u001b[0;32mIn[7], line 55\u001b[0m\n\u001b[1;32m     52\u001b[0m page_content \u001b[38;5;241m=\u001b[39m pdf_data[\u001b[38;5;124m\"\u001b[39m\u001b[38;5;124mpages\u001b[39m\u001b[38;5;124m\"\u001b[39m][page_number \u001b[38;5;241m-\u001b[39m \u001b[38;5;241m1\u001b[39m]\n\u001b[1;32m     54\u001b[0m process_pdf_page_split(pdf_path, table_splitter, page_content, coordinates, \u001b[38;5;124m\"\u001b[39m\u001b[38;5;124mline\u001b[39m\u001b[38;5;124m\"\u001b[39m, page_number)\n\u001b[0;32m---> 55\u001b[0m \u001b[43mprocess_pdf_page_split\u001b[49m\u001b[43m(\u001b[49m\u001b[43mpdf_path\u001b[49m\u001b[43m,\u001b[49m\u001b[43m \u001b[49m\u001b[43mtable_splitter\u001b[49m\u001b[43m,\u001b[49m\u001b[43m \u001b[49m\u001b[43mpage_content\u001b[49m\u001b[43m,\u001b[49m\u001b[43m \u001b[49m\u001b[43mcoordinates\u001b[49m\u001b[43m,\u001b[49m\u001b[43m \u001b[49m\u001b[38;5;124;43m\"\u001b[39;49m\u001b[38;5;124;43mdelimiter\u001b[39;49m\u001b[38;5;124;43m\"\u001b[39;49m\u001b[43m,\u001b[49m\u001b[43m \u001b[49m\u001b[43mpage_number\u001b[49m\u001b[43m)\u001b[49m\n",
      "Cell \u001b[0;32mIn[7], line 36\u001b[0m, in \u001b[0;36mprocess_pdf_page_split\u001b[0;34m(pdf_path, table_splitter, page_content, coordinates, delimiter_type, page_number)\u001b[0m\n\u001b[1;32m     35\u001b[0m \u001b[38;5;28;01mdef\u001b[39;00m \u001b[38;5;21mprocess_pdf_page_split\u001b[39m(pdf_path, table_splitter, page_content, coordinates, delimiter_type, page_number):\n\u001b[0;32m---> 36\u001b[0m     lines_y_coordinates \u001b[38;5;241m=\u001b[39m \u001b[43mtable_splitter\u001b[49m\u001b[38;5;241;43m.\u001b[39;49m\u001b[43msplit_table\u001b[49m\u001b[43m(\u001b[49m\u001b[43mdelimiter_type\u001b[49m\u001b[43m,\u001b[49m\u001b[43m \u001b[49m\u001b[43mpage_content\u001b[49m\u001b[43m,\u001b[49m\u001b[43m \u001b[49m\u001b[43mcoordinates\u001b[49m\u001b[43m)\u001b[49m\n\u001b[1;32m     37\u001b[0m     jpg_image \u001b[38;5;241m=\u001b[39m ImageDrawer\u001b[38;5;241m.\u001b[39mcreate_jpg_image(pdf_path, page_number)\n\u001b[1;32m     38\u001b[0m     modified_image \u001b[38;5;241m=\u001b[39m draw_lines_and_coordinates(jpg_image, coordinates, lines_y_coordinates)\n",
      "File \u001b[0;32m~/GitHub/pdf-parser/src/parser.py:117\u001b[0m, in \u001b[0;36mTableSplitter.split_table\u001b[0;34m(self, row_delimiter_type, page_content, coordinates)\u001b[0m\n\u001b[1;32m    115\u001b[0m     \u001b[38;5;28;01mreturn\u001b[39;00m \u001b[38;5;28mself\u001b[39m\u001b[38;5;241m.\u001b[39msplit_table_by_line(page_content[\u001b[38;5;124m\"\u001b[39m\u001b[38;5;124mlines\u001b[39m\u001b[38;5;124m\"\u001b[39m], coordinates)\n\u001b[1;32m    116\u001b[0m \u001b[38;5;28;01melif\u001b[39;00m row_delimiter_type \u001b[38;5;241m==\u001b[39m \u001b[38;5;124m\"\u001b[39m\u001b[38;5;124mdelimiter\u001b[39m\u001b[38;5;124m\"\u001b[39m:\n\u001b[0;32m--> 117\u001b[0m     \u001b[38;5;28;01mreturn\u001b[39;00m \u001b[38;5;28;43mself\u001b[39;49m\u001b[38;5;241;43m.\u001b[39;49m\u001b[43msplit_table_by_delimiter\u001b[49m\u001b[43m(\u001b[49m\u001b[43mpage_content\u001b[49m\u001b[43m,\u001b[49m\u001b[43m \u001b[49m\u001b[43mcoordinates\u001b[49m\u001b[43m)\u001b[49m\n",
      "File \u001b[0;32m~/GitHub/pdf-parser/src/parser.py:82\u001b[0m, in \u001b[0;36mTableSplitter.split_table_by_delimiter\u001b[0;34m(self, page_content, coordinates)\u001b[0m\n\u001b[1;32m     81\u001b[0m \u001b[38;5;28;01mdef\u001b[39;00m \u001b[38;5;21msplit_table_by_delimiter\u001b[39m(\u001b[38;5;28mself\u001b[39m, page_content, coordinates):\n\u001b[0;32m---> 82\u001b[0m     items_within_coordinates \u001b[38;5;241m=\u001b[39m \u001b[38;5;28;43mself\u001b[39;49m\u001b[38;5;241;43m.\u001b[39;49m\u001b[43mparser\u001b[49m\u001b[38;5;241;43m.\u001b[39;49m\u001b[43mget_items_in_bounding_box\u001b[49m\u001b[43m(\u001b[49m\n\u001b[1;32m     83\u001b[0m \u001b[43m        \u001b[49m\u001b[43mpage_content\u001b[49m\u001b[43m,\u001b[49m\u001b[43m \u001b[49m\u001b[43mcoordinates\u001b[49m\n\u001b[1;32m     84\u001b[0m \u001b[43m    \u001b[49m\u001b[43m)\u001b[49m\n\u001b[1;32m     86\u001b[0m     line_separation_y_coordinates \u001b[38;5;241m=\u001b[39m {\n\u001b[1;32m     87\u001b[0m         item[\u001b[38;5;124m\"\u001b[39m\u001b[38;5;124mbounding_box\u001b[39m\u001b[38;5;124m\"\u001b[39m][\u001b[38;5;124m\"\u001b[39m\u001b[38;5;124mdecimal_coordinates\u001b[39m\u001b[38;5;124m\"\u001b[39m][\u001b[38;5;124m\"\u001b[39m\u001b[38;5;124mtop_left\u001b[39m\u001b[38;5;124m\"\u001b[39m][\u001b[38;5;124m\"\u001b[39m\u001b[38;5;124my\u001b[39m\u001b[38;5;124m\"\u001b[39m]\n\u001b[1;32m     88\u001b[0m         \u001b[38;5;28;01mfor\u001b[39;00m item \u001b[38;5;129;01min\u001b[39;00m items_within_coordinates\n\u001b[1;32m     89\u001b[0m     }\n\u001b[1;32m     90\u001b[0m     \u001b[38;5;28;01mreturn\u001b[39;00m \u001b[38;5;28msorted\u001b[39m(\u001b[38;5;28mlist\u001b[39m(\u001b[38;5;28mset\u001b[39m(line_separation_y_coordinates)))\n",
      "File \u001b[0;32m~/GitHub/pdf-parser/src/parser.py:40\u001b[0m, in \u001b[0;36mParser.get_items_in_bounding_box\u001b[0;34m(self, page_data, coordinates, threshold)\u001b[0m\n\u001b[1;32m     38\u001b[0m items_in_box \u001b[38;5;241m=\u001b[39m []\n\u001b[1;32m     39\u001b[0m \u001b[38;5;28;01mfor\u001b[39;00m item \u001b[38;5;129;01min\u001b[39;00m page_data:\n\u001b[0;32m---> 40\u001b[0m     bounding_box \u001b[38;5;241m=\u001b[39m \u001b[43mitem\u001b[49m\u001b[43m[\u001b[49m\u001b[38;5;124;43m\"\u001b[39;49m\u001b[38;5;124;43mbounding_box\u001b[39;49m\u001b[38;5;124;43m\"\u001b[39;49m\u001b[43m]\u001b[49m[\u001b[38;5;124m\"\u001b[39m\u001b[38;5;124mdecimal_coordinates\u001b[39m\u001b[38;5;124m\"\u001b[39m]\n\u001b[1;32m     41\u001b[0m     \u001b[38;5;28;01mif\u001b[39;00m (\n\u001b[1;32m     42\u001b[0m         bounding_box[\u001b[38;5;124m\"\u001b[39m\u001b[38;5;124mtop_left\u001b[39m\u001b[38;5;124m\"\u001b[39m][\u001b[38;5;124m\"\u001b[39m\u001b[38;5;124mx\u001b[39m\u001b[38;5;124m\"\u001b[39m]\n\u001b[1;32m     43\u001b[0m         \u001b[38;5;241m>\u001b[39m\u001b[38;5;241m=\u001b[39m coordinates[\u001b[38;5;124m\"\u001b[39m\u001b[38;5;124mtop_left\u001b[39m\u001b[38;5;124m\"\u001b[39m][\u001b[38;5;124m\"\u001b[39m\u001b[38;5;124mx\u001b[39m\u001b[38;5;124m\"\u001b[39m] \u001b[38;5;241m-\u001b[39m threshold\n\u001b[0;32m   (...)\u001b[0m\n\u001b[1;32m     49\u001b[0m         \u001b[38;5;241m<\u001b[39m\u001b[38;5;241m=\u001b[39m coordinates[\u001b[38;5;124m\"\u001b[39m\u001b[38;5;124mbottom_right\u001b[39m\u001b[38;5;124m\"\u001b[39m][\u001b[38;5;124m\"\u001b[39m\u001b[38;5;124my\u001b[39m\u001b[38;5;124m\"\u001b[39m] \u001b[38;5;241m+\u001b[39m threshold\n\u001b[1;32m     50\u001b[0m     ):\n\u001b[1;32m     51\u001b[0m         items_in_box\u001b[38;5;241m.\u001b[39mappend(item)\n",
      "\u001b[0;31mTypeError\u001b[0m: string indices must be integers, not 'str'"
     ]
    }
   ],
   "source": [
    "from pdfplumber import open as pdf_open\n",
    "from pdf2image import convert_from_path\n",
    "from PIL import Image, ImageDraw\n",
    "import json\n",
    "\n",
    "from src.parser import TableSplitter\n",
    "from src.pdf_utils import ImageDrawer\n",
    "\n",
    "def extract_lines_from_pdf(pdf_data, page_number):\n",
    "    \"\"\"Extract lines from the specified page of the PDF data.\"\"\"\n",
    "    return pdf_data[\"pages\"][page_number][\"lines\"]\n",
    "\n",
    "\n",
    "def draw_lines_and_coordinates(image, coordinates, lines_y_coordinates):\n",
    "    \"\"\"Draw coordinates and horizontal lines on the image.\"\"\"\n",
    "    image_drawer = ImageDrawer(image, image.size[0], image.size[1])\n",
    "    x0 = coordinates[\"top_left\"][\"x\"]\n",
    "    x1 = coordinates[\"bottom_right\"][\"x\"]\n",
    "    y0 = coordinates[\"top_left\"][\"y\"]\n",
    "    y1 = coordinates[\"bottom_right\"][\"y\"]\n",
    "\n",
    "    # Create a list of y coordinates within the range\n",
    "    y_coordinates = [y for y in lines_y_coordinates if y0 <= y <= y1]\n",
    "    \n",
    "    # Generate new coordinate boxes\n",
    "    new_coordinates = []\n",
    "    for i in range(len(y_coordinates) + 1):\n",
    "        top_left = {\"x\": x0, \"y\": y0 if i == 0 else y_coordinates[i - 1]}\n",
    "        bottom_right = {\"x\": x1, \"y\": y1 if i == len(y_coordinates) else y_coordinates[i]}\n",
    "        new_coordinates.append({\"top_left\": top_left, \"bottom_right\": bottom_right})\n",
    "\n",
    "    modified_image = image_drawer.draw_coordinates(new_coordinates)\n",
    "    return modified_image\n",
    "\n",
    "def process_pdf_page_split(pdf_path, table_splitter, page_content, coordinates, delimiter_type, page_number):\n",
    "    lines_y_coordinates = table_splitter.split_table(delimiter_type, page_content, coordinates)\n",
    "    jpg_image = ImageDrawer.create_jpg_image(pdf_path, page_number)\n",
    "    modified_image = draw_lines_and_coordinates(jpg_image, coordinates, lines_y_coordinates)\n",
    "\n",
    "    # Save and show the modified image\n",
    "    modified_image.save(\"output_with_lines_and_rectangles.jpeg\", \"JPEG\")\n",
    "    modified_image.show()\n",
    "\n",
    "from src.parser import Parser\n",
    "\n",
    "parser = Parser()\n",
    "\n",
    "page_number = 2\n",
    "\n",
    "table_splitter = TableSplitter(template, parser)\n",
    "\n",
    "page_content = pdf_data[\"pages\"][page_number - 1]\n",
    "\n",
    "process_pdf_page_split(pdf_path, table_splitter, page_content, coordinates, \"line\", page_number)\n",
    "process_pdf_page_split(pdf_path, table_splitter, page_content, coordinates, \"delimiter\", page_number)\n"
   ]
  },
  {
   "cell_type": "code",
   "execution_count": null,
   "metadata": {},
   "outputs": [],
   "source": []
  }
 ],
 "metadata": {
  "kernelspec": {
   "display_name": "venv",
   "language": "python",
   "name": "python3"
  },
  "language_info": {
   "codemirror_mode": {
    "name": "ipython",
    "version": 3
   },
   "file_extension": ".py",
   "mimetype": "text/x-python",
   "name": "python",
   "nbconvert_exporter": "python",
   "pygments_lexer": "ipython3",
   "version": "3.11.0"
  }
 },
 "nbformat": 4,
 "nbformat_minor": 2
}
