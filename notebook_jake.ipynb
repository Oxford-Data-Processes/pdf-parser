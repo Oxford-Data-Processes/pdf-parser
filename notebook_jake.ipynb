{
 "cells": [
  {
   "cell_type": "code",
   "execution_count": 6,
   "metadata": {},
   "outputs": [],
   "source": [
    "import json\n",
    "with open(\"src/outputs/barclays_output.json\", \"r\") as json_file:\n",
    "    output_json_data = json.load(json_file)"
   ]
  },
  {
   "cell_type": "code",
   "execution_count": 7,
   "metadata": {},
   "outputs": [
    {
     "name": "stdout",
     "output_type": "stream",
     "text": [
      "['Your', 'statement', 'Miss', 'Meghan', 'Victoria', 'Thorneloe', '28', 'Apr', '2023', 'MISS', 'MEGHAN', 'VICTORIA', 'THORNELOE', 'STOW', 'HOUSE', 'WESTERFIELD', 'ROAD', 'WESTERFIELD', 'IPSWICH', 'IP6', '9AJ', 'Your', 'accounts', 'at', 'a', 'glance', 'u', 'Your', 'balances', 'on', '28', 'Apr', '2023', 'Everyday', 'banking', 'To', 'get', 'your', 'most', 'up', 'to', 'date', 'balances', 'or', 'find', 'out', 'about', 'other', 'accounts', 'you', 'have', 'that', 'aren’t', 'listed', 'here,', 'log', 'on', 'to', 'Student', 'Additions', '£429.09', 'online', 'banking', '(if', 'you’re', 'registered),', 'call', 'us', 'on', '03457', '345', '345*,', 'or', 'come', 'into', 'a', 'branch.', 'Miss', 'Meghan', 'Victoria', 'Thorneloe', 'Sort', 'code', '20-44-51', '•', 'Account', 'no', '13415759', 'Barclays', 'Bank', 'Account', '£49.62', 'Miss', 'Meghan', 'Victoria', 'Thorneloe', 'Sort', 'code', '20-44-51', '•', 'Account', 'no', '83254534', 'This', 'is', 'the', 'end', 'of', 'your', 'account', 'summary.', 'We’re', 'here', 'Call', '03457', '345', '345*', 'Clickbarclays.co.uk', 'Come', 'in', 'to', 'a', 'branch', '*Call', 'charges', 'apply.', 'Please', 'check', 'with', 'your', 'service', 'provider.', 'We', 'may', 'monitor', 'or', 'record', 'calls', 'for', 'quality,', 'security,', 'and', 'training.', 'Statement', 'date', '28', 'Apr', '2023', 'Student', 'Additions', 'Last', 'statement', '31', 'Mar', '2023', '01', '-', '28', 'Apr', '2023', 'Miss', 'Meghan', 'Victoria', 'Thorneloe', '•', 'Sort', 'Code', '20-44-51', '•', 'Account', 'no.', '13415759', '•', 'SWIFTBIC', 'BUKBGB22', '•', 'IBAN', 'GB26', 'BUKB', '2044', '5113', '4157', '59', 'At', 'a', 'glance', 'MISS', 'MEGHAN', 'VICTORIA', 'THORNELOE', 'STOW', 'HOUSE', 'Start', 'balance', '£73.72', 'WESTERFIELD', 'ROAD', 'WESTERFIELD', 'Money', 'in', '£2,234.60', 'IPSWICH', 'Money', 'out', '£1,879.23', 'IP6', '9AJ', 'End', 'balance', '£429.09', 'Your', 'arranged', 'limits', 'Overdraft', '£500', 'Your', 'Student', 'Additions', 'statement', 'NOTICEBOARD', 'Current', 'account', 'statement', 'Your', 'deposit', 'is', 'eligible', 'for', 'protection', 'by', 'the', 'Financial', 'Services', 'Compensation', 'Scheme.', 'Where', 'interest', 'has', 'been', 'debited', 'to', 'Your', 'transactions', 'your', 'account', 'during', 'the', 'period', 'covered', 'by', 'this', 'statement,', 'this', 'has', 'Direct', 'Debit', 'Mobile', 'Online', 'Standing', 'Order', 'been', 'calculated', 'at', '0.000%', 'per', 'annum', 'Date', 'Description', 'Money', 'out', 'Money', 'in', 'Balance', '01', 'Apr', 'Start', 'balance', '73.72', '03', 'Apr', 'Received', 'From', 'Thorneloe', 'C&C', '60.00', '133.72', 'Ref:', 'From', 'Mandd', '05', 'Apr', 'Direct', 'Debit', 'to', 'Severn', 'Trent', 'Water', '27.94', 'Ref:', '681017965320230901', 'This', 'Is', 'A', 'New', 'Direct', 'Debit', 'Payment', 'Payment', 'to', 'Matthew', 'Price', '5.00', 'Ref:', 'Room', 'Payment', 'Payment', 'to', 'Sam', 'Oakley', '6.00', 'Ref:', 'Broadband', 'Transfer', 'to', 'Sort', 'Code', '20-44-51', '20.00', '74.78', 'Account', '83254534', 'Ref:', 'Mobile-Channel', '11', 'Apr', 'Transfer', 'to', 'Sort', 'Code', '20-44-51', '20.00', 'Account', '83254534', 'Ref:', 'Mobile-Channel', 'Transfer', 'to', 'Sort', 'Code', '20-44-51', '20.00', 'Account', '83254534', 'Ref:', 'Mobile-Channel', 'Transfer', 'to', 'Sort', 'Code', '20-44-51', '60.00', 'Account', '83254534', 'Ref:', 'Mobile-Channel', 'Received', 'From', 'Thorneloe', 'C&C', '60.00', '34.78', 'Ref:', 'From', 'Mandd', '12', 'Apr', 'Payment', 'to', 'Matthew', 'Price', '5.00', 'Ref:', 'Room', 'Payment', 'Bill', 'Payment', 'to', 'TOP365', '1,404.29', 'Ref:', '3Frederickgrove', 'MT', 'Continued', 'Barclays', 'Bank', 'UK', 'PLC.', 'Authorised', 'by', 'the', 'Prudential', 'Regulation', 'Authority', 'and', 'regulated', 'by', 'the', 'Financial', 'Conduct', 'Authority', 'and', 'the', 'Prudential', 'Regulation', 'Authority', '(Financial', 'Services', 'Register', 'No.', '759676).', 'Page', '1', 'Registered', 'in', 'England.', 'Registered', 'No.', '9740322.', 'Registered', 'Office:', '1', 'Churchill', 'Place,', 'London', 'E14', '5HP.', 'Sort', 'code', '20-44-51', '•', 'Account', 'number', '13415759', 'Your', 'transactions', 'Date', 'Description', 'Money', 'out', 'Money', 'in', 'Balance', '12', 'Apr', 'Transfer', 'From', 'Sort', 'Code', '20-44-51', '1,400.00', '25.49', 'Account', '83254534', 'Ref:', 'Mobile-Channel', '13', 'Apr', 'Transfer', 'to', 'Sort', 'Code', '20-44-51', '20.00', '5.49', 'Account', '83254534', 'Ref:', 'Mobile-Channel', '17', 'Apr', 'Received', 'From', 'Thorneloe', 'C&C', '60.00', '65.49', 'Ref:', 'From', 'Mandd', '18', 'Apr', 'Transfer', 'to', 'Sort', 'Code', '20-44-51', '30.00', '35.49', 'Account', '83254534', 'Ref:', 'Mobile-Channel', '19', 'Apr', 'Payment', 'to', 'Matthew', 'Price', '5.00', '30.49', 'Ref:', 'Room', 'Payment', '20', 'Apr', 'Transfer', 'to', 'Sort', 'Code', '20-44-51', '30.00', '0.49', 'Account', '83254534', 'Ref:', 'Mobile-Channel', '21', 'Apr', 'Account', 'Credit:', 'Deposit', 'at', 'Barclays', '594.60', '595.09', '120/LB26416', 'Ref:', 'Cheque', 'Via', 'Bmb', '24', 'Apr', 'Transfer', 'to', 'Sort', 'Code', '20-44-51', '30.00', 'Account', '83254534', 'Ref:', 'Mobile-Channel', 'Transfer', 'to', 'Sort', 'Code', '20-44-51', '30.00', 'Account', '83254534', 'Ref:', 'Mobile-Channel', 'Transfer', 'to', 'Sort', 'Code', '20-44-51', '60.00', 'Account', '83254534', 'Ref:', 'Mobile-Channel', 'Received', 'From', 'Thorneloe', 'C&C', '60.00', '535.09', 'Ref:', 'From', 'Mandd', '26', 'Apr', 'Payment', 'to', 'Matthew', 'Price', '5.00', 'Ref:', 'Room', 'Payment', 'Transfer', 'to', 'Sort', 'Code', '20-44-51', '56.00', '474.09', 'Account', '83254534', 'Ref:', 'Mobile-Channel', '28', 'Apr', 'Transfer', 'to', 'Sort', 'Code', '20-44-51', '10.00', 'Account', '83254534', 'Ref:', 'Mobile-Channel', 'Transfer', 'to', 'Sort', 'Code', '20-44-51', '35.00', '429.09', 'Account', '83254534', 'Ref:', 'Mobile-Channel', '28', 'Apr', 'End', 'balance', '429.09', 'u', 'Anything', 'Wrong?', 'If', 'you’ve', 'spotted', 'any', 'incorrect', 'or', 'unusual', 'transactions,', 'see', 'the', 'next', 'page', 'for', 'how', 'to', 'get', 'in', 'touch', 'with', 'us.', 'Credit', 'interest', 'rates', 'This', 'account', 'does', 'not', 'pay', 'credit', 'interest', 'Barclays', 'Bank', 'UK', 'PLC.', 'Authorised', 'by', 'the', 'Prudential', 'Regulation', 'Authority', 'and', 'regulated', 'by', 'the', 'Financial', 'Conduct', 'Authority', 'and', 'the', 'Prudential', 'Page', '2', 'Regulation', 'Authority', '(Financial', 'Services', 'Register', 'No.', '759676).', 'Registered', 'in', 'England.', 'Registered', 'No.', '9740322.', 'Registered', 'Office:', '1', 'Churchill', 'Place,', 'London', 'E14', '5HP.', 'Sort', 'code', '20-44-51', '•', 'Account', 'number', '13415759', 'Howitworks', 'Get', 'in', 'touch', 'uOur', 'main', 'number', 'conversion', 'rate', 'offered', 'by', 'the', 'retailer', 'or', 'ATM', 'provider', 'Dispute', 'Resolution', 'or', 'accept', 'our', 'rate.', '0345', '7', '345', '345', 'If', 'you', 'have', 'a', 'problem', 'with', 'your', 'agreement,', 'please', 'Open', '24/7', 'including', 'try', 'to', 'resolve', 'it', 'with', 'us', 'in', 'the', 'first', 'instance.', 'If', 'you', 'Transferring', 'money', 'between', 'countries', 'holidays', 'are', 'not', 'happy', 'with', 'the', 'way', 'in', 'which', 'we', 'handled', 'If', 'you', 'need', 'to', 'transfer', 'money', 'between', 'countries,', 'you', 'your', 'complaint', 'or', 'the', 'result,', 'you', 'may', 'be', 'able', 'to', 'uFrom', 'abroad', 'may', 'be', 'asked', 'for', 'your', 'SWIFTBIC', '(Bank', 'Identification', 'complain', 'to', 'the', 'Financial', 'Ombudsman', 'Service.', 'If', '+44', '2476', '842', '100', 'Code)', 'and', 'IBAN', '(International', 'Bank', 'Account', 'you', 'do', 'not', 'take', 'up', 'your', 'problem', 'with', 'us', 'first', 'you', 'Number).', 'These', 'are', 'on', 'the', 'front', 'of', 'your', 'statement', 'Open', '24/7', 'including', 'holidays', 'will', 'not', 'be', 'entitled', 'to', 'complain', 'to', 'the', 'Ombudsman.', 'We', 'can', 'provide', 'details', 'of', 'how', 'to', 'contact', 'the', 'and', 'you’ll', 'need', 'them', 'so', 'that', 'international', 'banks', 'can', 'uWrite', 'to', 'us', 'identify', 'your', 'account', 'correctly.', 'Full', 'details', 'are', 'on:', 'Ombudsman.', 'Barclays,', 'Leicester', 'LE87', '2BB', 'business.barclays.co.uk/bb/iban', 'uFind', 'a', 'branch', 'How', 'we', 'pay', 'interest', 'Important', 'information', 'about', 'barclays.co.uk/branch-fi', 'compensation', 'arrangements', 'If', 'your', 'account', 'pays', 'interest', 'and', 'is', 'in', 'credit,', 'we', 'work', 'nder/', 'out', 'your', 'interest', 'on', 'the', 'balance', 'of', 'your', 'account', 'at', 'the', '0800', '400', '100', 'We', 'are', 'covered', 'by', 'the', 'Financial', 'Services', 'close', 'of', 'business', 'every', 'day.', 'Interest', 'is', 'calculated', 'on', 'Open', '24/7', 'including', 'holidays', 'Compensation', 'Scheme', '(FSCS).', 'The', 'FSCS', 'can', 'pay', 'the', 'statement', 'balance', 'or', 'the', 'cleared', 'balance,', 'compensation', 'to', 'depositors', 'if', 'a', 'bank', 'is', 'unable', 'to', 'depending', 'on', 'the', 'type', 'of', 'account', 'you', 'have.', 'Where', 'uYour', 'home', 'branch', 'meet', 'its', 'financial', 'obligations.', 'Most', 'depositors', '–', 'credit', 'interest', 'rate(s)', 'are', 'shown', 'on', 'your', 'statement,', 'IPSWICH', 'PRINCES', 'including', 'most', 'individuals', 'and', 'businesses', '–', 'are', 'these', 'are', 'current', 'at', 'the', 'time', 'of', 'printing', 'the', 'statement', 'STREET', 'covered', 'by', 'the', 'scheme.', 'We', 'will', 'issue', 'the', 'FSCS', 'and', 'may', 'have', 'changed', 'during', 'the', 'statement', 'period.', 'information', 'sheet', 'and', 'exclusions', 'list', 'which', 'set', 'out', 'Unless', 'we', 'say', 'otherwise,', 'any', 'interest', 'rates', 'we', 'show', 'uOnline', 'banking', 'help', 'in', 'detail', 'what', 'is,', 'and', 'is', 'not,', 'covered', 'by', 'the', 'FSCS,', 'are', 'gross', 'annual', 'rates.', '0345', '600', '2323', 'once', 'a', 'calendar', 'year', 'usually', 'with', 'your', 'account', 'If', 'you', 'are', 'a', 'UK', 'taxpayer', 'you', 'may', 'have', 'to', 'pay', 'tax', 'on', 'Open', '24/7', 'including', 'holidays', 'statement.', 'interest', 'earned', 'in', 'excess', 'of', 'your', 'Personal', 'Savings', 'Allowance', '(with', 'the', 'exception', 'of', 'interest', 'earned', 'on', 'uLost', 'and', 'stolen', 'cards', 'For', 'further', 'information', 'about', 'the', 'compensation', 'ISAs,', 'which', 'continue', 'to', 'be', 'free', 'from', 'UK', 'tax', 'for', 'eligible', '0800', '400', '100', '(or', '+44', 'provided', 'by', 'the', 'FSCS,', 'refer', 'to', 'the', 'FSCS', 'website', 'at', 'www.FSCS.org.uk.', 'customers).', 'For', 'information', 'and', 'guidance', 'please', 'refer', '2476', '842', '099', 'from', 'to', 'HMRC’s', 'website', 'abroad)', 'www.gov.uk/hmrc/savingsallowance.', 'Using', 'your', 'Barclays', 'debit', 'card', '-', 'what', 'Open', '24/7', 'including', 'holidays', 'The', 'management', 'of', 'your', 'tax', 'affairs', 'is', 'your', 'costs', 'and', 'what', 'doesn’t', 'responsibility,', 'including', 'making', 'any', 'required', 'Tell', 'us', 'straight', 'away', 'if:', 'declarations', 'to', 'HMRC.', '–', 'you', 'do', 'not', 'receive', 'a', 'If', 'you', 'use', 'your', 'debit', 'card', 'in', 'the', 'UK', 'B', 'arclays', 'will', 'not', 'Barclays', 'card', 'you', 'were', 'charge', 'you', 'for', 'using', 'your', 'debit', 'card', 'in', 'the', 'UK', 'when', 'Getting', 'information', 'from', 'Barclays', 'expecting', 'making', 'purchases,', 'making', 'a', 'cash', 'withdrawal,', 'or', 'when', 'buying', 'travellers’', 'cheques', 'or', 'foreign', 'currency.', 'A', 'We', 'send', 'information', 'to', 'customers', 'with', 'their', '–', 'any', 'of', 'your', 'cards', 'are', 'lost,', 'small', 'number', 'of', 'ATM', 'providers', 'may', 'charge', 'a', 'statements', 'about', 'relevant', 'new', 'offers', 'and', 'products,', 'stolen', 'or', 'damaged', 'transaction', 'fee', 'but', 'they', 'should', 'tell', 'you', 'about', 'this', 'and', 'about', 'how', 'to', 'get', 'the', 'best', 'from', 'their', 'existing', '–', 'you', 'think', 'someone', 'else', 'may', 'on-screen', 'before', 'you', 'commit', 'to', 'any', 'transaction.', 'Barclays', 'accounts.', 'If', 'you', 'don’t', 'get', 'these', 'messages', 'know', 'your', 'PIN.', 'and', 'you’d', 'like', 'to,', 'or', 'if', 'you', 'do', 'and', 'you’d', 'rather', 'you', 'If', 'you', 'use', 'your', 'debit', 'card', 'abroad', 'or', 'make', 'a', 'debit', 'didn’t,', 'you', 'can', 'call', '0345', '7', '345', '345,', 'go', 'to', 'Call', 'charges', 'will', 'apply', 'card', 'payment', 'in', 'a', 'foreign', 'currency', '(either', 'abroad', 'or', 'barclays.co.uk,', 'or', 'come', 'into', 'a', 'branch.', 'And', 'if', 'you', '(please', 'check', 'with', 'your', 'in', 'the', 'UK)', \"we'll\", 'charge', 'you', 'a', '2.99%', 'Non-Sterling', 'change', 'your', 'mind', 'at', 'any', 'time,', 'just', 'get', 'in', 'touch.', 'service', 'provider).', 'We', 'may', 'Transaction', 'Fee', 'when', 'making', 'purchases,', 'making', 'a', 'monitor', 'or', 'record', 'calls', 'for', 'cash', 'withdrawal,', 'or', 'when', 'being', 'refunded.', 'This', 'fee', 'quality,', 'security,', 'and', 'also', 'applies', 'whenever', 'you', 'do', 'not', 'pay', 'in', 'sterling,', 'for', 'training.', 'example', 'shopping', 'online', 'at', 'a', 'non-UK', 'website.', 'This', 'rate', 'does', 'not', 'apply', 'to', 'Travel', 'Wallet', 'transactions.', 'As', 'we', 'explain', 'in', 'our', 'customer', 'terms,', 'we', 'calculate', 'our', 'exchange', 'rate', 'using', 'the', 'reference', 'exchange', 'rate', 'for', 'the', 'Visa', 'card', 'scheme.', 'In', 'most', 'circumstances,', 'Visa', 'converts', 'transactions', 'into', 'sterling', 'using', 'the', 'Visa', 'Exchange', 'Rate', 'on', 'the', 'day', 'the', 'transaction', 'is', 'authorised.', 'However', 'for', 'a', 'small', 'number', 'of', 'transactions', 'the', 'conversion', 'may', 'happen', 'on', 'the', 'day', 'the', 'transaction', 'is', 'processed.', 'As', 'this', 'may', 'be', 'a', 'day', 'or', 'two', 'later,', 'the', 'exchange', 'rate', 'may', 'be', 'different', 'on', 'that', 'day.', \"You'll\", 'find', 'a', 'comparison', 'of', 'our', 'exchange', 'rate', 'for', 'certain', 'currencies', 'as', 'a', 'mark-up', 'against', 'the', 'rate', 'published', 'by', 'the', 'European', 'Central', 'Bank', 'in', 'the', 'Barclays', 'App', 'or', 'at', 'the', 'following', 'website:', 'https://www.barclays.co.uk/travel/using-debit-card-', 'abroad/', 'This', 'is', 'updated', 'twice', 'a', 'day.', 'This', 'may', 'help', 'you', 'to', 'decide', 'whether', 'you', 'want', 'to', 'accept', 'the', 'For', 'a', 'Braille,', 'large', 'print', 'or', 'audio', 'version', 'of', 'your', 'statement', 'call', '0800', '400', '100', '(via', 'TextDirect', 'if', 'appropriate)', 'or', 'contact', 'your', 'branch', 'Barclays', 'Bank', 'UK', 'PLC.', 'Authorised', 'by', 'the', 'Prudential', 'Regulation', 'Authority', 'and', 'regulated', 'by', 'the', 'Financial', 'Conduct', 'Authority', 'and', 'the', 'Prudential', 'Regulation', 'Authority', '(Financial', 'Services', 'Register', 'No.', '759676).', 'Page', '3', 'Registered', 'in', 'England.', 'Registered', 'No.', '9740322.', 'Registered', 'Office:', '1', 'Churchill', 'Place,', 'London', 'E14', '5HP.']\n"
     ]
    }
   ],
   "source": [
    "from src.extractor import TextExtractor\n",
    "\n",
    "pdf_path = \"data/bank_statements/barclays/pdf/barclays Apr 2.pdf\"   \n",
    "\n",
    "with open(pdf_path, \"rb\") as pdf_file:\n",
    "    pdf_bytes = pdf_file.read()\n",
    "\n",
    "extractor = TextExtractor(pdf_bytes)\n",
    "data = extractor.extract_text()\n",
    "\n",
    "text_list = []\n",
    "for page in data[\"pages\"]:\n",
    "    for content in page[\"content\"]:\n",
    "        text_list.append(content[\"text\"])\n",
    "print(text_list)"
   ]
  },
  {
   "cell_type": "code",
   "execution_count": 8,
   "metadata": {},
   "outputs": [
    {
     "name": "stdout",
     "output_type": "stream",
     "text": [
      "['01 Apr 2023', 'Start balance', None, None, '73.72', '03 Apr 2023', 'Received From Thorneloe C&C Ref: From Mandd', '60.00', None, '133.72', '05 Apr 2023', 'Direct Debit to Severn Trent Water Ref: 681017965320230901 This Is A New Direct Debit Payment', None, '27.94', '74.78', '05 Apr 2023', 'Payment to Matthew Price Ref: Room Payment', None, '5.00', '74.78', '05 Apr 2023', 'Payment to Sam Oakley Ref: Broadband', None, '6.00', '74.78', '05 Apr 2023', 'Transfer to Sort Code 20-44-51 Account 83254534 Ref: Mobile-Channel', None, '20.00', '74.78', '11 Apr 2023', 'Transfer to Sort Code 20-44-51 Account 83254534 Ref: Mobile-Channel', None, '20.00', '34.78', '11 Apr 2023', 'Transfer to Sort Code 20-44-51 Account 83254534 Ref: Mobile-Channel', None, '20.00', '34.78', '11 Apr 2023', 'Transfer to Sort Code 20-44-51 Account 83254534 Ref: Mobile-Channel', None, '60.00', '34.78', '11 Apr 2023', 'Received From Thorneloe C&C Ref: From Mandd', '60.00', None, '34.78', '12 Apr 2023', 'Payment to Matthew Price Ref: Room Payment', None, '5.00', '25.49', '12 Apr 2023', 'Bill Payment to TOP365 Ref: 3Frederickgrove MT', None, '1,404.29', '25.49', '20-44-51', '13415759', 'Miss Meghan Victoria Thorneloe', '£73.72', '£2,234.60', '£1,879.23', '£429.09', '£500', '12 Apr 2023', 'Transfer From Sort Code 20-44-51 Account 83254534 Ref: Mobile-Channel', '1,400.00', None, '25.49', '13 Apr 2023', 'Transfer to Sort Code 20-44-51 Account 83254534 Ref: Mobile-Channel', None, '20.00', '5.49', '17 Apr 2023', 'Received From Thorneloe C&C Ref: From Mandd', '60.00', None, '65.49', '18 Apr 2023', 'Transfer to Sort Code 20-44-51 Account 83254534 Ref: Mobile-Channel', None, '30.00', '35.49', '19 Apr 2023', 'Payment to Matthew Price Ref: Room Payment', None, '5.00', '30.49', '20 Apr 2023', 'Transfer to Sort Code 20-44-51 Account 83254534 Ref: Mobile-Channel', None, '30.00', '0.49', '21 Apr 2023', 'Account Credit: Deposit at Barclays 120/LB26416 Ref: Cheque Via Bmb', '594.60', None, '595.09', '24 Apr 2023', 'Transfer to Sort Code 20-44-51 Account 83254534 Ref: Mobile-Channel', None, '30.00', '535.09', '24 Apr 2023', 'Transfer to Sort Code 20-44-51 Account 83254534 Ref: Mobile-Channel', None, '30.00', '535.09', '24 Apr 2023', 'Transfer to Sort Code 20-44-51 Account 83254534 Ref: Mobile-Channel', None, '60.00', '535.09', '24 Apr 2023', 'Received From Thorneloe C&C Ref: From Mandd', '60.00', None, '535.09', '26 Apr 2023', 'Payment to Matthew Price Ref: Room Payment', None, '5.00', '474.09', '26 Apr 2023', 'Transfer to Sort Code 20-44-51 Account 83254534 Ref: Mobile-Channel', None, '56.00', '474.09', '28 Apr 2023', 'Transfer to Sort Code 20-44-51 Account 83254534 Ref: Mobile-Channel', None, '10.00', '429.09', '28 Apr 2023', 'Transfer to Sort Code 20-44-51 Account 83254534 Ref: Mobile-Channel', None, '35.00', '429.09', '28 Apr 2023', 'End balance', None, None, '429.09']\n"
     ]
    }
   ],
   "source": [
    "output_json_words = []\n",
    "for page in output_json_data[\"pages\"]:\n",
    "    for table_data in page[\"tables\"]:\n",
    "        for row in table_data[\"data\"]:\n",
    "            for key, value in row.items():\n",
    "                output_json_words.append(value)\n",
    "    for form in page[\"forms\"]:\n",
    "        for key, value in form.items():\n",
    "            output_json_words.append(value)\n",
    "\n",
    "print(output_json_words)"
   ]
  },
  {
   "cell_type": "code",
   "execution_count": 9,
   "metadata": {},
   "outputs": [],
   "source": [
    "output_json_words = [word for word in output_json_words if word is not None for word in word.split()]\n"
   ]
  },
  {
   "cell_type": "code",
   "execution_count": 10,
   "metadata": {},
   "outputs": [],
   "source": [
    "for word in output_json_words:\n",
    "    if word not in text_list:\n",
    "        print(word)\n"
   ]
  }
 ],
 "metadata": {
  "kernelspec": {
   "display_name": "venv",
   "language": "python",
   "name": "python3"
  },
  "language_info": {
   "codemirror_mode": {
    "name": "ipython",
    "version": 3
   },
   "file_extension": ".py",
   "mimetype": "text/x-python",
   "name": "python",
   "nbconvert_exporter": "python",
   "pygments_lexer": "ipython3",
   "version": "3.11.0"
  }
 },
 "nbformat": 4,
 "nbformat_minor": 2
}
