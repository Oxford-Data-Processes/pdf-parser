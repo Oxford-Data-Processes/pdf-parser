{
 "cells": [
  {
   "cell_type": "code",
   "execution_count": 16,
   "metadata": {},
   "outputs": [],
   "source": [
    "import json\n",
    "with open(\"src/outputs/barclays_april.json\", \"r\") as json_file:\n",
    "    output_json_data = json.load(json_file)"
   ]
  },
  {
   "cell_type": "code",
   "execution_count": 17,
   "metadata": {},
   "outputs": [],
   "source": [
    "from src.extractor import TextExtractor\n",
    "\n",
    "pdf_path = \"data/bank_statements/barclays/pdf/barclays April.pdf\"   \n",
    "\n",
    "with open(pdf_path, \"rb\") as pdf_file:\n",
    "    pdf_bytes = pdf_file.read()\n",
    "\n",
    "extractor = TextExtractor(pdf_bytes)\n",
    "data = extractor.extract_text()\n",
    "\n",
    "text_list = []\n",
    "for page in data[\"pages\"]:\n",
    "    for content in page[\"content\"]:\n",
    "        text_list.append(content[\"text\"])"
   ]
  },
  {
   "cell_type": "code",
   "execution_count": 18,
   "metadata": {},
   "outputs": [
    {
     "name": "stdout",
     "output_type": "stream",
     "text": [
      "['2023-04-01', 'Start balance', None, None, '44.24', '2023-04-03', 'Card Payment to Tesco Stores 2209 On 01 Apr', None, '0.75', '24.45', '2023-04-03', 'Card Payment to Shell Main Rd On 02 Apr', None, '0.79', '24.45', '2023-04-03', 'Card Payment to Tesco Stores 6416 On 31 Mar', None, '1.70', '24.45', '2023-04-03', 'Card Payment to The Rosebud On 01 Apr', None, '7.20', '24.45', '2023-04-03', 'Card Payment to Paul Applegate Ltd On 31 Mar', None, '9.35', '24.45', '2023-04-05', 'Card Payment to Paypal *Proteinwor On 03 Apr', None, '3.95', '40.50', '2023-04-05', 'Transfer From Sort Code 20-44-51Account 13415759\\nRef: Mobile-Channel', '20.00', None, '40.50', '2023-04-06', 'Card Payment to Trainline.Com On 05 Apr', None, '28.04', '34.17', '2023-04-06', 'Card Payment to Holland & Barrett On 05 Apr', None, '12.13', '34.17', '2023-04-06', 'Refund From SP Aybl On 05 Apr', '33.84', None, '34.17', '2023-04-11', 'Card Payment to Michaelhouse Cafe On 08 Apr', None, '5.30', '65.16', '20-44-51', '83254534', 'Miss Meghan Victoria Thorneloe', '£44.24', '£1,870.44', '£1,865.06', '£49.62', '2023-04-11', 'Card Payment to Giggling Squid On 08 Apr', None, '15.33', '65.16', '2023-04-11', 'Card Payment to Hollister Grand AR On 08 Apr', None, '17.00', '65.16', '2023-04-11', 'Card Payment to New Look 2023 On 08 Apr', None, '26.99', '65.16', '2023-04-11', 'Bill Payment to E J ThorneloeRef: Cambridge Day', None, '4.39', '65.16', '2023-04-11', 'Transfer From Sort Code 20-44-51Account 13415759\\nRef: Mobile-Channel', '20.00', None, '65.16', '2023-04-11', 'Transfer From Sort Code 20-44-51Account 13415759\\nRef: Mobile-Channel', '20.00', None, '65.16', '2023-04-11', 'Transfer From Sort Code 20-44-51Account 13415759\\nRef: Mobile-Channel', '60.00', None, '65.16', '2023-04-12', 'Transfer to Sort Code 20-44-51Account 13415759\\nRef: Mobile-Channel', None, '1400.00', '65.16', '2023-04-12', 'Received From D061E00A03C6NspbRef: PB 317384804', '1400.00', None, '65.16', '2023-04-13', 'Direct Debit to Paypal PaymentRef: 5YV22229Xjkke', None, '43.93', '23.28', '2023-04-13', 'Card Payment to Boots 1833 On 12 Apr', None, '17.95', '23.28', '2023-04-13', 'Transfer From Sort Code 20-44-51Account 13415759\\nRef: Mobile-Channel', '20.00', None, '23.28', '2023-04-17', 'Card Payment to Tesco Stores 4480 On 16 Apr', None, '3.00', '20.28', '2023-04-18', 'Bill Payment to Claire ThorneloeRef: Boots Bits', None, '30.00', '20.28', '2023-04-18', 'Transfer From Sort Code 20-44-51Account 13415759\\nRef: Mobile-Channel', '30.00', None, '20.28', '2023-04-20', 'Transfer From Sort Code 20-44-51Account 13415759\\nRef: Mobile-Channel', '30.00', None, '50.28', '2023-04-21', 'Card Payment to Moonpig On 20 Apr', None, '4.21', '10.47', '2023-04-21', 'Card Purchase Paypal *Bynouck BV Netherlands On 20 Apr', None, '35.60', '10.47', '2023-04-24', 'Card Payment to Tesco Stores 2748 On 23 Apr', None, '5.15', '10.47', '2023-04-24', 'Card Payment to Zettle_*Mannaeatin On 22 Apr', None, '6.50', '10.47', '2023-04-24', 'Card Payment to Superdrug Stores P On 23 Apr', None, '9.99', '10.47', '2023-04-24', 'Card Payment to Tfl Travel CH On 22 Apr', None, '17.50', '77.54', '2023-04-24', 'Card Payment to Boots 1833 On 23 Apr', None, '29.39', '77.54', '2023-04-24', 'Transfer From Sort Code 20-44-51Account 13415759\\nRef: Mobile-Channel', '30.00', None, '77.54', '2023-04-24', 'Transfer From Sort Code 20-44-51Account 13415759\\nRef: Mobile-Channel', '30.00', None, '77.54', '2023-04-24', 'Transfer From Sort Code 20-44-51Account 13415759\\nRef: Mobile-Channel', '60.00', None, '77.54', '2023-04-24', 'Bill Payment From Thorneloe E JRef: Food', '15.60', None, '77.54', '2023-04-26', 'Card Payment to New Look McOmm On 24 Apr', None, '26.99', '106.55', '2023-04-26', 'Transfer From Sort Code 20-44-51Account 13415759\\nRef: Mobile-Channel', '56.00', None, '106.55', '2023-04-27', 'Card Payment to Trainline.Com On 26 Apr', None, '15.74', '4.62', '2023-04-27', 'Card Payment to Trainline On 26 Apr', None, '30.19', '4.62', '2023-04-27', 'Card Payment to Www.Bluehillscampi On 26 Apr', None, '56.00', '4.62', '2023-04-28', 'Transfer From Sort Code 20-44-51Account 13415759\\nRef: Mobile-Channel', '10.00', None, '49.62', '2023-04-28', 'Transfer From Sort Code 20-44-51Account 13415759\\nRef: Mobile-Channel', '35.00', None, '49.62', '2023-04-28', 'End balance', None, None, '49.62']\n"
     ]
    }
   ],
   "source": [
    "output_json_words = []\n",
    "for page in output_json_data[\"pages\"]:\n",
    "    for table_data in page[\"tables\"]:\n",
    "        for row in table_data[\"data\"]:\n",
    "            for key, value in row.items():\n",
    "                output_json_words.append(value)\n",
    "    for form in page[\"forms\"]:\n",
    "        for key, value in form.items():\n",
    "            output_json_words.append(value)\n",
    "\n",
    "print(output_json_words)"
   ]
  },
  {
   "cell_type": "code",
   "execution_count": 19,
   "metadata": {},
   "outputs": [],
   "source": [
    "output_json_words = [word for word in output_json_words if word is not None for word in word.split()]\n"
   ]
  },
  {
   "cell_type": "code",
   "execution_count": 20,
   "metadata": {},
   "outputs": [
    {
     "name": "stdout",
     "output_type": "stream",
     "text": [
      "2023-04-01\n",
      "2023-04-03\n",
      "2023-04-03\n",
      "2023-04-03\n",
      "2023-04-03\n",
      "2023-04-03\n",
      "2023-04-05\n",
      "2023-04-05\n",
      "20-44-51Account\n",
      "2023-04-06\n",
      "2023-04-06\n",
      "2023-04-06\n",
      "2023-04-11\n",
      "2023-04-11\n",
      "2023-04-11\n",
      "2023-04-11\n",
      "2023-04-11\n",
      "ThorneloeRef:\n",
      "2023-04-11\n",
      "20-44-51Account\n",
      "2023-04-11\n",
      "20-44-51Account\n",
      "2023-04-11\n",
      "20-44-51Account\n",
      "2023-04-12\n",
      "20-44-51Account\n",
      "1400.00\n",
      "2023-04-12\n",
      "D061E00A03C6NspbRef:\n",
      "1400.00\n",
      "2023-04-13\n",
      "PaymentRef:\n",
      "2023-04-13\n",
      "2023-04-13\n",
      "20-44-51Account\n",
      "2023-04-17\n",
      "2023-04-18\n",
      "ThorneloeRef:\n",
      "2023-04-18\n",
      "20-44-51Account\n",
      "2023-04-20\n",
      "20-44-51Account\n",
      "2023-04-21\n",
      "2023-04-21\n",
      "2023-04-24\n",
      "2023-04-24\n",
      "2023-04-24\n",
      "2023-04-24\n",
      "2023-04-24\n",
      "2023-04-24\n",
      "20-44-51Account\n",
      "2023-04-24\n",
      "20-44-51Account\n",
      "2023-04-24\n",
      "20-44-51Account\n",
      "2023-04-24\n",
      "JRef:\n",
      "2023-04-26\n",
      "2023-04-26\n",
      "20-44-51Account\n",
      "2023-04-27\n",
      "2023-04-27\n",
      "2023-04-27\n",
      "2023-04-28\n",
      "20-44-51Account\n",
      "2023-04-28\n",
      "20-44-51Account\n",
      "2023-04-28\n"
     ]
    }
   ],
   "source": [
    "for word in output_json_words:\n",
    "    if word not in text_list:\n",
    "        print(word)\n"
   ]
  }
 ],
 "metadata": {
  "kernelspec": {
   "display_name": "venv",
   "language": "python",
   "name": "python3"
  },
  "language_info": {
   "codemirror_mode": {
    "name": "ipython",
    "version": 3
   },
   "file_extension": ".py",
   "mimetype": "text/x-python",
   "name": "python",
   "nbconvert_exporter": "python",
   "pygments_lexer": "ipython3",
   "version": "3.11.0"
  }
 },
 "nbformat": 4,
 "nbformat_minor": 2
}
