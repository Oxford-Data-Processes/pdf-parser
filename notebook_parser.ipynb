{
 "cells": [
  {
   "cell_type": "code",
   "execution_count": 1,
   "metadata": {},
   "outputs": [],
   "source": [
    "import json\n",
    "import os\n",
    "from typing import Dict, Any\n",
    "\n",
    "\n",
    "class PDFParser:\n",
    "    def parse(\n",
    "        self, template: Dict[str, Any], pdf_data: Dict[str, Any]\n",
    "    ) -> Dict[str, Any]:\n",
    "        pass\n",
    "\n",
    "\n",
    "template_path: str = os.path.join(\"src\", \"templates\", \"barclays_template.json\")\n",
    "pdf_data_path: str = os.path.join(\"src\", \"pdf_data\", \"barclays_march_2_pdf_data.json\")\n",
    "\n",
    "template: Dict[str, Any] = json.load(open(template_path))\n",
    "pdf_data: Dict[str, Any] = json.load(open(pdf_data_path))\n",
    "\n",
    "parser: PDFParser = PDFParser()\n",
    "output_generated: Dict[str, Any] = parser.parse(template, pdf_data)\n",
    "\n",
    "output_data = json.load(open(\"src/outputs/barclays_march_2_output.json\"))\n",
    "\n"
   ]
  },
  {
   "cell_type": "code",
   "execution_count": 26,
   "metadata": {},
   "outputs": [],
   "source": [
    "from src.parser import Parser\n",
    "from datetime import datetime\n",
    "import uuid\n",
    "\n",
    "def parse_pdf(template: Dict[str, Any], pdf_data: Dict[str, Any]) -> Dict[str, Any]:\n",
    "        \n",
    "    forms = []\n",
    "    number_of_pages = len(pdf_data[\"pages\"])\n",
    "\n",
    "    for page_rule in template[\"pages\"]:\n",
    "        page_indexes = Parser().page_number_converter(page_rule[\"page_numbers\"], number_of_pages)\n",
    "        for page_index in page_indexes:\n",
    "            if \"forms\" in page_rule and len(page_rule[\"forms\"]) > 0:\n",
    "                for rule_id in page_rule[\"forms\"]:\n",
    "                    try:\n",
    "                        form = Parser().get_output_data_from_form_rule(rule_id, page_index, pdf_data, template)\n",
    "                        forms.append(form)\n",
    "                    except IndexError:\n",
    "                        print(f\"Rule ID '{rule_id}' not found in template rules or page index '{page_index}' is out of range.\")\n",
    "\n",
    "    output = {\n",
    "  \"metadata\": {\n",
    "    \"document_id\": str(uuid.uuid4()),\n",
    "    \"parsed_at\": datetime.now().strftime(\"%Y-%m-%dT%H:%M:%S\"),\n",
    "    \"number_of_pages\": number_of_pages\n",
    "  },\n",
    "  \"pages\": [\n",
    "    {\n",
    "      \"forms\": forms,\n",
    "      \"tables\": []\n",
    "    }\n",
    "  ]\n",
    "}\n",
    "    \n",
    "    return output\n"
   ]
  },
  {
   "cell_type": "code",
   "execution_count": 27,
   "metadata": {},
   "outputs": [],
   "source": [
    "output = parse_pdf(template, pdf_data)"
   ]
  },
  {
   "cell_type": "code",
   "execution_count": 29,
   "metadata": {},
   "outputs": [],
   "source": [
    "import json\n",
    "\n",
    "with open('output_generated.json', 'w') as json_file:\n",
    "    json.dump(output, json_file, indent=4)"
   ]
  },
  {
   "cell_type": "code",
   "execution_count": null,
   "metadata": {},
   "outputs": [],
   "source": []
  }
 ],
 "metadata": {
  "kernelspec": {
   "display_name": "venv",
   "language": "python",
   "name": "python3"
  },
  "language_info": {
   "codemirror_mode": {
    "name": "ipython",
    "version": 3
   },
   "file_extension": ".py",
   "mimetype": "text/x-python",
   "name": "python",
   "nbconvert_exporter": "python",
   "pygments_lexer": "ipython3",
   "version": "3.11.0"
  }
 },
 "nbformat": 4,
 "nbformat_minor": 2
}
