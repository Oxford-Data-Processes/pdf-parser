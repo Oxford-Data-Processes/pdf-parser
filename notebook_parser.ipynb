{
 "cells": [
  {
   "cell_type": "code",
   "execution_count": 1,
   "metadata": {},
   "outputs": [],
   "source": [
    "import json\n",
    "import os\n",
    "from typing import Dict, Any\n",
    "\n",
    "\n",
    "template_name: str = \"barclays_student\"\n",
    "identifier: str = \"march\"       \n",
    "\n",
    "template_path: str = os.path.join(\"src\", \"templates\", f\"{template_name}_template.json\")\n",
    "pdf_data_path: str = os.path.join(\"src\", \"pdf_data\", f\"{template_name}_{identifier}_pdf_data.json\")\n",
    "\n",
    "template: Dict[str, Any] = json.load(open(template_path))\n",
    "pdf_data: Dict[str, Any] = json.load(open(pdf_data_path))\n",
    "\n",
    "output_data_path: str = os.path.join(\"src\", \"outputs\", f\"{template_name}_{identifier}_output.json\")\n",
    "\n"
   ]
  },
  {
   "cell_type": "code",
   "execution_count": 2,
   "metadata": {},
   "outputs": [],
   "source": [
    "from src.parser import Parser\n",
    "from datetime import datetime\n",
    "import uuid\n",
    "\n",
    "def parse_pdf(template: Dict[str, Any], pdf_data: Dict[str, Any]) -> Dict[str, Any]:\n",
    "        \n",
    "    forms = []\n",
    "    tables = []\n",
    "    number_of_pages = len(pdf_data[\"pages\"])\n",
    "\n",
    "    for page_rule in template[\"pages\"]:\n",
    "        page_indexes = Parser().page_number_converter(page_rule[\"page_numbers\"], number_of_pages)\n",
    "        for page_index in page_indexes:\n",
    "            if \"forms\" in page_rule and len(page_rule[\"forms\"]) > 0:\n",
    "                for rule_id in page_rule[\"forms\"]:\n",
    "                    try:\n",
    "                        form = Parser().get_output_data_from_form_rule(rule_id, page_index, pdf_data, template)\n",
    "                        forms.append(form)\n",
    "                    except IndexError:\n",
    "                        print(f\"Rule ID '{rule_id}' not found in template rules or page index '{page_index}' is out of range.\")\n",
    "            if \"tables\" in page_rule and len(page_rule[\"tables\"]) > 0:\n",
    "                for rule_id in page_rule[\"tables\"]:\n",
    "                    try:\n",
    "                        table = Parser().get_output_data_from_table_rule(rule_id, page_index, pdf_data, template)\n",
    "                        tables.append(table)\n",
    "                    except IndexError:\n",
    "                        print(f\"Rule ID '{rule_id}' not found in template rules or page index '{page_index}' is out of range.\")\n",
    "\n",
    "    output = {\n",
    "  \"metadata\": {\n",
    "    \"document_id\": str(uuid.uuid4()),\n",
    "    \"parsed_at\": datetime.now().strftime(\"%Y-%m-%dT%H:%M:%S\"),\n",
    "    \"number_of_pages\": number_of_pages\n",
    "  },\n",
    "  \"pages\": [\n",
    "    {\n",
    "      \"forms\": forms,\n",
    "      \"tables\": tables\n",
    "    }\n",
    "  ]\n",
    "}\n",
    "    \n",
    "    return output\n"
   ]
  },
  {
   "cell_type": "code",
   "execution_count": 3,
   "metadata": {},
   "outputs": [],
   "source": [
    "output = parse_pdf(template, pdf_data)"
   ]
  },
  {
   "cell_type": "code",
   "execution_count": 4,
   "metadata": {},
   "outputs": [
    {
     "data": {
      "text/plain": [
       "{'metadata': {'document_id': '83412c46-2b8f-41ad-a218-e1a942c87f19',\n",
       "  'parsed_at': '2024-12-03T09:15:58',\n",
       "  'number_of_pages': 5},\n",
       " 'pages': [{'forms': [{'sort_code': ''},\n",
       "    {'account_number': '23.00'},\n",
       "    {'customer_name': '60.00'},\n",
       "    {'start_balance': ''},\n",
       "    {'money_in': ''},\n",
       "    {'money_out': ''},\n",
       "    {'end_balance': ''},\n",
       "    {'overdraft_limit': ''}],\n",
       "   'tables': [{'table_rule_id': 'transactions_first_page'},\n",
       "    {'table_rule_id': 'transactions_second_page_onwards'},\n",
       "    {'table_rule_id': 'transactions_second_page_onwards'}]}]}"
      ]
     },
     "execution_count": 4,
     "metadata": {},
     "output_type": "execute_result"
    }
   ],
   "source": [
    "output"
   ]
  },
  {
   "cell_type": "code",
   "execution_count": 5,
   "metadata": {},
   "outputs": [],
   "source": [
    "import json\n",
    "\n",
    "with open(output_data_path, 'w') as json_file:\n",
    "    json.dump(output, json_file, indent=4)\n"
   ]
  },
  {
   "cell_type": "code",
   "execution_count": null,
   "metadata": {},
   "outputs": [],
   "source": []
  }
 ],
 "metadata": {
  "kernelspec": {
   "display_name": "venv",
   "language": "python",
   "name": "python3"
  },
  "language_info": {
   "codemirror_mode": {
    "name": "ipython",
    "version": 3
   },
   "file_extension": ".py",
   "mimetype": "text/x-python",
   "name": "python",
   "nbconvert_exporter": "python",
   "pygments_lexer": "ipython3",
   "version": "3.11.0"
  }
 },
 "nbformat": 4,
 "nbformat_minor": 2
}
