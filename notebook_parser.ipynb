{
 "cells": [
  {
   "cell_type": "code",
   "execution_count": 1,
   "metadata": {},
   "outputs": [],
   "source": [
    "import json\n",
    "import os\n",
    "from typing import Dict, Any\n",
    "\n",
    "\n",
    "class PDFParser:\n",
    "    def parse(\n",
    "        self, template: Dict[str, Any], pdf_data: Dict[str, Any]\n",
    "    ) -> Dict[str, Any]:\n",
    "        pass\n",
    "\n",
    "\n",
    "template_path: str = os.path.join(\"src\", \"templates\", \"barclays_template.json\")\n",
    "pdf_data_path: str = os.path.join(\"src\", \"pdf_data\", \"barclays_pdf_data.json\")\n",
    "\n",
    "template: Dict[str, Any] = json.load(open(template_path))\n",
    "pdf_data: Dict[str, Any] = json.load(open(pdf_data_path))\n",
    "\n",
    "parser: PDFParser = PDFParser()\n",
    "output_generated: Dict[str, Any] = parser.parse(template, pdf_data)\n",
    "\n",
    "output_data = json.load(open(\"src/outputs/barclays_apr_2_output.json\"))\n"
   ]
  },
  {
   "cell_type": "code",
   "execution_count": 2,
   "metadata": {},
   "outputs": [],
   "source": [
    "# Create a FormParser"
   ]
  },
  {
   "cell_type": "code",
   "execution_count": 3,
   "metadata": {},
   "outputs": [],
   "source": [
    "from typing import List, Union\n",
    "\n",
    "def page_number_converter(page_numbers: str, number_of_pages: int) -> List[int]:    \n",
    "    if \":\" in page_numbers:\n",
    "        left_index = int(page_numbers.split(\":\")[0])\n",
    "        right_index = int(page_numbers.split(\":\")[1])\n",
    "    else:\n",
    "        index = int(page_numbers)\n",
    "        if index >= 0:\n",
    "            index = index - 1\n",
    "        elif index < 0:\n",
    "            index = number_of_pages + index\n",
    "        return [index]\n",
    "\n",
    "    if left_index > 0:\n",
    "        left_index -= 1\n",
    "    if right_index > 0:\n",
    "        right_index -= 1\n",
    "\n",
    "    if left_index < 0:\n",
    "        left_index = number_of_pages + left_index + 1\n",
    "    if right_index < 0:\n",
    "        right_index = number_of_pages + right_index + 1\n",
    "\n",
    "    if left_index == right_index:\n",
    "        return [left_index]\n",
    "    \n",
    "    return list(range(left_index, right_index))\n"
   ]
  },
  {
   "cell_type": "code",
   "execution_count": 4,
   "metadata": {},
   "outputs": [
    {
     "name": "stdout",
     "output_type": "stream",
     "text": [
      "{'sort_code': '20-44-51'}\n",
      "{'account_number': '13415759'}\n",
      "{'customer_name': 'Miss Meghan Victoria Thorneloe'}\n",
      "{'start_balance': '£73.72'}\n",
      "{'money_in': ''}\n",
      "{'money_out': ''}\n",
      "{'end_balance': ''}\n",
      "{'overdraft_limit': ''}\n"
     ]
    }
   ],
   "source": [
    "from src.parser import FormParser\n",
    "\n",
    "for page_rule in template[\"pages\"]:\n",
    "    page_indexes = page_number_converter(page_rule[\"page_numbers\"], len(pdf_data[\"pages\"]))\n",
    "    for page_index in page_indexes:\n",
    "        if \"forms\" in page_rule and len(page_rule[\"forms\"]) > 0:\n",
    "            for rule_id in page_rule[\"forms\"]:\n",
    "                try:\n",
    "                    output_data_for_rule = FormParser().get_output_data_for_rule(rule_id, page_index, pdf_data, template)\n",
    "                    print(output_data_for_rule)\n",
    "                except IndexError:\n",
    "                    print(f\"Rule ID '{rule_id}' not found in template rules or page index '{page_index}' is out of range.\")\n"
   ]
  },
  {
   "cell_type": "code",
   "execution_count": 5,
   "metadata": {},
   "outputs": [],
   "source": [
    "from src.parser import FormParser\n",
    "\n",
    "page_index = 1\n",
    "output_data_for_rule = FormParser().get_output_data_for_rule(\"start_balance\", page_index, pdf_data, template)"
   ]
  },
  {
   "cell_type": "code",
   "execution_count": 6,
   "metadata": {},
   "outputs": [
    {
     "data": {
      "text/plain": [
       "{'start_balance': '£73.72'}"
      ]
     },
     "execution_count": 6,
     "metadata": {},
     "output_type": "execute_result"
    }
   ],
   "source": [
    "output_data_for_rule"
   ]
  },
  {
   "cell_type": "code",
   "execution_count": 7,
   "metadata": {},
   "outputs": [
    {
     "name": "stdout",
     "output_type": "stream",
     "text": [
      "{'rule_id': 'account_number', 'type': 'form', 'config': {'field_name': 'account_number', 'coordinates': {'top_left': {'x': 0.81, 'y': 0.115}, 'bottom_right': {'x': 0.88, 'y': 0.128}}, 'type': 'text'}}\n"
     ]
    },
    {
     "data": {
      "text/plain": [
       "[{'text': '13415759',\n",
       "  'bounding_box': {'coordinates': {'top_left': {'x': 484.75, 'y': 99.0},\n",
       "    'bottom_right': {'x': 520.4, 'y': 107.0}},\n",
       "   'decimal_coordinates': {'top_left': {'x': 0.814706, 'y': 0.117577},\n",
       "    'bottom_right': {'x': 0.874622, 'y': 0.127078}}}}]"
      ]
     },
     "execution_count": 7,
     "metadata": {},
     "output_type": "execute_result"
    }
   ],
   "source": [
    "page_data = pdf_data[\"pages\"][page_index][\"content\"]\n",
    "\n",
    "rule = template[\"rules\"][1]\n",
    "\n",
    "print(rule)\n",
    "coordinates = rule[\"config\"][\"coordinates\"]\n",
    "FormParser().get_items_in_bounding_box(page_data, coordinates)"
   ]
  },
  {
   "cell_type": "code",
   "execution_count": null,
   "metadata": {},
   "outputs": [],
   "source": []
  }
 ],
 "metadata": {
  "kernelspec": {
   "display_name": "venv",
   "language": "python",
   "name": "python3"
  },
  "language_info": {
   "codemirror_mode": {
    "name": "ipython",
    "version": 3
   },
   "file_extension": ".py",
   "mimetype": "text/x-python",
   "name": "python",
   "nbconvert_exporter": "python",
   "pygments_lexer": "ipython3",
   "version": "3.11.0"
  }
 },
 "nbformat": 4,
 "nbformat_minor": 2
}
