{
 "cells": [
  {
   "cell_type": "code",
   "execution_count": 12,
   "metadata": {},
   "outputs": [],
   "source": [
    "import json\n",
    "import os\n",
    "from typing import Dict, Any\n",
    "\n",
    "\n",
    "class PDFParser:\n",
    "    def parse(\n",
    "        self, template: Dict[str, Any], pdf_data: Dict[str, Any]\n",
    "    ) -> Dict[str, Any]:\n",
    "        pass\n",
    "\n",
    "\n",
    "template_path: str = os.path.join(\"src\", \"templates\", \"barclays_template.json\")\n",
    "pdf_data_path: str = os.path.join(\"src\", \"pdf_data\", \"barclays_pdf_data.json\")\n",
    "\n",
    "template: Dict[str, Any] = json.load(open(template_path))\n",
    "pdf_data: Dict[str, Any] = json.load(open(pdf_data_path))\n",
    "\n",
    "parser: PDFParser = PDFParser()\n",
    "output_generated: Dict[str, Any] = parser.parse(template, pdf_data)\n",
    "\n",
    "output_data = json.load(open(\"src/outputs/barclays_output.json\"))\n"
   ]
  },
  {
   "cell_type": "code",
   "execution_count": 13,
   "metadata": {},
   "outputs": [],
   "source": [
    "# Create a FormParser"
   ]
  },
  {
   "cell_type": "code",
   "execution_count": 14,
   "metadata": {},
   "outputs": [
    {
     "data": {
      "text/plain": [
       "[{'page_numbers': ['1'],\n",
       "  'forms': ['customer_details', 'sort_code', 'account_number']},\n",
       " {'page_numbers': ['2'],\n",
       "  'forms': ['start_balance',\n",
       "   'money_in',\n",
       "   'money_out',\n",
       "   'end_balance',\n",
       "   'overdraft_limit']},\n",
       " {'page_numbers': ['2-(-2)'],\n",
       "  'forms': [],\n",
       "  'tables': ['transactions_page_2_onwards']},\n",
       " {'page_numbers': ['-1'], 'ignore': True}]"
      ]
     },
     "execution_count": 14,
     "metadata": {},
     "output_type": "execute_result"
    }
   ],
   "source": []
  },
  {
   "cell_type": "code",
   "execution_count": 15,
   "metadata": {},
   "outputs": [],
   "source": []
  },
  {
   "cell_type": "code",
   "execution_count": 27,
   "metadata": {},
   "outputs": [],
   "source": [
    "def get_items_in_bounding_box(page_data, coordinates):\n",
    "    items_in_box = []\n",
    "    for item in page_data:\n",
    "        bounding_box = item[\"bounding_box\"][\"decimal_coordinates\"]\n",
    "        if (\n",
    "            bounding_box[\"top_left\"][\"x\"] >= coordinates[\"top_left\"][\"x\"]\n",
    "            and bounding_box[\"top_left\"][\"y\"] >= coordinates[\"top_left\"][\"y\"]\n",
    "            and bounding_box['bottom_right']['x'] <= coordinates['bottom_right']['x']\n",
    "            and bounding_box['bottom_right']['y'] <= coordinates['bottom_right']['y']\n",
    "        ):\n",
    "            items_in_box.append(item)\n",
    "    return items_in_box\n",
    "\n",
    "\n",
    "\n",
    "def get_text_from_items(items):\n",
    "    return \"\".join([item[\"text\"] for item in items])\n",
    "\n",
    "\n",
    "def get_text_from_page(page_content, coordinates):\n",
    "    items_within_coordinates = get_items_in_bounding_box(page_content, coordinates)\n",
    "    return get_text_from_items(items_within_coordinates)\n",
    "\n",
    "\n",
    "def get_output_data_for_rule(form_rule, page_number):\n",
    "    coordinates = form_rule[\"config\"][\"coordinates\"]\n",
    "    page_content = pdf_data[\"pages\"][page_number-1][\"content\"]\n",
    "    return {form_rule[\"config\"][\"field_name\"]: get_text_from_page(page_content, coordinates)}"
   ]
  },
  {
   "cell_type": "code",
   "execution_count": 41,
   "metadata": {},
   "outputs": [
    {
     "name": "stdout",
     "output_type": "stream",
     "text": [
      "{'sort_code': '20-44-51'}\n"
     ]
    }
   ],
   "source": [
    "page_number = 1\n",
    "\n",
    "form_rule = template[\"rules\"][0]\n",
    "\n",
    "\n",
    "\n",
    "output_data_for_rule = get_output_data_for_rule(form_rule, page_number)\n"
   ]
  },
  {
   "cell_type": "code",
   "execution_count": null,
   "metadata": {},
   "outputs": [],
   "source": []
  }
 ],
 "metadata": {
  "kernelspec": {
   "display_name": "venv",
   "language": "python",
   "name": "python3"
  },
  "language_info": {
   "codemirror_mode": {
    "name": "ipython",
    "version": 3
   },
   "file_extension": ".py",
   "mimetype": "text/x-python",
   "name": "python",
   "nbconvert_exporter": "python",
   "pygments_lexer": "ipython3",
   "version": "3.11.0"
  }
 },
 "nbformat": 4,
 "nbformat_minor": 2
}
