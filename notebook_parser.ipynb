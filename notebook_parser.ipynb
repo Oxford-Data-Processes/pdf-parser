{
 "cells": [
  {
   "cell_type": "code",
   "execution_count": 5,
   "metadata": {},
   "outputs": [],
   "source": [
    "import json\n",
    "import os\n",
    "from typing import Dict, Any\n",
    "\n",
    "\n",
    "class PDFParser:\n",
    "    def parse(\n",
    "        self, template: Dict[str, Any], pdf_data: Dict[str, Any]\n",
    "    ) -> Dict[str, Any]:\n",
    "        pass\n",
    "\n",
    "\n",
    "template_path: str = os.path.join(\"src\", \"templates\", \"barclays_template.json\")\n",
    "pdf_data_path: str = os.path.join(\"src\", \"pdf_data\", \"barclays_pdf_data.json\")\n",
    "\n",
    "template: Dict[str, Any] = json.load(open(template_path))\n",
    "pdf_data: Dict[str, Any] = json.load(open(pdf_data_path))\n",
    "\n",
    "parser: PDFParser = PDFParser()\n",
    "output_generated: Dict[str, Any] = parser.parse(template, pdf_data)\n",
    "\n",
    "output_data = json.load(open(\"src/outputs/barclays_output.json\"))\n"
   ]
  },
  {
   "cell_type": "code",
   "execution_count": null,
   "metadata": {},
   "outputs": [],
   "source": [
    "# Create a FormParser"
   ]
  },
  {
   "cell_type": "code",
   "execution_count": 12,
   "metadata": {},
   "outputs": [
    {
     "data": {
      "text/plain": [
       "[{'page_numbers': ['1'],\n",
       "  'forms': ['customer_details', 'sort_code', 'account_number']},\n",
       " {'page_numbers': ['2'],\n",
       "  'forms': ['start_balance',\n",
       "   'money_in',\n",
       "   'money_out',\n",
       "   'end_balance',\n",
       "   'overdraft_limit']},\n",
       " {'page_numbers': ['2-(-2)'],\n",
       "  'forms': [],\n",
       "  'tables': ['transactions_page_2_onwards']},\n",
       " {'page_numbers': ['-1'], 'ignore': True}]"
      ]
     },
     "execution_count": 12,
     "metadata": {},
     "output_type": "execute_result"
    }
   ],
   "source": [
    "template[\"pages\"]"
   ]
  },
  {
   "cell_type": "code",
   "execution_count": 9,
   "metadata": {},
   "outputs": [],
   "source": [
    "page_number = 1\n",
    "form_rule = template[\"rules\"][0]"
   ]
  },
  {
   "cell_type": "code",
   "execution_count": 10,
   "metadata": {},
   "outputs": [
    {
     "data": {
      "text/plain": [
       "{'rule_id': 'sort_code',\n",
       " 'type': 'form',\n",
       " 'config': {'field_name': 'sort_code',\n",
       "  'coordinates': {'top_left': {'x': 0.45483, 'y': 0.605242},\n",
       "   'bottom_right': {'x': 0.495013, 'y': 0.617742}},\n",
       "  'type': 'text'}}"
      ]
     },
     "execution_count": 10,
     "metadata": {},
     "output_type": "execute_result"
    }
   ],
   "source": [
    "form_rule"
   ]
  },
  {
   "cell_type": "code",
   "execution_count": null,
   "metadata": {},
   "outputs": [],
   "source": []
  }
 ],
 "metadata": {
  "kernelspec": {
   "display_name": "venv",
   "language": "python",
   "name": "python3"
  },
  "language_info": {
   "codemirror_mode": {
    "name": "ipython",
    "version": 3
   },
   "file_extension": ".py",
   "mimetype": "text/x-python",
   "name": "python",
   "nbconvert_exporter": "python",
   "pygments_lexer": "ipython3",
   "version": "3.11.0"
  }
 },
 "nbformat": 4,
 "nbformat_minor": 2
}
